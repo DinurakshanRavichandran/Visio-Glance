{
  "nbformat": 4,
  "nbformat_minor": 0,
  "metadata": {
    "colab": {
      "provenance": [],
      "authorship_tag": "ABX9TyNgSfdAau39LuLotPA3/65I",
      "include_colab_link": true
    },
    "kernelspec": {
      "name": "python3",
      "display_name": "Python 3"
    },
    "language_info": {
      "name": "python"
    }
  },
  "cells": [
    {
      "cell_type": "markdown",
      "metadata": {
        "id": "view-in-github",
        "colab_type": "text"
      },
      "source": [
        "<a href=\"https://colab.research.google.com/github/DinurakshanRavichandran/Visio-Glance/blob/XAI/Grad_cam_for_custom_one.ipynb\" target=\"_parent\"><img src=\"https://colab.research.google.com/assets/colab-badge.svg\" alt=\"Open In Colab\"/></a>"
      ]
    },
    {
      "cell_type": "code",
      "execution_count": null,
      "metadata": {
        "id": "-bds5rFngnpf"
      },
      "outputs": [],
      "source": [
        "import numpy as np\n",
        "import tensorflow as tf\n",
        "import matplotlib.pyplot as plt\n",
        "import cv2\n",
        "from tensorflow.keras.preprocessing.image import load_img, img_to_array\n",
        "\n",
        "# Load the trained model\n",
        "model = tf.keras.models.load_model('/content/custom_eye_disease_model.h5', compile=False)\n",
        "\n",
        "# Select a random index from the validation dataset\n",
        "random_index = random.randint(0, len(val_generator.filepaths) - 1)\n",
        "sample_image_path = val_generator.filepaths[random_index]\n",
        "\n",
        "# Load and preprocess the image\n",
        "img = load_img(sample_image_path, target_size=(IMG_SIZE, IMG_SIZE))\n",
        "img_array = img_to_array(img) / 255.0  # Normalize\n",
        "img_array = np.expand_dims(img_array, axis=0)\n",
        "\n",
        "# Print the selected index\n",
        "print(f\"Selected validation data index: {random_index}\")\n",
        "\n",
        "# Display the image\n",
        "plt.imshow(img)\n",
        "plt.title(f\"Selected Image (Index: {random_index})\")\n",
        "plt.axis('off')\n",
        "plt.show()\n",
        "\n",
        "# Get the last convolutional layer from one of the base models\n",
        "# Use the last convolutional layer of the VGG16 model\n",
        "last_conv_layer_name = \"block5_conv3\"  # Last convolutional layer in VGG16\n",
        "\n",
        "# Create a Grad-CAM model\n",
        "grad_model = tf.keras.models.Model(\n",
        "    inputs=[model.inputs],  # Dual inputs\n",
        "    outputs=[model.get_layer(last_conv_layer_name).output, model.output]\n",
        ")\n",
        "\n",
        "# Compute gradients for the last convolutional layer\n",
        "with tf.GradientTape() as tape:\n",
        "    conv_outputs, predictions = grad_model([img_array, img_array])  # Dual inputs\n",
        "    predicted_class = tf.argmax(predictions[0])  # Get the predicted class\n",
        "    loss = predictions[:, predicted_class]  # Loss for the predicted class\n",
        "\n",
        "# Gradients of the predicted class with respect to the output of the last convolutional layer\n",
        "grads = tape.gradient(loss, conv_outputs)[0]\n",
        "\n",
        "# Pool the gradients over all the axes leaving out the channel dimension\n",
        "pooled_grads = tf.reduce_mean(grads, axis=(0, 1))\n",
        "\n",
        "# Multiply each channel in the feature map array by the gradient importance\n",
        "conv_outputs = conv_outputs[0]\n",
        "heatmap = conv_outputs @ pooled_grads[..., tf.newaxis]\n",
        "heatmap = tf.squeeze(heatmap)\n",
        "\n",
        "# Normalize the heatmap\n",
        "heatmap = tf.maximum(heatmap, 0) / tf.reduce_max(heatmap)\n",
        "\n",
        "# Resize the heatmap to the original image size\n",
        "heatmap = cv2.resize(heatmap.numpy(), (IMG_SIZE, IMG_SIZE))\n",
        "\n",
        "# Convert heatmap to RGB\n",
        "heatmap = np.uint8(255 * heatmap)\n",
        "heatmap = cv2.applyColorMap(heatmap, cv2.COLORMAP_JET)\n",
        "\n",
        "# Superimpose the heatmap on the original image\n",
        "superimposed_img = cv2.addWeighted(\n",
        "    cv2.cvtColor(np.uint8(np.array(img) * 255), cv2.COLOR_RGB2BGR), 0.6,  # Convert to BGR\n",
        "    heatmap, 0.4, 0\n",
        ")\n",
        "\n",
        "# Convert back to RGB for display\n",
        "superimposed_img = cv2.cvtColor(superimposed_img, cv2.COLOR_BGR2RGB)\n",
        "\n",
        "# Plot the results\n",
        "plt.figure(figsize=(10, 5))\n",
        "\n",
        "# Original Image\n",
        "plt.subplot(1, 2, 1)\n",
        "plt.imshow(img)\n",
        "plt.title(\"Original Image\")\n",
        "plt.axis('off')\n",
        "\n",
        "# Grad-CAM Heatmap\n",
        "plt.subplot(1, 2, 2)\n",
        "plt.imshow(superimposed_img)\n",
        "plt.title(f\"Grad-CAM (Class: {CATEGORIES[predicted_class]})\")\n",
        "plt.axis('off')\n",
        "\n",
        "plt.show()"
      ]
    }
  ]
}