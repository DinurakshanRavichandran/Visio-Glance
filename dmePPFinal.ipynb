{
  "nbformat": 4,
  "nbformat_minor": 0,
  "metadata": {
    "colab": {
      "provenance": [],
      "authorship_tag": "ABX9TyP8XZBWb5sRk7Vez5+E0lDf",
      "include_colab_link": true
    },
    "kernelspec": {
      "name": "python3",
      "display_name": "Python 3"
    },
    "language_info": {
      "name": "python"
    }
  },
  "cells": [
    {
      "cell_type": "markdown",
      "metadata": {
        "id": "view-in-github",
        "colab_type": "text"
      },
      "source": [
        "<a href=\"https://colab.research.google.com/github/DinurakshanRavichandran/Visio-Glance/blob/Pre-Processed-Datasets-NLP/dmePPFinal.ipynb\" target=\"_parent\"><img src=\"https://colab.research.google.com/assets/colab-badge.svg\" alt=\"Open In Colab\"/></a>"
      ]
    },
    {
      "cell_type": "code",
      "execution_count": 1,
      "metadata": {
        "id": "9f0QThCzCuKG",
        "colab": {
          "base_uri": "https://localhost:8080/"
        },
        "outputId": "a7e2ba9a-3df9-416a-dcc7-825daa8fe6a5"
      },
      "outputs": [
        {
          "output_type": "stream",
          "name": "stdout",
          "text": [
            "Mounted at /content/drive\n"
          ]
        }
      ],
      "source": [
        "#mount google drive\n",
        "from google.colab import drive\n",
        "drive.mount('/content/drive')"
      ]
    },
    {
      "cell_type": "code",
      "source": [
        "import pandas as pd\n",
        "from sklearn.model_selection import train_test_split\n",
        "from sklearn.preprocessing import LabelEncoder, MinMaxScaler\n",
        "from imblearn.over_sampling import SMOTE\n",
        "import re\n",
        "\n",
        "# Load the dataset\n",
        "df = pd.read_csv('/content/drive/MyDrive/DSGP PROJECT 29/DATASETS/Synthetic_DME_Dataset.csv')\n",
        "\n",
        "# Step 1: Handle Missing Values\n",
        "# Check for missing values and replace them if any\n",
        "df.fillna(df.mode().iloc[0], inplace=True)\n",
        "\n",
        "# Step 2: Feature Engineering\n",
        "# For this dataset, feature engineering might not be extensive without specific domain insights.\n",
        "# An example could be deriving categorizations or groups from existing data if necessary.\n",
        "\n",
        "# Step 3: Text Processing\n",
        "# Clean and process the 'Visual Symptoms' text data\n",
        "def clean_text(text):\n",
        "    text = text.lower()  # convert to lower case\n",
        "    text = re.sub(r'\\W', ' ', text)  # remove all non-word characters\n",
        "    text = re.sub(r'\\s+', ' ', text, flags=re.I)  # replace multiple spaces with a single space\n",
        "    return text.strip()\n",
        "\n",
        "df['Visual Symptoms'] = df['Visual Symptoms'].apply(clean_text)\n",
        "\n",
        "# Step 4: Encode Categorical Data\n",
        "# Using LabelEncoder for categorical features\n",
        "label_encoders = {}\n",
        "for column in ['Visual Acuity Test Results', 'Lens Status', 'Visual Symptoms']:\n",
        "    le = LabelEncoder()\n",
        "    df[column] = le.fit_transform(df[column])\n",
        "    label_encoders[column] = le\n",
        "\n",
        "# Encode the target variable 'Diagnosis'\n",
        "target_encoder = LabelEncoder()\n",
        "df['Diagnosis'] = target_encoder.fit_transform(df['Diagnosis'])\n",
        "\n",
        "# Step 5: Normalize/Scale Numerical Data\n",
        "# Normalizing the 'Age' and 'Intraocular Pressure (IOP)' columns\n",
        "scaler = MinMaxScaler()\n",
        "df[['Age', 'Intraocular Pressure (IOP)']] = scaler.fit_transform(df[['Age', 'Intraocular Pressure (IOP)']])\n",
        "\n",
        "# Step 6: Handle Class Imbalance\n",
        "# Using SMOTE to handle class imbalance in the 'Diagnosis' column\n",
        "X = df.drop('Diagnosis', axis=1)\n",
        "y = df['Diagnosis']\n",
        "smote = SMOTE()\n",
        "X_res, y_res = smote.fit_resample(X, y)\n",
        "\n",
        "# Reconstruct the DataFrame after resampling\n",
        "df_resampled = pd.DataFrame(X_res, columns=X.columns)\n",
        "df_resampled['Diagnosis'] = y_res\n",
        "\n",
        "# Step 7: Save Preprocessed Data\n",
        "# Save the final preprocessed data to a new CSV file\n",
        "preprocessed_file_path = '/content/drive/MyDrive/DSGP PROJECT 29/FINAL MODEL/Preprocessed_DME_Dataset.csv'\n",
        "df_resampled.to_csv(preprocessed_file_path, index=False)\n",
        "\n",
        "preprocessed_file_path\n"
      ],
      "metadata": {
        "colab": {
          "base_uri": "https://localhost:8080/",
          "height": 35
        },
        "id": "1J_9V9MZrWWH",
        "outputId": "ee97fca2-ee65-4f2d-d97a-eb5e1ed6eadf"
      },
      "execution_count": 2,
      "outputs": [
        {
          "output_type": "execute_result",
          "data": {
            "text/plain": [
              "'/content/drive/MyDrive/DSGP PROJECT 29/FINAL MODEL/Preprocessed_DME_Dataset.csv'"
            ],
            "application/vnd.google.colaboratory.intrinsic+json": {
              "type": "string"
            }
          },
          "metadata": {},
          "execution_count": 2
        }
      ]
    }
  ]
}