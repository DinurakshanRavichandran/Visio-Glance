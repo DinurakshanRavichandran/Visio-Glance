{
  "nbformat": 4,
  "nbformat_minor": 0,
  "metadata": {
    "colab": {
      "provenance": [],
      "authorship_tag": "ABX9TyPB1T6GnFgHjH/ZXOLePPor",
      "include_colab_link": true
    },
    "kernelspec": {
      "name": "python3",
      "display_name": "Python 3"
    },
    "language_info": {
      "name": "python"
    }
  },
  "cells": [
    {
      "cell_type": "markdown",
      "metadata": {
        "id": "view-in-github",
        "colab_type": "text"
      },
      "source": [
        "<a href=\"https://colab.research.google.com/github/DinurakshanRavichandran/Visio-Glance/blob/Pre-Processed-Datasets-NLP/dmePPFinal.ipynb\" target=\"_parent\"><img src=\"https://colab.research.google.com/assets/colab-badge.svg\" alt=\"Open In Colab\"/></a>"
      ]
    },
    {
      "cell_type": "code",
      "execution_count": 1,
      "metadata": {
        "id": "9f0QThCzCuKG",
        "colab": {
          "base_uri": "https://localhost:8080/"
        },
        "outputId": "ccf23157-5382-432a-d4bc-4c9765ad375f"
      },
      "outputs": [
        {
          "output_type": "stream",
          "name": "stdout",
          "text": [
            "Mounted at /content/drive\n"
          ]
        }
      ],
      "source": [
        "#mount google drive\n",
        "from google.colab import drive\n",
        "drive.mount('/content/drive')"
      ]
    },
    {
      "cell_type": "code",
      "source": [
        "import pandas as pd\n",
        "import numpy as np\n",
        "from sklearn.preprocessing import OneHotEncoder\n",
        "from imblearn.over_sampling import SMOTE\n",
        "from imblearn.under_sampling import RandomUnderSampler\n",
        "\n",
        "# Load the dataset\n",
        "file_path = '/content/drive/MyDrive/PROJECT 29/DATASETS/Synthetic_DME_Dataset.csv'\n",
        "df = pd.read_csv(file_path)\n",
        "\n",
        "# Remove duplicate rows\n",
        "df.drop_duplicates(inplace=True)\n",
        "\n",
        "# Print class distribution before balancing\n",
        "print(\"Before balancing:\")\n",
        "print(df['Diagnosis'].value_counts())\n",
        "\n",
        "# Handle missing values\n",
        "df.fillna(df.mode().iloc[0], inplace=True)\n",
        "\n",
        "# Simplified Text Processing for 'Visual Symptoms'\n",
        "symptoms = [\"floaters\", \"vision loss area\", \"distorted vision\", \"color vision changes\", \"blurred vision\"]\n",
        "\n",
        "# Create binary columns for each symptom\n",
        "for symptom in symptoms:\n",
        "    df[symptom] = df['Visual Symptoms'].str.lower().str.contains(symptom, na=False).astype(int)\n",
        "\n",
        "# Rename 'Visual Symptoms' related columns with prefix\n",
        "renamed_columns = {symptom: f\"Visual Symptoms_{symptom}\" for symptom in symptoms}\n",
        "df.rename(columns=renamed_columns, inplace=True)\n",
        "\n",
        "# One-hot encoding for 'Visual Acuity Test Results' and 'Lens Status'\n",
        "df = pd.get_dummies(df, columns=['Visual Acuity Test Results', 'Lens Status'], drop_first=True)\n",
        "\n",
        "# Drop the original 'Visual Symptoms' column\n",
        "df.drop('Visual Symptoms', axis=1, inplace=True)\n",
        "\n",
        "# Encode the target variable 'Diagnosis'\n",
        "df['Diagnosis'] = df['Diagnosis'].map({'Yes': 1, 'No': 0})\n",
        "\n",
        "# Convert TRUE/FALSE values to 1/0 if any exist\n",
        "df = df.applymap(lambda x: 1 if x is True else (0 if x is False else x))\n",
        "\n",
        "# Define features and target\n",
        "X = df.drop('Diagnosis', axis=1)\n",
        "y = df['Diagnosis']\n",
        "\n",
        "# Define the desired sample size per class (~5,000 per class)\n",
        "desired_class_size = 5000\n",
        "\n",
        "# Step 1: Undersample the majority class (No DME) down to 5000\n",
        "undersample = RandomUnderSampler(sampling_strategy={0: desired_class_size}, random_state=42)\n",
        "X_under, y_under = undersample.fit_resample(X, y)\n",
        "\n",
        "# Step 2: Oversample the minority class (DME Present) up to 5000 using SMOTE\n",
        "smote = SMOTE(sampling_strategy={1: desired_class_size}, random_state=42)\n",
        "X_balanced, y_balanced = smote.fit_resample(X_under, y_under)\n",
        "\n",
        "# Reconstruct the DataFrame after resampling\n",
        "df_balanced = pd.DataFrame(X_balanced, columns=X.columns)\n",
        "df_balanced['Diagnosis'] = y_balanced.astype(int)  # Ensure it's an integer\n",
        "\n",
        "# Print class distribution after balancing\n",
        "print(\"\\nAfter balancing:\")\n",
        "print(df_balanced['Diagnosis'].value_counts())\n",
        "\n",
        "# Save Preprocessed Data\n",
        "preprocessed_file_path = '/content/drive/MyDrive/PROJECT 29/FINAL MODEL/Preprocessed_Balanced_DME_Dataset.csv'\n",
        "df_balanced.to_csv(preprocessed_file_path, index=False)\n",
        "\n",
        "print(\"Preprocessing completed and data saved to:\", preprocessed_file_path)\n",
        "\n",
        "# Print head of preprocessed dataset\n",
        "print(df_balanced.head())\n"
      ],
      "metadata": {
        "colab": {
          "base_uri": "https://localhost:8080/"
        },
        "id": "1J_9V9MZrWWH",
        "outputId": "97e46954-313d-49ba-b91a-229d2ce003b0"
      },
      "execution_count": 9,
      "outputs": [
        {
          "output_type": "stream",
          "name": "stdout",
          "text": [
            "Before balancing:\n",
            "Diagnosis\n",
            "No     8523\n",
            "Yes    1465\n",
            "Name: count, dtype: int64\n",
            "\n",
            "After balancing:\n",
            "Diagnosis\n",
            "0    5000\n",
            "1    5000\n",
            "Name: count, dtype: int64\n",
            "Preprocessing completed and data saved to: /content/drive/MyDrive/PROJECT 29/FINAL MODEL/Preprocessed_Balanced_DME_Dataset.csv\n",
            "   Age  Intraocular Pressure (IOP)  Visual Symptoms_floaters  \\\n",
            "0   36                          34                         1   \n",
            "1   31                          14                         0   \n",
            "2   54                          23                         0   \n",
            "3   83                          20                         0   \n",
            "4   32                          11                         0   \n",
            "\n",
            "   Visual Symptoms_vision loss area  Visual Symptoms_distorted vision  \\\n",
            "0                                 0                                 0   \n",
            "1                                 0                                 1   \n",
            "2                                 0                                 0   \n",
            "3                                 1                                 0   \n",
            "4                                 1                                 0   \n",
            "\n",
            "   Visual Symptoms_color vision changes  Visual Symptoms_blurred vision  \\\n",
            "0                                     0                               0   \n",
            "1                                     1                               0   \n",
            "2                                     1                               1   \n",
            "3                                     1                               0   \n",
            "4                                     1                               0   \n",
            "\n",
            "   Visual Acuity Test Results_20/20  Visual Acuity Test Results_20/200  \\\n",
            "0                                 0                                  0   \n",
            "1                                 0                                  1   \n",
            "2                                 1                                  0   \n",
            "3                                 0                                  0   \n",
            "4                                 0                                  1   \n",
            "\n",
            "   Visual Acuity Test Results_20/30  Visual Acuity Test Results_20/40  \\\n",
            "0                                 0                                 0   \n",
            "1                                 0                                 0   \n",
            "2                                 0                                 0   \n",
            "3                                 1                                 0   \n",
            "4                                 0                                 0   \n",
            "\n",
            "   Visual Acuity Test Results_20/50  Visual Acuity Test Results_20/60  \\\n",
            "0                                 0                                 0   \n",
            "1                                 0                                 0   \n",
            "2                                 0                                 0   \n",
            "3                                 0                                 0   \n",
            "4                                 0                                 0   \n",
            "\n",
            "   Visual Acuity Test Results_20/80  Lens Status_Cortical cataract  \\\n",
            "0                                 1                              0   \n",
            "1                                 0                              0   \n",
            "2                                 0                              1   \n",
            "3                                 0                              0   \n",
            "4                                 0                              0   \n",
            "\n",
            "   Lens Status_Normal  Lens Status_Nuclear cataract  \\\n",
            "0                   1                             0   \n",
            "1                   1                             0   \n",
            "2                   0                             0   \n",
            "3                   1                             0   \n",
            "4                   0                             0   \n",
            "\n",
            "   Lens Status_Posterior subcapsular cataract  Diagnosis  \n",
            "0                                           0          0  \n",
            "1                                           0          0  \n",
            "2                                           0          0  \n",
            "3                                           0          0  \n",
            "4                                           0          0  \n"
          ]
        },
        {
          "output_type": "stream",
          "name": "stderr",
          "text": [
            "<ipython-input-9-5ff1d3dceff3>:42: FutureWarning: DataFrame.applymap has been deprecated. Use DataFrame.map instead.\n",
            "  df = df.applymap(lambda x: 1 if x is True else (0 if x is False else x))\n"
          ]
        }
      ]
    },
    {
      "cell_type": "code",
      "source": [],
      "metadata": {
        "id": "M_Wo_qWFKmxk"
      },
      "execution_count": null,
      "outputs": []
    }
  ]
}