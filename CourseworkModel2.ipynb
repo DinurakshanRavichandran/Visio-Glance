{
  "cells": [
    {
      "cell_type": "markdown",
      "metadata": {
        "id": "view-in-github",
        "colab_type": "text"
      },
      "source": [
        "<a href=\"https://colab.research.google.com/github/DinurakshanRavichandran/Visio-Glance/blob/OCT-eye-disease-detection/CourseworkModel2.ipynb\" target=\"_parent\"><img src=\"https://colab.research.google.com/assets/colab-badge.svg\" alt=\"Open In Colab\"/></a>"
      ]
    },
    {
      "cell_type": "markdown",
      "source": [
        "# Model 1"
      ],
      "metadata": {
        "id": "CFL33XUlMNIV"
      }
    },
    {
      "cell_type": "markdown",
      "source": [
        "## Preprocessing and pipeline"
      ],
      "metadata": {
        "id": "s-S1izf9MyYp"
      }
    },
    {
      "cell_type": "markdown",
      "metadata": {
        "id": "1EGyJ6kfxehm"
      },
      "source": [
        "1. Set Up Your Environment"
      ]
    },
    {
      "cell_type": "code",
      "execution_count": null,
      "metadata": {
        "colab": {
          "base_uri": "https://localhost:8080/"
        },
        "id": "QLVYWsnOxiuS",
        "outputId": "93f9047d-f946-48df-d7fe-9c82e2d55fdc"
      },
      "outputs": [
        {
          "output_type": "stream",
          "name": "stdout",
          "text": [
            "Environment ready!\n"
          ]
        }
      ],
      "source": [
        "# Core Libraries\n",
        "import os\n",
        "import numpy as np\n",
        "import tensorflow as tf\n",
        "from tensorflow.keras.preprocessing.image import ImageDataGenerator\n",
        "from tensorflow.keras.models import load_model\n",
        "from tensorflow.keras.layers import Average\n",
        "from tensorflow.keras.models import Model\n",
        "from sklearn.utils.class_weight import compute_class_weight\n",
        "\n",
        "# For reproducibility\n",
        "import random\n",
        "random.seed(42)\n",
        "np.random.seed(42)\n",
        "tf.random.set_seed(42)\n",
        "\n",
        "print(\"Environment ready!\")\n"
      ]
    },
    {
      "cell_type": "code",
      "execution_count": null,
      "metadata": {
        "colab": {
          "base_uri": "https://localhost:8080/"
        },
        "id": "9GE3p7wiy38e",
        "outputId": "ade068ae-2809-42ae-ac6a-b80de36915ea"
      },
      "outputs": [
        {
          "output_type": "stream",
          "name": "stdout",
          "text": [
            "Dataset unzipped successfully!\n"
          ]
        }
      ],
      "source": [
        "import zipfile\n",
        "\n",
        "# Path to the zipped dataset in your Drive\n",
        "zip_path = '/content/drive/MyDrive/Machine learning/Dataset/OCT Dataset/Train/archive.zip'\n",
        "\n",
        "# Set extraction path in Colab\n",
        "extract_path = '/content/OCT_Dataset'\n",
        "\n",
        "# Unzipping the dataset\n",
        "with zipfile.ZipFile(zip_path, 'r') as zip_ref:\n",
        "    zip_ref.extractall(extract_path)\n",
        "\n",
        "print(\"Dataset unzipped successfully!\")\n",
        "\n"
      ]
    },
    {
      "cell_type": "markdown",
      "metadata": {
        "id": "QOp5CQG7xmCB"
      },
      "source": [
        "2. Data Preparation"
      ]
    },
    {
      "cell_type": "code",
      "execution_count": null,
      "metadata": {
        "id": "idz9gr8KzI76"
      },
      "outputs": [],
      "source": []
    },
    {
      "cell_type": "code",
      "execution_count": null,
      "metadata": {
        "colab": {
          "base_uri": "https://localhost:8080/"
        },
        "id": "0eJ73b0Py01u",
        "outputId": "38134bf1-fb8c-4bfd-b423-ef661c72416a"
      },
      "outputs": [
        {
          "output_type": "stream",
          "name": "stdout",
          "text": [
            "Training data limited to 8,000 images per class.\n"
          ]
        }
      ],
      "source": [
        "import os\n",
        "import random\n",
        "import shutil\n",
        "\n",
        "def limit_images_per_class(src_dir, dest_dir, max_images=8000):\n",
        "    \"\"\"\n",
        "    Copies a limited number of images from source to destination for each class.\n",
        "    Parameters:\n",
        "        src_dir (str): Source directory where the images are stored.\n",
        "        dest_dir (str): Destination directory to store the limited images.\n",
        "        max_images (int): Maximum number of images per class.\n",
        "    \"\"\"\n",
        "    # Ensure destination directory exists\n",
        "    if not os.path.exists(dest_dir):\n",
        "        os.makedirs(dest_dir)\n",
        "\n",
        "    # Iterate through each class folder in the source directory\n",
        "    for category in os.listdir(src_dir):\n",
        "        category_path = os.path.join(src_dir, category)\n",
        "        dest_category_path = os.path.join(dest_dir, category)\n",
        "\n",
        "        if not os.path.exists(dest_category_path):\n",
        "            os.makedirs(dest_category_path)\n",
        "\n",
        "        # Get list of images\n",
        "        images = [\n",
        "            os.path.join(category_path, img)\n",
        "            for img in os.listdir(category_path)\n",
        "            if img.endswith(('.jpeg', '.jpg', '.png'))\n",
        "        ]\n",
        "\n",
        "        # Shuffle and select limited images\n",
        "        random.shuffle(images)\n",
        "        limited_images = images[:max_images]\n",
        "\n",
        "        # Copy limited images to destination folder\n",
        "        for img_path in limited_images:\n",
        "            shutil.copy(img_path, os.path.join(dest_category_path, os.path.basename(img_path)))\n",
        "\n",
        "# Source and destination paths\n",
        "src_train_dir = '/content/OCT_Dataset/OCT2017 /train'\n",
        "dest_train_dir = '/content/OCT_Dataset/OCT2017 /train_limited'\n",
        "\n",
        "# Apply the function\n",
        "limit_images_per_class(src_train_dir, dest_train_dir, max_images=8000)\n",
        "\n",
        "print(\"Training data limited to 8,000 images per class.\")\n"
      ]
    },
    {
      "cell_type": "code",
      "execution_count": null,
      "metadata": {
        "id": "ILiQ0lqkx4mt"
      },
      "outputs": [],
      "source": [
        "train_dir = '/content/OCT_Dataset/OCT2017 /train_limited'\n",
        "val_dir = '/content/OCT_Dataset/OCT2017 /val'\n",
        "test_dir = '/content/OCT_Dataset/OCT2017 /test'\n"
      ]
    },
    {
      "cell_type": "markdown",
      "metadata": {
        "id": "1LDSowgyx7Uk"
      },
      "source": [
        "Define Data Generators"
      ]
    },
    {
      "cell_type": "code",
      "execution_count": null,
      "metadata": {
        "colab": {
          "base_uri": "https://localhost:8080/"
        },
        "id": "d9MJpgCkyAuq",
        "outputId": "b6cfedc5-4ad9-4574-82c5-fd92781849da"
      },
      "outputs": [
        {
          "output_type": "stream",
          "name": "stdout",
          "text": [
            "Found 83484 images belonging to 4 classes.\n",
            "Found 32 images belonging to 4 classes.\n",
            "Found 968 images belonging to 4 classes.\n",
            "Data generators with grayscale conversion created successfully.\n"
          ]
        }
      ],
      "source": [
        "import tensorflow as tf\n",
        "from tensorflow.keras.preprocessing.image import ImageDataGenerator\n",
        "import os\n",
        "\n",
        "# Preprocess grayscale images to RGB\n",
        "def preprocess_grayscale_to_rgb(image):\n",
        "    \"\"\"\n",
        "    Converts a grayscale image to RGB and applies normalization for EfficientNet.\n",
        "    \"\"\"\n",
        "    image = tf.image.decode_jpeg(image, channels=1)  # Decode as grayscale\n",
        "    image = tf.image.resize(image, [224, 224])      # Resize to target dimensions\n",
        "    image = tf.image.grayscale_to_rgb(image)        # Convert grayscale to RGB\n",
        "    image = tf.keras.applications.efficientnet.preprocess_input(image)  # Normalize for EfficientNet\n",
        "    return image\n",
        "\n",
        "# Wrap function for use in ImageDataGenerator\n",
        "def grayscale_to_rgb_preprocessing_function(image_path):\n",
        "    image = tf.io.read_file(image_path)\n",
        "    return preprocess_grayscale_to_rgb(image)\n",
        "\n",
        "# Create data generators\n",
        "def create_data_generators_with_grayscale_conversion(train_dir, val_dir, test_dir, img_height=224, img_width=224, batch_size=32):\n",
        "    \"\"\"\n",
        "    Creates data generators with grayscale-to-RGB conversion and augmentations.\n",
        "\n",
        "    Parameters:\n",
        "        train_dir (str): Path to the training directory.\n",
        "        val_dir (str): Path to the validation directory.\n",
        "        test_dir (str): Path to the testing directory.\n",
        "        img_height (int): Target image height (default: 224).\n",
        "        img_width (int): Target image width (default: 224).\n",
        "        batch_size (int): Batch size for generators (default: 32).\n",
        "\n",
        "    Returns:\n",
        "        tuple: (train_generator, val_generator, test_generator)\n",
        "    \"\"\"\n",
        "    # Training data generator with augmentation\n",
        "    train_datagen = ImageDataGenerator(\n",
        "        rotation_range=20,\n",
        "        width_shift_range=0.2,\n",
        "        height_shift_range=0.2,\n",
        "        shear_range=0.2,\n",
        "        zoom_range=0.2,\n",
        "        horizontal_flip=True,\n",
        "        fill_mode='nearest',\n",
        "        preprocessing_function=grayscale_to_rgb_preprocessing_function  # Apply grayscale-to-RGB preprocessing\n",
        "    )\n",
        "\n",
        "    # Validation and testing data generators (only normalization)\n",
        "    val_test_datagen = ImageDataGenerator(preprocessing_function=grayscale_to_rgb_preprocessing_function)\n",
        "\n",
        "    # Training data generator\n",
        "    train_generator = train_datagen.flow_from_directory(\n",
        "        train_dir,                  # Training directory\n",
        "        target_size=(img_height, img_width),  # Resize images\n",
        "        batch_size=batch_size,      # Batch size\n",
        "        class_mode='categorical'    # For multi-class classification\n",
        "    )\n",
        "\n",
        "    # Validation data generator\n",
        "    val_generator = val_test_datagen.flow_from_directory(\n",
        "        val_dir,                    # Validation directory\n",
        "        target_size=(img_height, img_width),  # Resize images\n",
        "        batch_size=batch_size,      # Batch size\n",
        "        class_mode='categorical'    # For multi-class classification\n",
        "    )\n",
        "\n",
        "    # Test data generator\n",
        "    test_generator = val_test_datagen.flow_from_directory(\n",
        "        test_dir,                   # Testing directory\n",
        "        target_size=(img_height, img_width),  # Resize images\n",
        "        batch_size=batch_size,      # Batch size\n",
        "        class_mode='categorical'    # For multi-class classification\n",
        "    )\n",
        "\n",
        "    print(\"Data generators with grayscale conversion created successfully.\")\n",
        "    return train_generator, val_generator, test_generator\n",
        "\n",
        "# Paths to dataset\n",
        "train_dir = '/content/OCT_Dataset/OCT2017 /train'\n",
        "val_dir = '/content/OCT_Dataset/OCT2017 /val'\n",
        "test_dir = '/content/OCT_Dataset/OCT2017 /test'\n",
        "\n",
        "# Generate the data generators\n",
        "train_generator, val_generator, test_generator = create_data_generators_with_grayscale_conversion(train_dir, val_dir, test_dir)\n"
      ]
    },
    {
      "cell_type": "markdown",
      "source": [
        "## Train individual models"
      ],
      "metadata": {
        "id": "DHcvMyhgM4Tt"
      }
    },
    {
      "cell_type": "markdown",
      "metadata": {
        "id": "4lhaJYtTyDZ_"
      },
      "source": [
        "4. Train Individual Models"
      ]
    },
    {
      "cell_type": "code",
      "execution_count": null,
      "metadata": {
        "id": "hjFCN-J_yHBU",
        "colab": {
          "base_uri": "https://localhost:8080/",
          "height": 356
        },
        "outputId": "52064e0c-556b-4f71-a117-35ba1337be3a"
      },
      "outputs": [
        {
          "output_type": "error",
          "ename": "ValueError",
          "evalue": "Failed to convert a NumPy array to a Tensor (Unsupported object type float).",
          "traceback": [
            "\u001b[0;31m---------------------------------------------------------------------------\u001b[0m",
            "\u001b[0;31mValueError\u001b[0m                                Traceback (most recent call last)",
            "\u001b[0;32m<ipython-input-9-ad4ed97ebbd0>\u001b[0m in \u001b[0;36m<cell line: 26>\u001b[0;34m()\u001b[0m\n\u001b[1;32m     24\u001b[0m \u001b[0;34m\u001b[0m\u001b[0m\n\u001b[1;32m     25\u001b[0m \u001b[0mefficientnet_model\u001b[0m \u001b[0;34m=\u001b[0m \u001b[0mfine_tune_efficientnet\u001b[0m\u001b[0;34m(\u001b[0m\u001b[0;34m)\u001b[0m\u001b[0;34m\u001b[0m\u001b[0;34m\u001b[0m\u001b[0m\n\u001b[0;32m---> 26\u001b[0;31m \u001b[0mhistory_efficientnet\u001b[0m \u001b[0;34m=\u001b[0m \u001b[0mefficientnet_model\u001b[0m\u001b[0;34m.\u001b[0m\u001b[0mfit\u001b[0m\u001b[0;34m(\u001b[0m\u001b[0mtrain_generator\u001b[0m\u001b[0;34m,\u001b[0m \u001b[0mvalidation_data\u001b[0m\u001b[0;34m=\u001b[0m\u001b[0mval_generator\u001b[0m\u001b[0;34m,\u001b[0m \u001b[0mepochs\u001b[0m\u001b[0;34m=\u001b[0m\u001b[0;36m12\u001b[0m\u001b[0;34m)\u001b[0m\u001b[0;34m\u001b[0m\u001b[0;34m\u001b[0m\u001b[0m\n\u001b[0m\u001b[1;32m     27\u001b[0m \u001b[0mefficientnet_model\u001b[0m\u001b[0;34m.\u001b[0m\u001b[0msave\u001b[0m\u001b[0;34m(\u001b[0m\u001b[0;34m'fine_tuned_efficientnet.h5'\u001b[0m\u001b[0;34m)\u001b[0m\u001b[0;34m\u001b[0m\u001b[0;34m\u001b[0m\u001b[0m\n\u001b[1;32m     28\u001b[0m \u001b[0;34m\u001b[0m\u001b[0m\n",
            "\u001b[0;32m/usr/local/lib/python3.10/dist-packages/keras/src/utils/traceback_utils.py\u001b[0m in \u001b[0;36merror_handler\u001b[0;34m(*args, **kwargs)\u001b[0m\n\u001b[1;32m    120\u001b[0m             \u001b[0;31m# To get the full stack trace, call:\u001b[0m\u001b[0;34m\u001b[0m\u001b[0;34m\u001b[0m\u001b[0m\n\u001b[1;32m    121\u001b[0m             \u001b[0;31m# `keras.config.disable_traceback_filtering()`\u001b[0m\u001b[0;34m\u001b[0m\u001b[0;34m\u001b[0m\u001b[0m\n\u001b[0;32m--> 122\u001b[0;31m             \u001b[0;32mraise\u001b[0m \u001b[0me\u001b[0m\u001b[0;34m.\u001b[0m\u001b[0mwith_traceback\u001b[0m\u001b[0;34m(\u001b[0m\u001b[0mfiltered_tb\u001b[0m\u001b[0;34m)\u001b[0m \u001b[0;32mfrom\u001b[0m \u001b[0;32mNone\u001b[0m\u001b[0;34m\u001b[0m\u001b[0;34m\u001b[0m\u001b[0m\n\u001b[0m\u001b[1;32m    123\u001b[0m         \u001b[0;32mfinally\u001b[0m\u001b[0;34m:\u001b[0m\u001b[0;34m\u001b[0m\u001b[0;34m\u001b[0m\u001b[0m\n\u001b[1;32m    124\u001b[0m             \u001b[0;32mdel\u001b[0m \u001b[0mfiltered_tb\u001b[0m\u001b[0;34m\u001b[0m\u001b[0;34m\u001b[0m\u001b[0m\n",
            "\u001b[0;32m<ipython-input-8-8c54b902a9b1>\u001b[0m in \u001b[0;36mgrayscale_to_rgb_preprocessing_function\u001b[0;34m(image_path)\u001b[0m\n\u001b[1;32m     16\u001b[0m \u001b[0;31m# Wrap function for use in ImageDataGenerator\u001b[0m\u001b[0;34m\u001b[0m\u001b[0;34m\u001b[0m\u001b[0m\n\u001b[1;32m     17\u001b[0m \u001b[0;32mdef\u001b[0m \u001b[0mgrayscale_to_rgb_preprocessing_function\u001b[0m\u001b[0;34m(\u001b[0m\u001b[0mimage_path\u001b[0m\u001b[0;34m)\u001b[0m\u001b[0;34m:\u001b[0m\u001b[0;34m\u001b[0m\u001b[0;34m\u001b[0m\u001b[0m\n\u001b[0;32m---> 18\u001b[0;31m     \u001b[0mimage\u001b[0m \u001b[0;34m=\u001b[0m \u001b[0mtf\u001b[0m\u001b[0;34m.\u001b[0m\u001b[0mio\u001b[0m\u001b[0;34m.\u001b[0m\u001b[0mread_file\u001b[0m\u001b[0;34m(\u001b[0m\u001b[0mimage_path\u001b[0m\u001b[0;34m)\u001b[0m\u001b[0;34m\u001b[0m\u001b[0;34m\u001b[0m\u001b[0m\n\u001b[0m\u001b[1;32m     19\u001b[0m     \u001b[0;32mreturn\u001b[0m \u001b[0mpreprocess_grayscale_to_rgb\u001b[0m\u001b[0;34m(\u001b[0m\u001b[0mimage\u001b[0m\u001b[0;34m)\u001b[0m\u001b[0;34m\u001b[0m\u001b[0;34m\u001b[0m\u001b[0m\n\u001b[1;32m     20\u001b[0m \u001b[0;34m\u001b[0m\u001b[0m\n",
            "\u001b[0;31mValueError\u001b[0m: Failed to convert a NumPy array to a Tensor (Unsupported object type float)."
          ]
        }
      ],
      "source": [
        "from tensorflow.keras.applications import EfficientNetB0\n",
        "from tensorflow.keras import layers, models, optimizers\n",
        "\n",
        "def fine_tune_efficientnet():\n",
        "    base_model = EfficientNetB0(weights='imagenet', include_top=False, input_shape=(224, 224, 3))\n",
        "\n",
        "    # Unfreeze some layers for fine-tuning\n",
        "    base_model.trainable = True\n",
        "    for layer in base_model.layers[:200]:  # Freeze first 200 layers (adjustable)\n",
        "        layer.trainable = False\n",
        "\n",
        "    x = base_model.output\n",
        "    x = layers.GlobalAveragePooling2D()(x)\n",
        "    x = layers.Dense(512, activation='relu')(x)\n",
        "    x = layers.Dropout(0.5)(x)  # Dropout for regularization\n",
        "    output = layers.Dense(4, activation='softmax')(x)\n",
        "\n",
        "    model = models.Model(inputs=base_model.input, outputs=output)\n",
        "\n",
        "    # Compile with a lower learning rate\n",
        "    optimizer = optimizers.Adam(learning_rate=1e-4)\n",
        "    model.compile(optimizer=optimizer, loss='categorical_crossentropy', metrics=['accuracy'])\n",
        "    return model\n",
        "\n",
        "efficientnet_model = fine_tune_efficientnet()\n",
        "history_efficientnet = efficientnet_model.fit(train_generator, validation_data=val_generator, epochs=12)\n",
        "efficientnet_model.save('fine_tuned_efficientnet.h5')\n",
        "\n"
      ]
    },
    {
      "cell_type": "code",
      "execution_count": null,
      "metadata": {
        "id": "RENem0hsyKra",
        "colab": {
          "base_uri": "https://localhost:8080/"
        },
        "outputId": "4c95472a-4385-4451-d34d-51524e01482d"
      },
      "outputs": [
        {
          "output_type": "stream",
          "name": "stdout",
          "text": [
            "Downloading data from https://storage.googleapis.com/tensorflow/keras-applications/resnet/resnet50_weights_tf_dim_ordering_tf_kernels_notop.h5\n",
            "\u001b[1m94765736/94765736\u001b[0m \u001b[32m━━━━━━━━━━━━━━━━━━━━\u001b[0m\u001b[37m\u001b[0m \u001b[1m5s\u001b[0m 0us/step\n",
            "Epoch 1/12\n",
            "\u001b[1m1000/1000\u001b[0m \u001b[32m━━━━━━━━━━━━━━━━━━━━\u001b[0m\u001b[37m\u001b[0m \u001b[1m592s\u001b[0m 564ms/step - accuracy: 0.3914 - loss: 1.2745 - val_accuracy: 0.3125 - val_loss: 5.8072\n",
            "Epoch 2/12\n",
            "\u001b[1m1000/1000\u001b[0m \u001b[32m━━━━━━━━━━━━━━━━━━━━\u001b[0m\u001b[37m\u001b[0m \u001b[1m578s\u001b[0m 575ms/step - accuracy: 0.5320 - loss: 1.0769 - val_accuracy: 0.5938 - val_loss: 0.9632\n",
            "Epoch 3/12\n",
            "\u001b[1m1000/1000\u001b[0m \u001b[32m━━━━━━━━━━━━━━━━━━━━\u001b[0m\u001b[37m\u001b[0m \u001b[1m616s\u001b[0m 568ms/step - accuracy: 0.5742 - loss: 0.9895 - val_accuracy: 0.4375 - val_loss: 1.4035\n",
            "Epoch 4/12\n",
            "\u001b[1m1000/1000\u001b[0m \u001b[32m━━━━━━━━━━━━━━━━━━━━\u001b[0m\u001b[37m\u001b[0m \u001b[1m610s\u001b[0m 557ms/step - accuracy: 0.6012 - loss: 0.9422 - val_accuracy: 0.5312 - val_loss: 1.0157\n",
            "Epoch 5/12\n",
            "\u001b[1m1000/1000\u001b[0m \u001b[32m━━━━━━━━━━━━━━━━━━━━\u001b[0m\u001b[37m\u001b[0m \u001b[1m558s\u001b[0m 554ms/step - accuracy: 0.6258 - loss: 0.8929 - val_accuracy: 0.5938 - val_loss: 1.8408\n",
            "Epoch 6/12\n",
            "\u001b[1m1000/1000\u001b[0m \u001b[32m━━━━━━━━━━━━━━━━━━━━\u001b[0m\u001b[37m\u001b[0m \u001b[1m555s\u001b[0m 548ms/step - accuracy: 0.6385 - loss: 0.8729 - val_accuracy: 0.8125 - val_loss: 0.6564\n",
            "Epoch 7/12\n",
            "\u001b[1m1000/1000\u001b[0m \u001b[32m━━━━━━━━━━━━━━━━━━━━\u001b[0m\u001b[37m\u001b[0m \u001b[1m570s\u001b[0m 556ms/step - accuracy: 0.6526 - loss: 0.8380 - val_accuracy: 0.6562 - val_loss: 0.8641\n",
            "Epoch 8/12\n",
            "\u001b[1m1000/1000\u001b[0m \u001b[32m━━━━━━━━━━━━━━━━━━━━\u001b[0m\u001b[37m\u001b[0m \u001b[1m555s\u001b[0m 549ms/step - accuracy: 0.6637 - loss: 0.8230 - val_accuracy: 0.6250 - val_loss: 1.1007\n",
            "Epoch 9/12\n",
            "\u001b[1m1000/1000\u001b[0m \u001b[32m━━━━━━━━━━━━━━━━━━━━\u001b[0m\u001b[37m\u001b[0m \u001b[1m556s\u001b[0m 553ms/step - accuracy: 0.6720 - loss: 0.7989 - val_accuracy: 0.6875 - val_loss: 0.9964\n",
            "Epoch 10/12\n",
            "\u001b[1m1000/1000\u001b[0m \u001b[32m━━━━━━━━━━━━━━━━━━━━\u001b[0m\u001b[37m\u001b[0m \u001b[1m552s\u001b[0m 547ms/step - accuracy: 0.6871 - loss: 0.7726 - val_accuracy: 0.5625 - val_loss: 1.0754\n",
            "Epoch 11/12\n",
            "\u001b[1m1000/1000\u001b[0m \u001b[32m━━━━━━━━━━━━━━━━━━━━\u001b[0m\u001b[37m\u001b[0m \u001b[1m561s\u001b[0m 547ms/step - accuracy: 0.6991 - loss: 0.7551 - val_accuracy: 0.8125 - val_loss: 0.4664\n",
            "Epoch 12/12\n",
            "\u001b[1m1000/1000\u001b[0m \u001b[32m━━━━━━━━━━━━━━━━━━━━\u001b[0m\u001b[37m\u001b[0m \u001b[1m551s\u001b[0m 548ms/step - accuracy: 0.7058 - loss: 0.7353 - val_accuracy: 0.8125 - val_loss: 0.4500\n"
          ]
        },
        {
          "output_type": "stream",
          "name": "stderr",
          "text": [
            "WARNING:absl:You are saving your model as an HDF5 file via `model.save()` or `keras.saving.save_model(model)`. This file format is considered legacy. We recommend using instead the native Keras format, e.g. `model.save('my_model.keras')` or `keras.saving.save_model(model, 'my_model.keras')`. \n"
          ]
        }
      ],
      "source": [
        "from tensorflow.keras.applications import ResNet50\n",
        "from tensorflow.keras import layers, models, optimizers\n",
        "\n",
        "def fine_tune_resnet():\n",
        "    base_model = ResNet50(weights='imagenet', include_top=False, input_shape=(224, 224, 3))\n",
        "\n",
        "    # Unfreeze last few layers for fine-tuning\n",
        "    for layer in base_model.layers[:143]:  # Freeze first 143 layers (adjustable)\n",
        "        layer.trainable = False\n",
        "    for layer in base_model.layers[143:]:\n",
        "        layer.trainable = True\n",
        "\n",
        "    x = base_model.output\n",
        "    x = layers.GlobalAveragePooling2D()(x)\n",
        "    x = layers.Dense(512, activation='relu')(x)\n",
        "    x = layers.Dropout(0.5)(x)  # Dropout for regularization\n",
        "    output = layers.Dense(4, activation='softmax')(x)\n",
        "\n",
        "    model = models.Model(inputs=base_model.input, outputs=output)\n",
        "\n",
        "    # Compile with a low learning rate for fine-tuning\n",
        "    optimizer = optimizers.Adam(learning_rate=1e-4)\n",
        "    model.compile(optimizer=optimizer, loss='categorical_crossentropy', metrics=['accuracy'])\n",
        "    return model\n",
        "\n",
        "resnet_model = fine_tune_resnet()\n",
        "history_resnet = resnet_model.fit(train_generator, validation_data=val_generator, epochs=12)\n",
        "resnet_model.save('fine_tuned_resnet.h5')\n"
      ]
    },
    {
      "cell_type": "code",
      "execution_count": null,
      "metadata": {
        "id": "bbmHdzIAyNLA",
        "colab": {
          "base_uri": "https://localhost:8080/"
        },
        "outputId": "1840a8c1-f8ee-4f57-8be7-5266a6219c80"
      },
      "outputs": [
        {
          "output_type": "stream",
          "name": "stdout",
          "text": [
            "Downloading data from https://storage.googleapis.com/tensorflow/keras-applications/densenet/densenet121_weights_tf_dim_ordering_tf_kernels_notop.h5\n",
            "\u001b[1m29084464/29084464\u001b[0m \u001b[32m━━━━━━━━━━━━━━━━━━━━\u001b[0m\u001b[37m\u001b[0m \u001b[1m1s\u001b[0m 0us/step\n",
            "Epoch 1/12\n"
          ]
        },
        {
          "output_type": "stream",
          "name": "stderr",
          "text": [
            "/usr/local/lib/python3.10/dist-packages/keras/src/trainers/data_adapters/py_dataset_adapter.py:122: UserWarning: Your `PyDataset` class should call `super().__init__(**kwargs)` in its constructor. `**kwargs` can include `workers`, `use_multiprocessing`, `max_queue_size`. Do not pass these arguments to `fit()`, as they will be ignored.\n",
            "  self._warn_if_super_not_called()\n"
          ]
        },
        {
          "output_type": "stream",
          "name": "stdout",
          "text": [
            "\u001b[1m1000/1000\u001b[0m \u001b[32m━━━━━━━━━━━━━━━━━━━━\u001b[0m\u001b[37m\u001b[0m \u001b[1m661s\u001b[0m 627ms/step - accuracy: 0.6589 - loss: 0.8312 - val_accuracy: 0.9062 - val_loss: 0.3138\n",
            "Epoch 2/12\n",
            "\u001b[1m1000/1000\u001b[0m \u001b[32m━━━━━━━━━━━━━━━━━━━━\u001b[0m\u001b[37m\u001b[0m \u001b[1m647s\u001b[0m 608ms/step - accuracy: 0.7702 - loss: 0.6000 - val_accuracy: 0.9062 - val_loss: 0.3083\n",
            "Epoch 3/12\n",
            "\u001b[1m1000/1000\u001b[0m \u001b[32m━━━━━━━━━━━━━━━━━━━━\u001b[0m\u001b[37m\u001b[0m \u001b[1m620s\u001b[0m 606ms/step - accuracy: 0.7847 - loss: 0.5611 - val_accuracy: 0.9062 - val_loss: 0.2697\n",
            "Epoch 4/12\n",
            "\u001b[1m1000/1000\u001b[0m \u001b[32m━━━━━━━━━━━━━━━━━━━━\u001b[0m\u001b[37m\u001b[0m \u001b[1m613s\u001b[0m 599ms/step - accuracy: 0.7859 - loss: 0.5491 - val_accuracy: 0.8438 - val_loss: 0.3913\n",
            "Epoch 5/12\n",
            "\u001b[1m1000/1000\u001b[0m \u001b[32m━━━━━━━━━━━━━━━━━━━━\u001b[0m\u001b[37m\u001b[0m \u001b[1m604s\u001b[0m 599ms/step - accuracy: 0.7971 - loss: 0.5278 - val_accuracy: 0.9375 - val_loss: 0.2154\n",
            "Epoch 6/12\n",
            "\u001b[1m1000/1000\u001b[0m \u001b[32m━━━━━━━━━━━━━━━━━━━━\u001b[0m\u001b[37m\u001b[0m \u001b[1m618s\u001b[0m 597ms/step - accuracy: 0.7963 - loss: 0.5368 - val_accuracy: 0.8750 - val_loss: 0.2852\n",
            "Epoch 7/12\n",
            "\u001b[1m1000/1000\u001b[0m \u001b[32m━━━━━━━━━━━━━━━━━━━━\u001b[0m\u001b[37m\u001b[0m \u001b[1m614s\u001b[0m 608ms/step - accuracy: 0.8041 - loss: 0.5105 - val_accuracy: 0.9062 - val_loss: 0.2050\n",
            "Epoch 8/12\n",
            "\u001b[1m1000/1000\u001b[0m \u001b[32m━━━━━━━━━━━━━━━━━━━━\u001b[0m\u001b[37m\u001b[0m \u001b[1m603s\u001b[0m 592ms/step - accuracy: 0.8083 - loss: 0.5037 - val_accuracy: 0.9062 - val_loss: 0.2034\n",
            "Epoch 9/12\n",
            "\u001b[1m1000/1000\u001b[0m \u001b[32m━━━━━━━━━━━━━━━━━━━━\u001b[0m\u001b[37m\u001b[0m \u001b[1m624s\u001b[0m 594ms/step - accuracy: 0.8074 - loss: 0.5048 - val_accuracy: 0.8750 - val_loss: 0.2753\n",
            "Epoch 10/12\n",
            "\u001b[1m1000/1000\u001b[0m \u001b[32m━━━━━━━━━━━━━━━━━━━━\u001b[0m\u001b[37m\u001b[0m \u001b[1m594s\u001b[0m 591ms/step - accuracy: 0.8098 - loss: 0.5028 - val_accuracy: 0.9375 - val_loss: 0.2193\n",
            "Epoch 11/12\n",
            "\u001b[1m1000/1000\u001b[0m \u001b[32m━━━━━━━━━━━━━━━━━━━━\u001b[0m\u001b[37m\u001b[0m \u001b[1m640s\u001b[0m 609ms/step - accuracy: 0.8160 - loss: 0.4832 - val_accuracy: 0.9375 - val_loss: 0.2082\n",
            "Epoch 12/12\n",
            "\u001b[1m1000/1000\u001b[0m \u001b[32m━━━━━━━━━━━━━━━━━━━━\u001b[0m\u001b[37m\u001b[0m \u001b[1m633s\u001b[0m 629ms/step - accuracy: 0.8139 - loss: 0.4826 - val_accuracy: 0.9375 - val_loss: 0.2131\n"
          ]
        },
        {
          "output_type": "stream",
          "name": "stderr",
          "text": [
            "WARNING:absl:You are saving your model as an HDF5 file via `model.save()` or `keras.saving.save_model(model)`. This file format is considered legacy. We recommend using instead the native Keras format, e.g. `model.save('my_model.keras')` or `keras.saving.save_model(model, 'my_model.keras')`. \n"
          ]
        }
      ],
      "source": [
        "from tensorflow.keras.applications import DenseNet121\n",
        "\n",
        "def create_densenet():\n",
        "    base_model = DenseNet121(weights='imagenet', include_top=False, input_shape=(224, 224, 3))\n",
        "    base_model.trainable = False\n",
        "\n",
        "    x = base_model.output\n",
        "    x = tf.keras.layers.GlobalAveragePooling2D()(x)\n",
        "    x = tf.keras.layers.Dense(256, activation='relu')(x)\n",
        "    output = tf.keras.layers.Dense(4, activation='softmax')(x)\n",
        "\n",
        "    model = tf.keras.models.Model(inputs=base_model.input, outputs=output)\n",
        "    model.compile(optimizer='adam', loss='categorical_crossentropy', metrics=['accuracy'])\n",
        "    return model\n",
        "\n",
        "densenet_model = create_densenet()\n",
        "history_densenet = densenet_model.fit(train_generator, validation_data=val_generator, epochs=12)\n",
        "densenet_model.save('densenet_model.h5')\n"
      ]
    },
    {
      "cell_type": "code",
      "source": [
        "# Assuming you have your test_generator defined as before\n",
        "test_loss, test_accuracy = densenet_model.evaluate(test_generator)\n",
        "\n",
        "print(f\"Test Loss: {test_loss:.4f}\")\n",
        "print(f\"Test Accuracy: {test_accuracy:.4f}\")"
      ],
      "metadata": {
        "colab": {
          "base_uri": "https://localhost:8080/"
        },
        "id": "wKqtwgKN9hR-",
        "outputId": "f6d99f71-dfed-4f96-be75-5535115f40f2"
      },
      "execution_count": null,
      "outputs": [
        {
          "output_type": "stream",
          "name": "stdout",
          "text": [
            "\u001b[1m31/31\u001b[0m \u001b[32m━━━━━━━━━━━━━━━━━━━━\u001b[0m\u001b[37m\u001b[0m \u001b[1m14s\u001b[0m 449ms/step - accuracy: 0.9426 - loss: 0.1915\n",
            "Test Loss: 0.1857\n",
            "Test Accuracy: 0.9432\n"
          ]
        }
      ]
    },
    {
      "cell_type": "markdown",
      "metadata": {
        "id": "zubW_0JtyP2U"
      },
      "source": [
        "5. Create and Train the Ensemble"
      ]
    },
    {
      "cell_type": "code",
      "execution_count": null,
      "metadata": {
        "id": "BwWjewq9yTFP",
        "colab": {
          "base_uri": "https://localhost:8080/",
          "height": 1000
        },
        "outputId": "9459dcbd-395f-4348-d119-887d6812dcc0"
      },
      "outputs": [
        {
          "output_type": "error",
          "ename": "FileNotFoundError",
          "evalue": "[Errno 2] Unable to synchronously open file (unable to open file: name = 'efficientnet_model.h5', errno = 2, error message = 'No such file or directory', flags = 0, o_flags = 0)",
          "traceback": [
            "\u001b[0;31m---------------------------------------------------------------------------\u001b[0m",
            "\u001b[0;31mFileNotFoundError\u001b[0m                         Traceback (most recent call last)",
            "\u001b[0;32m<ipython-input-8-815c2541dba7>\u001b[0m in \u001b[0;36m<cell line: 2>\u001b[0;34m()\u001b[0m\n\u001b[1;32m      1\u001b[0m \u001b[0;31m# Load trained models\u001b[0m\u001b[0;34m\u001b[0m\u001b[0;34m\u001b[0m\u001b[0m\n\u001b[0;32m----> 2\u001b[0;31m \u001b[0mefficientnet_model\u001b[0m \u001b[0;34m=\u001b[0m \u001b[0mload_model\u001b[0m\u001b[0;34m(\u001b[0m\u001b[0;34m'efficientnet_model.h5'\u001b[0m\u001b[0;34m)\u001b[0m\u001b[0;34m\u001b[0m\u001b[0;34m\u001b[0m\u001b[0m\n\u001b[0m\u001b[1;32m      3\u001b[0m \u001b[0mresnet_model\u001b[0m \u001b[0;34m=\u001b[0m \u001b[0mload_model\u001b[0m\u001b[0;34m(\u001b[0m\u001b[0;34m'resnet_model.h5'\u001b[0m\u001b[0;34m)\u001b[0m\u001b[0;34m\u001b[0m\u001b[0;34m\u001b[0m\u001b[0m\n\u001b[1;32m      4\u001b[0m \u001b[0mdensenet_model\u001b[0m \u001b[0;34m=\u001b[0m \u001b[0mload_model\u001b[0m\u001b[0;34m(\u001b[0m\u001b[0;34m'densenet_model.h5'\u001b[0m\u001b[0;34m)\u001b[0m\u001b[0;34m\u001b[0m\u001b[0;34m\u001b[0m\u001b[0m\n\u001b[1;32m      5\u001b[0m \u001b[0;34m\u001b[0m\u001b[0m\n",
            "\u001b[0;32m/usr/local/lib/python3.10/dist-packages/keras/src/saving/saving_api.py\u001b[0m in \u001b[0;36mload_model\u001b[0;34m(filepath, custom_objects, compile, safe_mode)\u001b[0m\n\u001b[1;32m    192\u001b[0m         )\n\u001b[1;32m    193\u001b[0m     \u001b[0;32mif\u001b[0m \u001b[0mstr\u001b[0m\u001b[0;34m(\u001b[0m\u001b[0mfilepath\u001b[0m\u001b[0;34m)\u001b[0m\u001b[0;34m.\u001b[0m\u001b[0mendswith\u001b[0m\u001b[0;34m(\u001b[0m\u001b[0;34m(\u001b[0m\u001b[0;34m\".h5\"\u001b[0m\u001b[0;34m,\u001b[0m \u001b[0;34m\".hdf5\"\u001b[0m\u001b[0;34m)\u001b[0m\u001b[0;34m)\u001b[0m\u001b[0;34m:\u001b[0m\u001b[0;34m\u001b[0m\u001b[0;34m\u001b[0m\u001b[0m\n\u001b[0;32m--> 194\u001b[0;31m         return legacy_h5_format.load_model_from_hdf5(\n\u001b[0m\u001b[1;32m    195\u001b[0m             \u001b[0mfilepath\u001b[0m\u001b[0;34m,\u001b[0m \u001b[0mcustom_objects\u001b[0m\u001b[0;34m=\u001b[0m\u001b[0mcustom_objects\u001b[0m\u001b[0;34m,\u001b[0m \u001b[0mcompile\u001b[0m\u001b[0;34m=\u001b[0m\u001b[0mcompile\u001b[0m\u001b[0;34m\u001b[0m\u001b[0;34m\u001b[0m\u001b[0m\n\u001b[1;32m    196\u001b[0m         )\n",
            "\u001b[0;32m/usr/local/lib/python3.10/dist-packages/keras/src/legacy/saving/legacy_h5_format.py\u001b[0m in \u001b[0;36mload_model_from_hdf5\u001b[0;34m(filepath, custom_objects, compile)\u001b[0m\n\u001b[1;32m    114\u001b[0m     \u001b[0mopened_new_file\u001b[0m \u001b[0;34m=\u001b[0m \u001b[0;32mnot\u001b[0m \u001b[0misinstance\u001b[0m\u001b[0;34m(\u001b[0m\u001b[0mfilepath\u001b[0m\u001b[0;34m,\u001b[0m \u001b[0mh5py\u001b[0m\u001b[0;34m.\u001b[0m\u001b[0mFile\u001b[0m\u001b[0;34m)\u001b[0m\u001b[0;34m\u001b[0m\u001b[0;34m\u001b[0m\u001b[0m\n\u001b[1;32m    115\u001b[0m     \u001b[0;32mif\u001b[0m \u001b[0mopened_new_file\u001b[0m\u001b[0;34m:\u001b[0m\u001b[0;34m\u001b[0m\u001b[0;34m\u001b[0m\u001b[0m\n\u001b[0;32m--> 116\u001b[0;31m         \u001b[0mf\u001b[0m \u001b[0;34m=\u001b[0m \u001b[0mh5py\u001b[0m\u001b[0;34m.\u001b[0m\u001b[0mFile\u001b[0m\u001b[0;34m(\u001b[0m\u001b[0mfilepath\u001b[0m\u001b[0;34m,\u001b[0m \u001b[0mmode\u001b[0m\u001b[0;34m=\u001b[0m\u001b[0;34m\"r\"\u001b[0m\u001b[0;34m)\u001b[0m\u001b[0;34m\u001b[0m\u001b[0;34m\u001b[0m\u001b[0m\n\u001b[0m\u001b[1;32m    117\u001b[0m     \u001b[0;32melse\u001b[0m\u001b[0;34m:\u001b[0m\u001b[0;34m\u001b[0m\u001b[0;34m\u001b[0m\u001b[0m\n\u001b[1;32m    118\u001b[0m         \u001b[0mf\u001b[0m \u001b[0;34m=\u001b[0m \u001b[0mfilepath\u001b[0m\u001b[0;34m\u001b[0m\u001b[0;34m\u001b[0m\u001b[0m\n",
            "\u001b[0;32m/usr/local/lib/python3.10/dist-packages/h5py/_hl/files.py\u001b[0m in \u001b[0;36m__init__\u001b[0;34m(self, name, mode, driver, libver, userblock_size, swmr, rdcc_nslots, rdcc_nbytes, rdcc_w0, track_order, fs_strategy, fs_persist, fs_threshold, fs_page_size, page_buf_size, min_meta_keep, min_raw_keep, locking, alignment_threshold, alignment_interval, meta_block_size, **kwds)\u001b[0m\n\u001b[1;32m    559\u001b[0m                                  \u001b[0mfs_persist\u001b[0m\u001b[0;34m=\u001b[0m\u001b[0mfs_persist\u001b[0m\u001b[0;34m,\u001b[0m \u001b[0mfs_threshold\u001b[0m\u001b[0;34m=\u001b[0m\u001b[0mfs_threshold\u001b[0m\u001b[0;34m,\u001b[0m\u001b[0;34m\u001b[0m\u001b[0;34m\u001b[0m\u001b[0m\n\u001b[1;32m    560\u001b[0m                                  fs_page_size=fs_page_size)\n\u001b[0;32m--> 561\u001b[0;31m                 \u001b[0mfid\u001b[0m \u001b[0;34m=\u001b[0m \u001b[0mmake_fid\u001b[0m\u001b[0;34m(\u001b[0m\u001b[0mname\u001b[0m\u001b[0;34m,\u001b[0m \u001b[0mmode\u001b[0m\u001b[0;34m,\u001b[0m \u001b[0muserblock_size\u001b[0m\u001b[0;34m,\u001b[0m \u001b[0mfapl\u001b[0m\u001b[0;34m,\u001b[0m \u001b[0mfcpl\u001b[0m\u001b[0;34m,\u001b[0m \u001b[0mswmr\u001b[0m\u001b[0;34m=\u001b[0m\u001b[0mswmr\u001b[0m\u001b[0;34m)\u001b[0m\u001b[0;34m\u001b[0m\u001b[0;34m\u001b[0m\u001b[0m\n\u001b[0m\u001b[1;32m    562\u001b[0m \u001b[0;34m\u001b[0m\u001b[0m\n\u001b[1;32m    563\u001b[0m             \u001b[0;32mif\u001b[0m \u001b[0misinstance\u001b[0m\u001b[0;34m(\u001b[0m\u001b[0mlibver\u001b[0m\u001b[0;34m,\u001b[0m \u001b[0mtuple\u001b[0m\u001b[0;34m)\u001b[0m\u001b[0;34m:\u001b[0m\u001b[0;34m\u001b[0m\u001b[0;34m\u001b[0m\u001b[0m\n",
            "\u001b[0;32m/usr/local/lib/python3.10/dist-packages/h5py/_hl/files.py\u001b[0m in \u001b[0;36mmake_fid\u001b[0;34m(name, mode, userblock_size, fapl, fcpl, swmr)\u001b[0m\n\u001b[1;32m    233\u001b[0m         \u001b[0;32mif\u001b[0m \u001b[0mswmr\u001b[0m \u001b[0;32mand\u001b[0m \u001b[0mswmr_support\u001b[0m\u001b[0;34m:\u001b[0m\u001b[0;34m\u001b[0m\u001b[0;34m\u001b[0m\u001b[0m\n\u001b[1;32m    234\u001b[0m             \u001b[0mflags\u001b[0m \u001b[0;34m|=\u001b[0m \u001b[0mh5f\u001b[0m\u001b[0;34m.\u001b[0m\u001b[0mACC_SWMR_READ\u001b[0m\u001b[0;34m\u001b[0m\u001b[0;34m\u001b[0m\u001b[0m\n\u001b[0;32m--> 235\u001b[0;31m         \u001b[0mfid\u001b[0m \u001b[0;34m=\u001b[0m \u001b[0mh5f\u001b[0m\u001b[0;34m.\u001b[0m\u001b[0mopen\u001b[0m\u001b[0;34m(\u001b[0m\u001b[0mname\u001b[0m\u001b[0;34m,\u001b[0m \u001b[0mflags\u001b[0m\u001b[0;34m,\u001b[0m \u001b[0mfapl\u001b[0m\u001b[0;34m=\u001b[0m\u001b[0mfapl\u001b[0m\u001b[0;34m)\u001b[0m\u001b[0;34m\u001b[0m\u001b[0;34m\u001b[0m\u001b[0m\n\u001b[0m\u001b[1;32m    236\u001b[0m     \u001b[0;32melif\u001b[0m \u001b[0mmode\u001b[0m \u001b[0;34m==\u001b[0m \u001b[0;34m'r+'\u001b[0m\u001b[0;34m:\u001b[0m\u001b[0;34m\u001b[0m\u001b[0;34m\u001b[0m\u001b[0m\n\u001b[1;32m    237\u001b[0m         \u001b[0mfid\u001b[0m \u001b[0;34m=\u001b[0m \u001b[0mh5f\u001b[0m\u001b[0;34m.\u001b[0m\u001b[0mopen\u001b[0m\u001b[0;34m(\u001b[0m\u001b[0mname\u001b[0m\u001b[0;34m,\u001b[0m \u001b[0mh5f\u001b[0m\u001b[0;34m.\u001b[0m\u001b[0mACC_RDWR\u001b[0m\u001b[0;34m,\u001b[0m \u001b[0mfapl\u001b[0m\u001b[0;34m=\u001b[0m\u001b[0mfapl\u001b[0m\u001b[0;34m)\u001b[0m\u001b[0;34m\u001b[0m\u001b[0;34m\u001b[0m\u001b[0m\n",
            "\u001b[0;32mh5py/_objects.pyx\u001b[0m in \u001b[0;36mh5py._objects.with_phil.wrapper\u001b[0;34m()\u001b[0m\n",
            "\u001b[0;32mh5py/_objects.pyx\u001b[0m in \u001b[0;36mh5py._objects.with_phil.wrapper\u001b[0;34m()\u001b[0m\n",
            "\u001b[0;32mh5py/h5f.pyx\u001b[0m in \u001b[0;36mh5py.h5f.open\u001b[0;34m()\u001b[0m\n",
            "\u001b[0;31mFileNotFoundError\u001b[0m: [Errno 2] Unable to synchronously open file (unable to open file: name = 'efficientnet_model.h5', errno = 2, error message = 'No such file or directory', flags = 0, o_flags = 0)"
          ]
        }
      ],
      "source": [
        "# Load trained models\n",
        "efficientnet_model = load_model('fine_tuned_efficientnet.h5')\n",
        "resnet_model = load_model('fine_tuned_resnet.h5')\n",
        "densenet_model = load_model('densenet_model.h5')\n",
        "\n",
        "# Freeze all models\n",
        "for model in [efficientnet_model, resnet_model, densenet_model]:\n",
        "    model.trainable = False\n",
        "\n",
        "# Create ensemble output\n",
        "efficientnet_output = efficientnet_model.output\n",
        "resnet_output = resnet_model.output\n",
        "densenet_output = densenet_model.output\n",
        "\n",
        "ensemble_output = Average()([efficientnet_output, resnet_output, densenet_output])\n",
        "\n",
        "# Create ensemble model\n",
        "ensemble_model = Model(\n",
        "    inputs=[efficientnet_model.input, resnet_model.input, densenet_model.input],\n",
        "    outputs=ensemble_output\n",
        ")\n",
        "\n",
        "ensemble_model.compile(optimizer='adam', loss='categorical_crossentropy', metrics=['accuracy'])\n",
        "\n",
        "# Train the ensemble (optional fine-tuning)\n",
        "history_ensemble = ensemble_model.fit(\n",
        "    train_generator,\n",
        "    validation_data=val_generator,\n",
        "    epochs=5\n",
        ")\n",
        "\n",
        "ensemble_model.save('ensemble_model.h5')\n"
      ]
    },
    {
      "cell_type": "markdown",
      "metadata": {
        "id": "LuQTnocnyV6L"
      },
      "source": [
        "Evaluate the Ensemble"
      ]
    },
    {
      "cell_type": "code",
      "execution_count": null,
      "metadata": {
        "id": "lHPw3XZy4fAA"
      },
      "outputs": [],
      "source": []
    },
    {
      "cell_type": "code",
      "execution_count": null,
      "metadata": {
        "id": "W5JLu571yZo-"
      },
      "outputs": [],
      "source": [
        "test_loss, test_accuracy = ensemble_model.evaluate(test_generator)\n",
        "print(f\"Ensemble Test Accuracy: {test_accuracy:.2f}\")"
      ]
    },
    {
      "cell_type": "markdown",
      "metadata": {
        "id": "yJ5DBXrvxu8q"
      },
      "source": []
    },
    {
      "cell_type": "markdown",
      "source": [
        "# Model 2"
      ],
      "metadata": {
        "id": "pqxerra0MUeZ"
      }
    },
    {
      "cell_type": "markdown",
      "source": [
        "## Preprocessing and Data pipeline"
      ],
      "metadata": {
        "id": "qVkTDcEfKwoK"
      }
    },
    {
      "cell_type": "markdown",
      "source": [
        "Environment Setup"
      ],
      "metadata": {
        "id": "ZpWACMG_NWJs"
      }
    },
    {
      "cell_type": "code",
      "source": [
        "# Core Libraries\n",
        "import os\n",
        "import numpy as np\n",
        "import tensorflow as tf\n",
        "from tensorflow.keras.preprocessing.image import ImageDataGenerator\n",
        "from tensorflow.keras.models import load_model\n",
        "from tensorflow.keras.layers import Average\n",
        "from tensorflow.keras.models import Model\n",
        "from sklearn.utils.class_weight import compute_class_weight\n",
        "\n",
        "# For reproducibility\n",
        "import random\n",
        "random.seed(42)\n",
        "np.random.seed(42)\n",
        "tf.random.set_seed(42)\n",
        "\n",
        "print(\"Environment ready!\")\n"
      ],
      "metadata": {
        "colab": {
          "base_uri": "https://localhost:8080/"
        },
        "id": "Ala29d3XMXUa",
        "outputId": "52e6ea51-a4a3-4464-d3bd-7db1e464434a"
      },
      "execution_count": 1,
      "outputs": [
        {
          "output_type": "stream",
          "name": "stdout",
          "text": [
            "Environment ready!\n"
          ]
        }
      ]
    },
    {
      "cell_type": "markdown",
      "source": [
        "Unzipping the dataset"
      ],
      "metadata": {
        "id": "FRGY_QjsNQM1"
      }
    },
    {
      "cell_type": "code",
      "source": [
        "import zipfile\n",
        "\n",
        "# Path to the zipped dataset in your Drive\n",
        "zip_path = '/content/drive/MyDrive/Machine learning/Dataset/OCT Dataset/Train/archive.zip'\n",
        "\n",
        "# Set extraction path in Colab\n",
        "extract_path = '/content/OCT_Dataset'\n",
        "\n",
        "# Unzipping the dataset\n",
        "with zipfile.ZipFile(zip_path, 'r') as zip_ref:\n",
        "    zip_ref.extractall(extract_path)\n",
        "\n",
        "print(\"Dataset unzipped successfully!\")\n"
      ],
      "metadata": {
        "colab": {
          "base_uri": "https://localhost:8080/"
        },
        "id": "bAEOMIteNUYt",
        "outputId": "0e66bd3b-e14a-4d10-b326-86bcba18a143"
      },
      "execution_count": 2,
      "outputs": [
        {
          "output_type": "stream",
          "name": "stdout",
          "text": [
            "Dataset unzipped successfully!\n"
          ]
        }
      ]
    },
    {
      "cell_type": "markdown",
      "source": [
        "Limiting images per class"
      ],
      "metadata": {
        "id": "XCTIy0-mNczm"
      }
    },
    {
      "cell_type": "code",
      "source": [
        "import os\n",
        "import random\n",
        "import shutil\n",
        "\n",
        "def limit_images_per_class(src_dir, dest_dir, max_images=8000):\n",
        "    \"\"\"\n",
        "    Copies a limited number of images from source to destination for each class.\n",
        "    Parameters:\n",
        "        src_dir (str): Source directory where the images are stored.\n",
        "        dest_dir (str): Destination directory to store the limited images.\n",
        "        max_images (int): Maximum number of images per class.\n",
        "    \"\"\"\n",
        "    # Ensure destination directory exists\n",
        "    if not os.path.exists(dest_dir):\n",
        "        os.makedirs(dest_dir)\n",
        "\n",
        "    # Iterate through each class folder in the source directory\n",
        "    for category in os.listdir(src_dir):\n",
        "        category_path = os.path.join(src_dir, category)\n",
        "        dest_category_path = os.path.join(dest_dir, category)\n",
        "\n",
        "        if not os.path.exists(dest_category_path):\n",
        "            os.makedirs(dest_category_path)\n",
        "\n",
        "        # Get list of images\n",
        "        images = [\n",
        "            os.path.join(category_path, img)\n",
        "            for img in os.listdir(category_path)\n",
        "            if img.endswith(('.jpeg', '.jpg', '.png'))\n",
        "        ]\n",
        "\n",
        "        # Shuffle and select limited images\n",
        "        random.shuffle(images)\n",
        "        limited_images = images[:max_images]\n",
        "\n",
        "        # Copy limited images to destination folder\n",
        "        for img_path in limited_images:\n",
        "            shutil.copy(img_path, os.path.join(dest_category_path, os.path.basename(img_path)))\n",
        "\n",
        "# Source and destination paths\n",
        "src_train_dir = '/content/OCT_Dataset/OCT2017 /train'\n",
        "dest_train_dir = '/content/OCT_Dataset/OCT2017 /train_limited'\n",
        "\n",
        "# Apply the function\n",
        "limit_images_per_class(src_train_dir, dest_train_dir, max_images=8000)\n",
        "\n",
        "print(\"Training data limited to 8,000 images per class.\")\n"
      ],
      "metadata": {
        "colab": {
          "base_uri": "https://localhost:8080/"
        },
        "id": "QL-q-2B0NVZR",
        "outputId": "3c45fa4f-b747-4aa3-a2d0-5ebc836802a6"
      },
      "execution_count": 3,
      "outputs": [
        {
          "output_type": "stream",
          "name": "stdout",
          "text": [
            "Training data limited to 8,000 images per class.\n"
          ]
        }
      ]
    },
    {
      "cell_type": "markdown",
      "source": [
        "Setting paths for training, testing and validation."
      ],
      "metadata": {
        "id": "CS82vsBfNi6j"
      }
    },
    {
      "cell_type": "code",
      "source": [
        "train_dir = '/content/OCT_Dataset/OCT2017 /train_limited'\n",
        "val_dir = '/content/OCT_Dataset/OCT2017 /val'\n",
        "test_dir = '/content/OCT_Dataset/OCT2017 /test'\n"
      ],
      "metadata": {
        "id": "Dgfo2oB-NwaE"
      },
      "execution_count": 4,
      "outputs": []
    },
    {
      "cell_type": "code",
      "source": [],
      "metadata": {
        "id": "7VyfsZN2Dz7m"
      },
      "execution_count": null,
      "outputs": []
    },
    {
      "cell_type": "markdown",
      "source": [
        "Pre processing and creating data generators"
      ],
      "metadata": {
        "id": "3HhjT1wZNpOY"
      }
    },
    {
      "cell_type": "code",
      "source": [
        "import tensorflow as tf\n",
        "from tensorflow.keras.preprocessing.image import ImageDataGenerator\n",
        "\n",
        "# Preprocess grayscale images to RGB\n",
        "def preprocess_grayscale_to_rgb(image):\n",
        "    \"\"\"\n",
        "    Converts a grayscale NumPy array to RGB and applies normalization for EfficientNet.\n",
        "    \"\"\"\n",
        "    # Check if the image is already RGB\n",
        "    if image.shape[-1] == 3:\n",
        "        # If already RGB, skip the conversion\n",
        "        image = tf.image.resize(image, [224, 224])\n",
        "    else:\n",
        "        if len(image.shape) == 2:  # If grayscale, add channel dimension\n",
        "            image = tf.expand_dims(image, axis=-1)  # Add channel dimension\n",
        "        image = tf.image.resize(image, [224, 224])  # Resize to target dimensions\n",
        "        image = tf.image.grayscale_to_rgb(image)  # Convert grayscale to RGB\n",
        "    image = tf.keras.applications.efficientnet.preprocess_input(image)  # Normalize for EfficientNet\n",
        "    return image\n",
        "\n",
        "\n",
        "# Create data generators\n",
        "train_datagen = ImageDataGenerator(\n",
        "    rotation_range=20,\n",
        "    width_shift_range=0.2,\n",
        "    height_shift_range=0.2,\n",
        "    shear_range=0.2,\n",
        "    zoom_range=0.2,\n",
        "    horizontal_flip=True,\n",
        "    fill_mode='nearest',\n",
        "    preprocessing_function=preprocess_grayscale_to_rgb  # Use updated function\n",
        ")\n",
        "\n",
        "val_test_datagen = ImageDataGenerator(preprocessing_function=preprocess_grayscale_to_rgb)\n",
        "\n",
        "# Training data generator\n",
        "train_generator = train_datagen.flow_from_directory(\n",
        "    train_dir,\n",
        "    target_size=(224, 224),\n",
        "    batch_size=32,\n",
        "    color_mode='rgb',  # Ensure grayscale input\n",
        "    class_mode='categorical'\n",
        ")\n",
        "\n",
        "# Validation data generator\n",
        "val_generator = val_test_datagen.flow_from_directory(\n",
        "    val_dir,\n",
        "    target_size=(224, 224),\n",
        "    batch_size=32,\n",
        "    color_mode='rgb',\n",
        "    class_mode='categorical'\n",
        ")\n",
        "\n",
        "# Testing data generator\n",
        "test_generator = val_test_datagen.flow_from_directory(\n",
        "    test_dir,\n",
        "    target_size=(224, 224),\n",
        "    batch_size=32,\n",
        "    color_mode='rgb',\n",
        "    class_mode='categorical',\n",
        "    shuffle=False  # Maintain order for evaluation\n",
        ")\n",
        "\n",
        "print(\"Data generators configured with grayscale-to-RGB conversion.\")\n"
      ],
      "metadata": {
        "colab": {
          "base_uri": "https://localhost:8080/"
        },
        "id": "D8Xoek1BN49y",
        "outputId": "6f2c6796-8af0-47b4-d33d-8fdbff188481"
      },
      "execution_count": 5,
      "outputs": [
        {
          "output_type": "stream",
          "name": "stdout",
          "text": [
            "Found 32000 images belonging to 4 classes.\n",
            "Found 32 images belonging to 4 classes.\n",
            "Found 968 images belonging to 4 classes.\n",
            "Data generators configured with grayscale-to-RGB conversion.\n"
          ]
        }
      ]
    },
    {
      "cell_type": "markdown",
      "source": [
        "## Individual model training and testing"
      ],
      "metadata": {
        "id": "4GXswZaSKf1p"
      }
    },
    {
      "cell_type": "markdown",
      "source": [
        "EfficientNetB0 Model"
      ],
      "metadata": {
        "id": "MqlSeys4Ki7g"
      }
    },
    {
      "cell_type": "code",
      "source": [
        "from tensorflow.keras.applications import EfficientNetB0\n",
        "from tensorflow.keras import layers, models, optimizers\n",
        "\n",
        "def fine_tune_efficientnet():\n",
        "    \"\"\"\n",
        "    Fine-tunes EfficientNetB0 with a frozen base and custom classification head.\n",
        "    \"\"\"\n",
        "    # Load EfficientNetB0 with pre-trained ImageNet weights\n",
        "    base_model = EfficientNetB0(weights='imagenet', include_top=False, input_shape=(224, 224, 3))\n",
        "\n",
        "    # Freeze the first 200 layers\n",
        "    for layer in base_model.layers[:200]:\n",
        "        layer.trainable = False\n",
        "\n",
        "    # Add custom layers on top of the base model\n",
        "    x = base_model.output\n",
        "    x = layers.GlobalAveragePooling2D()(x)  # Global pooling\n",
        "    x = layers.Dense(512, activation='relu')(x)  # Fully connected layer\n",
        "    x = layers.Dropout(0.5)(x)  # Dropout for regularization\n",
        "    output = layers.Dense(4, activation='softmax')(x)  # Output layer for 4 classes\n",
        "\n",
        "    # Create the model\n",
        "    model = models.Model(inputs=base_model.input, outputs=output)\n",
        "\n",
        "    # Compile the model with Adam optimizer and categorical crossentropy loss\n",
        "    model.compile(optimizer=optimizers.Adam(learning_rate=1e-4),\n",
        "                  loss='categorical_crossentropy',\n",
        "                  metrics=['accuracy'])\n",
        "\n",
        "    return model\n",
        "\n",
        "# Instantiate the model\n",
        "efficientnet_model = fine_tune_efficientnet()\n",
        "\n",
        "# Train the model using the data generator\n",
        "history_efficientnet = efficientnet_model.fit(\n",
        "    train_generator,\n",
        "    validation_data=val_generator,\n",
        "    epochs=12\n",
        ")\n",
        "\n",
        "# Save the trained model\n",
        "efficientnet_model.save('efficientnet.h5')\n",
        "\n",
        "# Output message for clarity\n",
        "print(\"EfficientNetB0 model trained and saved successfully.\")\n"
      ],
      "metadata": {
        "colab": {
          "base_uri": "https://localhost:8080/"
        },
        "id": "69Mj-VfIK7Gk",
        "outputId": "1a41461a-2cb3-481e-fa5f-21468d2bb734"
      },
      "execution_count": null,
      "outputs": [
        {
          "output_type": "stream",
          "name": "stdout",
          "text": [
            "Epoch 1/12\n"
          ]
        },
        {
          "output_type": "stream",
          "name": "stderr",
          "text": [
            "/usr/local/lib/python3.10/dist-packages/keras/src/trainers/data_adapters/py_dataset_adapter.py:122: UserWarning: Your `PyDataset` class should call `super().__init__(**kwargs)` in its constructor. `**kwargs` can include `workers`, `use_multiprocessing`, `max_queue_size`. Do not pass these arguments to `fit()`, as they will be ignored.\n",
            "  self._warn_if_super_not_called()\n"
          ]
        },
        {
          "output_type": "stream",
          "name": "stdout",
          "text": [
            "\u001b[1m1000/1000\u001b[0m \u001b[32m━━━━━━━━━━━━━━━━━━━━\u001b[0m\u001b[37m\u001b[0m \u001b[1m643s\u001b[0m 601ms/step - accuracy: 0.7224 - loss: 0.6850 - val_accuracy: 0.9688 - val_loss: 0.0617\n",
            "Epoch 2/12\n",
            "\u001b[1m1000/1000\u001b[0m \u001b[32m━━━━━━━━━━━━━━━━━━━━\u001b[0m\u001b[37m\u001b[0m \u001b[1m576s\u001b[0m 573ms/step - accuracy: 0.8726 - loss: 0.3492 - val_accuracy: 0.9688 - val_loss: 0.0431\n",
            "Epoch 3/12\n",
            "\u001b[1m1000/1000\u001b[0m \u001b[32m━━━━━━━━━━━━━━━━━━━━\u001b[0m\u001b[37m\u001b[0m \u001b[1m571s\u001b[0m 568ms/step - accuracy: 0.8901 - loss: 0.3053 - val_accuracy: 1.0000 - val_loss: 0.0296\n",
            "Epoch 4/12\n",
            "\u001b[1m1000/1000\u001b[0m \u001b[32m━━━━━━━━━━━━━━━━━━━━\u001b[0m\u001b[37m\u001b[0m \u001b[1m566s\u001b[0m 563ms/step - accuracy: 0.8990 - loss: 0.2800 - val_accuracy: 0.9688 - val_loss: 0.0943\n",
            "Epoch 5/12\n",
            "\u001b[1m1000/1000\u001b[0m \u001b[32m━━━━━━━━━━━━━━━━━━━━\u001b[0m\u001b[37m\u001b[0m \u001b[1m624s\u001b[0m 565ms/step - accuracy: 0.9028 - loss: 0.2671 - val_accuracy: 0.9688 - val_loss: 0.0782\n",
            "Epoch 6/12\n",
            "\u001b[1m1000/1000\u001b[0m \u001b[32m━━━━━━━━━━━━━━━━━━━━\u001b[0m\u001b[37m\u001b[0m \u001b[1m559s\u001b[0m 554ms/step - accuracy: 0.9097 - loss: 0.2532 - val_accuracy: 0.9688 - val_loss: 0.0414\n",
            "Epoch 7/12\n",
            "\u001b[1m1000/1000\u001b[0m \u001b[32m━━━━━━━━━━━━━━━━━━━━\u001b[0m\u001b[37m\u001b[0m \u001b[1m564s\u001b[0m 561ms/step - accuracy: 0.9132 - loss: 0.2387 - val_accuracy: 1.0000 - val_loss: 0.0590\n",
            "Epoch 8/12\n",
            "\u001b[1m1000/1000\u001b[0m \u001b[32m━━━━━━━━━━━━━━━━━━━━\u001b[0m\u001b[37m\u001b[0m \u001b[1m579s\u001b[0m 576ms/step - accuracy: 0.9171 - loss: 0.2324 - val_accuracy: 1.0000 - val_loss: 0.0221\n",
            "Epoch 9/12\n",
            "\u001b[1m1000/1000\u001b[0m \u001b[32m━━━━━━━━━━━━━━━━━━━━\u001b[0m\u001b[37m\u001b[0m \u001b[1m611s\u001b[0m 608ms/step - accuracy: 0.9217 - loss: 0.2211 - val_accuracy: 1.0000 - val_loss: 0.0299\n",
            "Epoch 10/12\n",
            "\u001b[1m1000/1000\u001b[0m \u001b[32m━━━━━━━━━━━━━━━━━━━━\u001b[0m\u001b[37m\u001b[0m \u001b[1m622s\u001b[0m 618ms/step - accuracy: 0.9264 - loss: 0.2035 - val_accuracy: 0.9688 - val_loss: 0.0500\n",
            "Epoch 11/12\n",
            "\u001b[1m1000/1000\u001b[0m \u001b[32m━━━━━━━━━━━━━━━━━━━━\u001b[0m\u001b[37m\u001b[0m \u001b[1m695s\u001b[0m 632ms/step - accuracy: 0.9291 - loss: 0.1986 - val_accuracy: 1.0000 - val_loss: 0.0296\n",
            "Epoch 12/12\n",
            "\u001b[1m1000/1000\u001b[0m \u001b[32m━━━━━━━━━━━━━━━━━━━━\u001b[0m\u001b[37m\u001b[0m \u001b[1m688s\u001b[0m 638ms/step - accuracy: 0.9279 - loss: 0.1998 - val_accuracy: 1.0000 - val_loss: 0.0258\n"
          ]
        },
        {
          "output_type": "stream",
          "name": "stderr",
          "text": [
            "WARNING:absl:You are saving your model as an HDF5 file via `model.save()` or `keras.saving.save_model(model)`. This file format is considered legacy. We recommend using instead the native Keras format, e.g. `model.save('my_model.keras')` or `keras.saving.save_model(model, 'my_model.keras')`. \n"
          ]
        },
        {
          "output_type": "stream",
          "name": "stdout",
          "text": [
            "EfficientNetB0 model trained and saved successfully.\n"
          ]
        }
      ]
    },
    {
      "cell_type": "markdown",
      "source": [
        "ResNet50 model"
      ],
      "metadata": {
        "id": "mNqyi6j5LFav"
      }
    },
    {
      "cell_type": "code",
      "source": [
        "from tensorflow.keras.applications import ResNet50\n",
        "from tensorflow.keras import layers, models, optimizers\n",
        "\n",
        "def fine_tune_resnet():\n",
        "    base_model = ResNet50(weights='imagenet', include_top=False, input_shape=(224, 224, 3))\n",
        "    for layer in base_model.layers[:143]:\n",
        "        layer.trainable = False\n",
        "\n",
        "    x = base_model.output\n",
        "    x = layers.GlobalAveragePooling2D()(x)\n",
        "    x = layers.Dense(512, activation='relu')(x)\n",
        "    x = layers.Dropout(0.5)(x)\n",
        "    output = layers.Dense(4, activation='softmax')(x)\n",
        "\n",
        "    model = models.Model(inputs=base_model.input, outputs=output)\n",
        "    model.compile(optimizer=optimizers.Adam(learning_rate=1e-4), loss='categorical_crossentropy', metrics=['accuracy'])\n",
        "    return model\n",
        "\n",
        "resnet_model = fine_tune_resnet()\n",
        "history_resnet = resnet_model.fit(train_generator, validation_data=val_generator, epochs=12)\n",
        "resnet_model.save('resnet.h5')\n"
      ],
      "metadata": {
        "colab": {
          "base_uri": "https://localhost:8080/"
        },
        "id": "tyZOGkTPLKTI",
        "outputId": "ef6a6429-7ec9-4abb-8780-7a7c4ed55393"
      },
      "execution_count": 6,
      "outputs": [
        {
          "output_type": "stream",
          "name": "stdout",
          "text": [
            "Downloading data from https://storage.googleapis.com/tensorflow/keras-applications/resnet/resnet50_weights_tf_dim_ordering_tf_kernels_notop.h5\n",
            "\u001b[1m94765736/94765736\u001b[0m \u001b[32m━━━━━━━━━━━━━━━━━━━━\u001b[0m\u001b[37m\u001b[0m \u001b[1m0s\u001b[0m 0us/step\n",
            "Epoch 1/12\n"
          ]
        },
        {
          "output_type": "stream",
          "name": "stderr",
          "text": [
            "/usr/local/lib/python3.10/dist-packages/keras/src/trainers/data_adapters/py_dataset_adapter.py:122: UserWarning: Your `PyDataset` class should call `super().__init__(**kwargs)` in its constructor. `**kwargs` can include `workers`, `use_multiprocessing`, `max_queue_size`. Do not pass these arguments to `fit()`, as they will be ignored.\n",
            "  self._warn_if_super_not_called()\n"
          ]
        },
        {
          "output_type": "stream",
          "name": "stdout",
          "text": [
            "\u001b[1m1000/1000\u001b[0m \u001b[32m━━━━━━━━━━━━━━━━━━━━\u001b[0m\u001b[37m\u001b[0m \u001b[1m603s\u001b[0m 576ms/step - accuracy: 0.7682 - loss: 0.5921 - val_accuracy: 0.9375 - val_loss: 0.0979\n",
            "Epoch 2/12\n",
            "\u001b[1m1000/1000\u001b[0m \u001b[32m━━━━━━━━━━━━━━━━━━━━\u001b[0m\u001b[37m\u001b[0m \u001b[1m560s\u001b[0m 558ms/step - accuracy: 0.8891 - loss: 0.3179 - val_accuracy: 0.9688 - val_loss: 0.0545\n",
            "Epoch 3/12\n",
            "\u001b[1m1000/1000\u001b[0m \u001b[32m━━━━━━━━━━━━━━━━━━━━\u001b[0m\u001b[37m\u001b[0m \u001b[1m556s\u001b[0m 553ms/step - accuracy: 0.9030 - loss: 0.2798 - val_accuracy: 0.9688 - val_loss: 0.0498\n",
            "Epoch 4/12\n",
            "\u001b[1m1000/1000\u001b[0m \u001b[32m━━━━━━━━━━━━━━━━━━━━\u001b[0m\u001b[37m\u001b[0m \u001b[1m561s\u001b[0m 558ms/step - accuracy: 0.9098 - loss: 0.2565 - val_accuracy: 0.9688 - val_loss: 0.0728\n",
            "Epoch 5/12\n",
            "\u001b[1m1000/1000\u001b[0m \u001b[32m━━━━━━━━━━━━━━━━━━━━\u001b[0m\u001b[37m\u001b[0m \u001b[1m565s\u001b[0m 563ms/step - accuracy: 0.9191 - loss: 0.2329 - val_accuracy: 0.9688 - val_loss: 0.0586\n",
            "Epoch 6/12\n",
            "\u001b[1m1000/1000\u001b[0m \u001b[32m━━━━━━━━━━━━━━━━━━━━\u001b[0m\u001b[37m\u001b[0m \u001b[1m563s\u001b[0m 559ms/step - accuracy: 0.9198 - loss: 0.2311 - val_accuracy: 0.9375 - val_loss: 0.1124\n",
            "Epoch 7/12\n",
            "\u001b[1m1000/1000\u001b[0m \u001b[32m━━━━━━━━━━━━━━━━━━━━\u001b[0m\u001b[37m\u001b[0m \u001b[1m626s\u001b[0m 565ms/step - accuracy: 0.9252 - loss: 0.2124 - val_accuracy: 1.0000 - val_loss: 0.0264\n",
            "Epoch 8/12\n",
            "\u001b[1m1000/1000\u001b[0m \u001b[32m━━━━━━━━━━━━━━━━━━━━\u001b[0m\u001b[37m\u001b[0m \u001b[1m614s\u001b[0m 557ms/step - accuracy: 0.9287 - loss: 0.2041 - val_accuracy: 1.0000 - val_loss: 0.0193\n",
            "Epoch 9/12\n",
            "\u001b[1m1000/1000\u001b[0m \u001b[32m━━━━━━━━━━━━━━━━━━━━\u001b[0m\u001b[37m\u001b[0m \u001b[1m566s\u001b[0m 561ms/step - accuracy: 0.9334 - loss: 0.1912 - val_accuracy: 0.9688 - val_loss: 0.0470\n",
            "Epoch 10/12\n",
            "\u001b[1m1000/1000\u001b[0m \u001b[32m━━━━━━━━━━━━━━━━━━━━\u001b[0m\u001b[37m\u001b[0m \u001b[1m565s\u001b[0m 560ms/step - accuracy: 0.9357 - loss: 0.1855 - val_accuracy: 0.9688 - val_loss: 0.0371\n",
            "Epoch 11/12\n",
            "\u001b[1m1000/1000\u001b[0m \u001b[32m━━━━━━━━━━━━━━━━━━━━\u001b[0m\u001b[37m\u001b[0m \u001b[1m563s\u001b[0m 560ms/step - accuracy: 0.9345 - loss: 0.1843 - val_accuracy: 1.0000 - val_loss: 0.0085\n",
            "Epoch 12/12\n",
            "\u001b[1m1000/1000\u001b[0m \u001b[32m━━━━━━━━━━━━━━━━━━━━\u001b[0m\u001b[37m\u001b[0m \u001b[1m560s\u001b[0m 557ms/step - accuracy: 0.9365 - loss: 0.1763 - val_accuracy: 0.9375 - val_loss: 0.0672\n"
          ]
        },
        {
          "output_type": "stream",
          "name": "stderr",
          "text": [
            "WARNING:absl:You are saving your model as an HDF5 file via `model.save()` or `keras.saving.save_model(model)`. This file format is considered legacy. We recommend using instead the native Keras format, e.g. `model.save('my_model.keras')` or `keras.saving.save_model(model, 'my_model.keras')`. \n"
          ]
        }
      ]
    },
    {
      "cell_type": "markdown",
      "source": [
        "Dense Net model"
      ],
      "metadata": {
        "id": "e9GjTcUOLOKq"
      }
    },
    {
      "cell_type": "code",
      "source": [
        "from tensorflow.keras.applications import DenseNet121\n",
        "from tensorflow.keras import layers, models\n",
        "\n",
        "def create_densenet():\n",
        "    base_model = DenseNet121(weights='imagenet', include_top=False, input_shape=(224, 224, 3))\n",
        "    base_model.trainable = False\n",
        "\n",
        "    x = base_model.output\n",
        "    x = layers.GlobalAveragePooling2D()(x)\n",
        "    x = layers.Dense(256, activation='relu')(x)\n",
        "    output = layers.Dense(4, activation='softmax')(x)\n",
        "\n",
        "    model = models.Model(inputs=base_model.input, outputs=output)\n",
        "    model.compile(optimizer='adam', loss='categorical_crossentropy', metrics=['accuracy'])\n",
        "    return model\n",
        "\n",
        "densenet_model = create_densenet()\n",
        "history_densenet = densenet_model.fit(train_generator, validation_data=val_generator, epochs=12)\n",
        "densenet_model.save('densenet_model.h5')\n"
      ],
      "metadata": {
        "id": "qqkpxiTPMbxO",
        "colab": {
          "base_uri": "https://localhost:8080/"
        },
        "outputId": "8fb1eb5f-4051-468e-f5e2-3f415c92c428"
      },
      "execution_count": 7,
      "outputs": [
        {
          "output_type": "stream",
          "name": "stdout",
          "text": [
            "Downloading data from https://storage.googleapis.com/tensorflow/keras-applications/densenet/densenet121_weights_tf_dim_ordering_tf_kernels_notop.h5\n",
            "\u001b[1m29084464/29084464\u001b[0m \u001b[32m━━━━━━━━━━━━━━━━━━━━\u001b[0m\u001b[37m\u001b[0m \u001b[1m0s\u001b[0m 0us/step\n",
            "Epoch 1/12\n",
            "\u001b[1m1000/1000\u001b[0m \u001b[32m━━━━━━━━━━━━━━━━━━━━\u001b[0m\u001b[37m\u001b[0m \u001b[1m577s\u001b[0m 548ms/step - accuracy: 0.4654 - loss: 1.4576 - val_accuracy: 0.6562 - val_loss: 0.9255\n",
            "Epoch 2/12\n",
            "\u001b[1m1000/1000\u001b[0m \u001b[32m━━━━━━━━━━━━━━━━━━━━\u001b[0m\u001b[37m\u001b[0m \u001b[1m603s\u001b[0m 543ms/step - accuracy: 0.6016 - loss: 0.9539 - val_accuracy: 0.7812 - val_loss: 0.6703\n",
            "Epoch 3/12\n",
            "\u001b[1m1000/1000\u001b[0m \u001b[32m━━━━━━━━━━━━━━━━━━━━\u001b[0m\u001b[37m\u001b[0m \u001b[1m559s\u001b[0m 539ms/step - accuracy: 0.6192 - loss: 0.9026 - val_accuracy: 0.6250 - val_loss: 0.7460\n",
            "Epoch 4/12\n",
            "\u001b[1m1000/1000\u001b[0m \u001b[32m━━━━━━━━━━━━━━━━━━━━\u001b[0m\u001b[37m\u001b[0m \u001b[1m540s\u001b[0m 537ms/step - accuracy: 0.6368 - loss: 0.8654 - val_accuracy: 0.5938 - val_loss: 0.8582\n",
            "Epoch 5/12\n",
            "\u001b[1m1000/1000\u001b[0m \u001b[32m━━━━━━━━━━━━━━━━━━━━\u001b[0m\u001b[37m\u001b[0m \u001b[1m541s\u001b[0m 538ms/step - accuracy: 0.6463 - loss: 0.8480 - val_accuracy: 0.8125 - val_loss: 0.6241\n",
            "Epoch 6/12\n",
            "\u001b[1m1000/1000\u001b[0m \u001b[32m━━━━━━━━━━━━━━━━━━━━\u001b[0m\u001b[37m\u001b[0m \u001b[1m543s\u001b[0m 539ms/step - accuracy: 0.6458 - loss: 0.8416 - val_accuracy: 0.6875 - val_loss: 0.7199\n",
            "Epoch 7/12\n",
            "\u001b[1m1000/1000\u001b[0m \u001b[32m━━━━━━━━━━━━━━━━━━━━\u001b[0m\u001b[37m\u001b[0m \u001b[1m548s\u001b[0m 545ms/step - accuracy: 0.6567 - loss: 0.8262 - val_accuracy: 0.6250 - val_loss: 0.8905\n",
            "Epoch 8/12\n",
            "\u001b[1m1000/1000\u001b[0m \u001b[32m━━━━━━━━━━━━━━━━━━━━\u001b[0m\u001b[37m\u001b[0m \u001b[1m541s\u001b[0m 538ms/step - accuracy: 0.6626 - loss: 0.8145 - val_accuracy: 0.7188 - val_loss: 0.7981\n",
            "Epoch 9/12\n",
            "\u001b[1m1000/1000\u001b[0m \u001b[32m━━━━━━━━━━━━━━━━━━━━\u001b[0m\u001b[37m\u001b[0m \u001b[1m559s\u001b[0m 536ms/step - accuracy: 0.6678 - loss: 0.8064 - val_accuracy: 0.6875 - val_loss: 0.7797\n",
            "Epoch 10/12\n",
            "\u001b[1m1000/1000\u001b[0m \u001b[32m━━━━━━━━━━━━━━━━━━━━\u001b[0m\u001b[37m\u001b[0m \u001b[1m561s\u001b[0m 535ms/step - accuracy: 0.6681 - loss: 0.8012 - val_accuracy: 0.6875 - val_loss: 0.7921\n",
            "Epoch 11/12\n",
            "\u001b[1m1000/1000\u001b[0m \u001b[32m━━━━━━━━━━━━━━━━━━━━\u001b[0m\u001b[37m\u001b[0m \u001b[1m540s\u001b[0m 537ms/step - accuracy: 0.6710 - loss: 0.7947 - val_accuracy: 0.6875 - val_loss: 0.7620\n",
            "Epoch 12/12\n",
            "\u001b[1m1000/1000\u001b[0m \u001b[32m━━━━━━━━━━━━━━━━━━━━\u001b[0m\u001b[37m\u001b[0m \u001b[1m588s\u001b[0m 563ms/step - accuracy: 0.6731 - loss: 0.7898 - val_accuracy: 0.7812 - val_loss: 0.6845\n"
          ]
        },
        {
          "output_type": "stream",
          "name": "stderr",
          "text": [
            "WARNING:absl:You are saving your model as an HDF5 file via `model.save()` or `keras.saving.save_model(model)`. This file format is considered legacy. We recommend using instead the native Keras format, e.g. `model.save('my_model.keras')` or `keras.saving.save_model(model, 'my_model.keras')`. \n"
          ]
        }
      ]
    },
    {
      "cell_type": "code",
      "source": [
        "from sklearn.metrics import classification_report, confusion_matrix\n",
        "import numpy as np\n",
        "import seaborn as sns\n",
        "import matplotlib.pyplot as plt\n",
        "\n",
        "# Define function to evaluate and compute metrics\n",
        "def evaluate_model(model, generator, class_names):\n",
        "    # Predict on test data\n",
        "    predictions = model.predict(generator)\n",
        "    predicted_classes = np.argmax(predictions, axis=1)\n",
        "    true_classes = generator.classes\n",
        "\n",
        "    # Classification report\n",
        "    report = classification_report(true_classes, predicted_classes, target_names=class_names)\n",
        "    print(\"Classification Report:\\n\", report)\n",
        "\n",
        "    # Confusion Matrix\n",
        "    cm = confusion_matrix(true_classes, predicted_classes)\n",
        "    plt.figure(figsize=(10, 8))\n",
        "    sns.heatmap(cm, annot=True, fmt='d', cmap='Blues', xticklabels=class_names, yticklabels=class_names)\n",
        "    plt.xlabel('Predicted')\n",
        "    plt.ylabel('True')\n",
        "    plt.title('Confusion Matrix')\n",
        "    plt.show()\n",
        "\n",
        "    return report, cm\n"
      ],
      "metadata": {
        "id": "NDzUFNrKE8D8"
      },
      "execution_count": 8,
      "outputs": []
    },
    {
      "cell_type": "code",
      "source": [
        "# Class labels\n",
        "class_labels = list(test_generator.class_indices.keys())\n",
        "\n",
        "# Evaluate DenseNet model\n",
        "print(\"DenseNet Model Evaluation:\")\n",
        "densenet_report, densenet_cm = evaluate_model(densenet_model, test_generator, class_labels)\n",
        "\n",
        "# Evaluate ResNet model\n",
        "print(\"\\nResNet Model Evaluation:\")\n",
        "resnet_report, resnet_cm = evaluate_model(resnet_model, test_generator, class_labels)\n",
        "\n",
        "# Evaluate EfficientNet model\n",
        "print(\"\\nEfficientNet Model Evaluation:\")\n",
        "efficientnet_report, efficientnet_cm = evaluate_model(efficientnet_model, test_generator, class_labels)\n"
      ],
      "metadata": {
        "colab": {
          "base_uri": "https://localhost:8080/",
          "height": 1000
        },
        "id": "yt__4FZ0FAWL",
        "outputId": "fef82a22-71dc-40ad-ca8e-90fdf3189ebf"
      },
      "execution_count": 9,
      "outputs": [
        {
          "output_type": "stream",
          "name": "stdout",
          "text": [
            "DenseNet Model Evaluation:\n"
          ]
        },
        {
          "output_type": "stream",
          "name": "stderr",
          "text": [
            "/usr/local/lib/python3.10/dist-packages/keras/src/trainers/data_adapters/py_dataset_adapter.py:122: UserWarning: Your `PyDataset` class should call `super().__init__(**kwargs)` in its constructor. `**kwargs` can include `workers`, `use_multiprocessing`, `max_queue_size`. Do not pass these arguments to `fit()`, as they will be ignored.\n",
            "  self._warn_if_super_not_called()\n"
          ]
        },
        {
          "output_type": "stream",
          "name": "stdout",
          "text": [
            "\u001b[1m31/31\u001b[0m \u001b[32m━━━━━━━━━━━━━━━━━━━━\u001b[0m\u001b[37m\u001b[0m \u001b[1m29s\u001b[0m 626ms/step\n",
            "Classification Report:\n",
            "               precision    recall  f1-score   support\n",
            "\n",
            "         CNV       0.86      0.66      0.75       242\n",
            "         DME       0.80      0.39      0.53       242\n",
            "      DRUSEN       0.57      0.87      0.69       242\n",
            "      NORMAL       0.74      0.91      0.82       242\n",
            "\n",
            "    accuracy                           0.71       968\n",
            "   macro avg       0.74      0.71      0.69       968\n",
            "weighted avg       0.74      0.71      0.69       968\n",
            "\n"
          ]
        },
        {
          "output_type": "display_data",
          "data": {
            "text/plain": [
              "<Figure size 1000x800 with 2 Axes>"
            ],
            "image/png": "[encoded data removed]"
          },
          "metadata": {}
        },
        {
          "output_type": "stream",
          "name": "stdout",
          "text": [
            "\n",
            "ResNet Model Evaluation:\n",
            "\u001b[1m31/31\u001b[0m \u001b[32m━━━━━━━━━━━━━━━━━━━━\u001b[0m\u001b[37m\u001b[0m \u001b[1m14s\u001b[0m 351ms/step\n",
            "Classification Report:\n",
            "               precision    recall  f1-score   support\n",
            "\n",
            "         CNV       0.95      1.00      0.97       242\n",
            "         DME       1.00      0.96      0.98       242\n",
            "      DRUSEN       0.99      0.97      0.98       242\n",
            "      NORMAL       0.99      1.00      0.99       242\n",
            "\n",
            "    accuracy                           0.98       968\n",
            "   macro avg       0.98      0.98      0.98       968\n",
            "weighted avg       0.98      0.98      0.98       968\n",
            "\n"
          ]
        },
        {
          "output_type": "display_data",
          "data": {
            "text/plain": [
              "<Figure size 1000x800 with 2 Axes>"
            ],
            "image/png": "[encoded data removed]"
          },
          "metadata": {}
        },
        {
          "output_type": "stream",
          "name": "stdout",
          "text": [
            "\n",
            "EfficientNet Model Evaluation:\n"
          ]
        },
        {
          "output_type": "error",
          "ename": "NameError",
          "evalue": "name 'efficientnet_model' is not defined",
          "traceback": [
            "\u001b[0;31m---------------------------------------------------------------------------\u001b[0m",
            "\u001b[0;31mNameError\u001b[0m                                 Traceback (most recent call last)",
            "\u001b[0;32m<ipython-input-9-db0da77db4f1>\u001b[0m in \u001b[0;36m<cell line: 14>\u001b[0;34m()\u001b[0m\n\u001b[1;32m     12\u001b[0m \u001b[0;31m# Evaluate EfficientNet model\u001b[0m\u001b[0;34m\u001b[0m\u001b[0;34m\u001b[0m\u001b[0m\n\u001b[1;32m     13\u001b[0m \u001b[0mprint\u001b[0m\u001b[0;34m(\u001b[0m\u001b[0;34m\"\\nEfficientNet Model Evaluation:\"\u001b[0m\u001b[0;34m)\u001b[0m\u001b[0;34m\u001b[0m\u001b[0;34m\u001b[0m\u001b[0m\n\u001b[0;32m---> 14\u001b[0;31m \u001b[0mefficientnet_report\u001b[0m\u001b[0;34m,\u001b[0m \u001b[0mefficientnet_cm\u001b[0m \u001b[0;34m=\u001b[0m \u001b[0mevaluate_model\u001b[0m\u001b[0;34m(\u001b[0m\u001b[0mefficientnet_model\u001b[0m\u001b[0;34m,\u001b[0m \u001b[0mtest_generator\u001b[0m\u001b[0;34m,\u001b[0m \u001b[0mclass_labels\u001b[0m\u001b[0;34m)\u001b[0m\u001b[0;34m\u001b[0m\u001b[0;34m\u001b[0m\u001b[0m\n\u001b[0m",
            "\u001b[0;31mNameError\u001b[0m: name 'efficientnet_model' is not defined"
          ]
        }
      ]
    },
    {
      "cell_type": "code",
      "source": [
        "def plot_classification_report(report, title='Classification Metrics', figsize=(10, 8)):\n",
        "    lines = report.split(\"\\n\")\n",
        "    classes, precision, recall, f1_score, support = [], [], [], [], []\n",
        "\n",
        "    for line in lines[2:(len(lines) - 5)]:\n",
        "        row = line.split()\n",
        "        classes.append(row[0])\n",
        "        precision.append(float(row[1]))\n",
        "        recall.append(float(row[2]))\n",
        "        f1_score.append(float(row[3]))\n",
        "        support.append(int(row[4]))\n",
        "\n",
        "    x = np.arange(len(classes))\n",
        "\n",
        "    plt.figure(figsize=figsize)\n",
        "    plt.bar(x - 0.2, precision, width=0.2, label='Precision', color='blue')\n",
        "    plt.bar(x, recall, width=0.2, label='Recall', color='green')\n",
        "    plt.bar(x + 0.2, f1_score, width=0.2, label='F1-score', color='orange')\n",
        "\n",
        "    plt.xticks(x, classes, rotation=45)\n",
        "    plt.xlabel(\"Classes\")\n",
        "    plt.ylabel(\"Score\")\n",
        "    plt.title(title)\n",
        "    plt.ylim(0, 1)\n",
        "    plt.legend()\n",
        "    plt.show()\n",
        "\n",
        "# Plot for DenseNet\n",
        "plot_classification_report(densenet_report, title='DenseNet Metrics')\n",
        "\n",
        "# Plot for ResNet\n",
        "plot_classification_report(resnet_report, title='ResNet Metrics')\n",
        "\n",
        "# Plot for EfficientNet\n",
        "plot_classification_report(efficientnet_report, title='EfficientNet Metrics')\n"
      ],
      "metadata": {
        "id": "nOAXLe2fFFTK"
      },
      "execution_count": null,
      "outputs": []
    },
    {
      "cell_type": "code",
      "source": [
        "def predict_on_sample(generator, model, class_labels):\n",
        "    # Get a batch of images and labels\n",
        "    images, labels = next(generator)\n",
        "    true_labels = np.argmax(labels, axis=1)\n",
        "\n",
        "    predictions = model.predict(images)\n",
        "    predicted_labels = np.argmax(predictions, axis=1)\n",
        "\n",
        "    # Plot a few samples\n",
        "    plt.figure(figsize=(12, 12))\n",
        "    for i in range(9):\n",
        "        plt.subplot(3, 3, i + 1)\n",
        "        plt.imshow(images[i].astype('uint8'))\n",
        "        true_label = class_labels[true_labels[i]]\n",
        "        predicted_label = class_labels[predicted_labels[i]]\n",
        "        plt.title(f\"True: {true_label}\\nPredicted: {predicted_label}\")\n",
        "        plt.axis('off')\n",
        "    plt.tight_layout()\n",
        "    plt.show()\n",
        "\n",
        "# Predict and visualize DenseNet results\n",
        "predict_on_sample(test_generator, densenet_model, class_labels)\n"
      ],
      "metadata": {
        "id": "DonhSaGmFMhx"
      },
      "execution_count": null,
      "outputs": []
    }
  ],
  "metadata": {
    "accelerator": "GPU",
    "colab": {
      "gpuType": "T4",
      "provenance": [],
      "mount_file_id": "1R53UTIiHVB8eS87AMzjdm3zcHzx4B13A",
      "authorship_tag": "ABX9TyPnWC7RkxZaLwRGztHNnoyM",
      "include_colab_link": true
    },
    "kernelspec": {
      "display_name": "Python 3",
      "name": "python3"
    },
    "language_info": {
      "name": "python"
    }
  },
  "nbformat": 4,
  "nbformat_minor": 0
}