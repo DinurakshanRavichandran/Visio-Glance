{
  "nbformat": 4,
  "nbformat_minor": 0,
  "metadata": {
    "colab": {
      "provenance": [],
      "authorship_tag": "ABX9TyMUIWyhqEacId6Wll1UFA+m",
      "include_colab_link": true
    },
    "kernelspec": {
      "name": "python3",
      "display_name": "Python 3"
    },
    "language_info": {
      "name": "python"
    }
  },
  "cells": [
    {
      "cell_type": "markdown",
      "metadata": {
        "id": "view-in-github",
        "colab_type": "text"
      },
      "source": [
        "<a href=\"https://colab.research.google.com/github/DinurakshanRavichandran/Visio-Glance/blob/Pre-Processed-Datasets-NLP/cataractPPFinal.ipynb\" target=\"_parent\"><img src=\"https://colab.research.google.com/assets/colab-badge.svg\" alt=\"Open In Colab\"/></a>"
      ]
    },
    {
      "cell_type": "code",
      "execution_count": null,
      "metadata": {
        "id": "9f0QThCzCuKG",
        "colab": {
          "base_uri": "https://localhost:8080/"
        },
        "outputId": "6f35dfb1-900c-4e7b-dc29-42537edee99a"
      },
      "outputs": [
        {
          "output_type": "stream",
          "name": "stdout",
          "text": [
            "Mounted at /content/drive\n"
          ]
        }
      ],
      "source": [
        "#mount google drive\n",
        "from google.colab import drive\n",
        "drive.mount('/content/drive')"
      ]
    },
    {
      "cell_type": "code",
      "source": [
        "import pandas as pd\n",
        "from sklearn.preprocessing import OneHotEncoder\n",
        "from sklearn.impute import SimpleImputer\n",
        "from imblearn.over_sampling import SMOTE\n",
        "from imblearn.under_sampling import RandomUnderSampler\n",
        "import re\n",
        "\n",
        "# Load dataset\n",
        "file_path = '/content/drive/MyDrive/PROJECT 29/DATASETS/Synthetic_Cataract_Dataset.csv'\n",
        "df = pd.read_csv(file_path)\n",
        "\n",
        "# Remove duplicate rows\n",
        "df.drop_duplicates(inplace=True)\n",
        "\n",
        "# Drop \"Family History\" column if it exists\n",
        "if 'Family History' in df.columns:\n",
        "    df.drop(columns=['Family History'], inplace=True)\n",
        "\n",
        "# Handle missing values\n",
        "imputer = SimpleImputer(strategy='most_frequent')\n",
        "df_filled = pd.DataFrame(imputer.fit_transform(df), columns=df.columns)\n",
        "\n",
        "# Function to process text data\n",
        "def process_text(text):\n",
        "    text = text.lower()  # Convert to lowercase\n",
        "    text = re.sub(r'[^a-z\\s]', '', text)  # Remove non-alphabetic characters\n",
        "    text = re.sub(r'\\s+', ' ', text).strip()  # Remove multiple spaces\n",
        "    return text\n",
        "\n",
        "# Apply text processing\n",
        "df_filled['Visual Symptoms'] = df_filled['Visual Symptoms'].apply(process_text)\n",
        "\n",
        "# Encode categorical data\n",
        "categorical_features = ['Visual Acuity Test Results', 'Lens Opacity', 'Glare Sensitivity',\n",
        "                        'UV Exposure', 'Visual Symptoms']\n",
        "one_hot_encoder = OneHotEncoder()\n",
        "encoded_features = one_hot_encoder.fit_transform(df_filled[categorical_features]).toarray()\n",
        "feature_labels = one_hot_encoder.get_feature_names_out(categorical_features)\n",
        "encoded_df = pd.DataFrame(encoded_features, columns=feature_labels).astype(int)  # Convert to int\n",
        "\n",
        "# Rename specific one-hot encoded features\n",
        "rename_dict = {\n",
        "    'Visual Symptoms_blurry vision': 'Visual Symptoms_blurred vision',\n",
        "    'Visual Symptoms_none': 'Visual Symptoms_no visible symptoms'\n",
        "}\n",
        "encoded_df.rename(columns=rename_dict, inplace=True)\n",
        "\n",
        "# Drop original categorical columns and add encoded ones\n",
        "df_final = df_filled.drop(categorical_features, axis=1)\n",
        "df_final = pd.concat([df_final, encoded_df], axis=1)\n",
        "\n",
        "# Ensure the target variable is in integer format\n",
        "df_final['Diagnosis'] = df_final['Diagnosis'].astype(int)\n",
        "\n",
        "# Define target and features\n",
        "features = df_final.drop(columns=['Diagnosis'])\n",
        "target = df_final['Diagnosis']\n",
        "\n",
        "# Print class distribution before balancing\n",
        "print(\"Before balancing:\")\n",
        "print(target.value_counts())\n",
        "\n",
        "# Define target sample size per class (approx. 5000 per class)\n",
        "desired_class_size = 5000\n",
        "\n",
        "# Step 1: Undersample the majority class (0 - No Cataract) down to 5000\n",
        "undersample = RandomUnderSampler(sampling_strategy={0: desired_class_size}, random_state=42)\n",
        "features_under, target_under = undersample.fit_resample(features, target)\n",
        "\n",
        "# Step 2: Oversample the minority class (1 - Cataract) up to 5000 using SMOTE\n",
        "smote = SMOTE(sampling_strategy={1: desired_class_size}, random_state=42)\n",
        "features_balanced, target_balanced = smote.fit_resample(features_under, target_under)\n",
        "\n",
        "# Reconstruct the DataFrame with balanced data\n",
        "df_balanced = pd.DataFrame(features_balanced, columns=features.columns)\n",
        "df_balanced['Diagnosis'] = target_balanced.astype(int)  # Ensure it's an integer\n",
        "\n",
        "# Print class distribution after balancing\n",
        "print(\"\\nAfter balancing:\")\n",
        "print(df_balanced['Diagnosis'].value_counts())\n",
        "\n",
        "# Save Preprocessed Data\n",
        "preprocessed_file_path = '/content/drive/MyDrive/PROJECT 29/FINAL MODEL/Preprocessed_Cataract_Dataset.csv'\n",
        "df_balanced.to_csv(preprocessed_file_path, index=False)\n",
        "\n",
        "# Display the head of the preprocessed dataset\n",
        "print(df_balanced.head())\n"
      ],
      "metadata": {
        "id": "5kudhjNP0MSa",
        "colab": {
          "base_uri": "https://localhost:8080/"
        },
        "outputId": "da2741d9-28f4-46d7-a9e9-626331713518"
      },
      "execution_count": 6,
      "outputs": [
        {
          "output_type": "stream",
          "name": "stdout",
          "text": [
            "Before balancing:\n",
            "Diagnosis\n",
            "0    5959\n",
            "1    3808\n",
            "Name: count, dtype: int64\n",
            "\n",
            "After balancing:\n",
            "Diagnosis\n",
            "0    5000\n",
            "1    5000\n",
            "Name: count, dtype: int64\n",
            "    Age History of Diabetes Smoking Status  Visual Acuity Test Results_20/100  \\\n",
            "0  51.0                 0.0            1.0                                  0   \n",
            "1  50.0                 0.0            1.0                                  0   \n",
            "2  47.0                 0.0            0.0                                  0   \n",
            "3  88.0                 0.0            0.0                                  0   \n",
            "4  41.0                 1.0            1.0                                  0   \n",
            "\n",
            "   Visual Acuity Test Results_20/20  Visual Acuity Test Results_20/30  \\\n",
            "0                                 1                                 0   \n",
            "1                                 0                                 1   \n",
            "2                                 0                                 1   \n",
            "3                                 0                                 0   \n",
            "4                                 0                                 1   \n",
            "\n",
            "   Visual Acuity Test Results_20/40  Visual Acuity Test Results_20/50  \\\n",
            "0                                 0                                 0   \n",
            "1                                 0                                 0   \n",
            "2                                 0                                 0   \n",
            "3                                 0                                 1   \n",
            "4                                 0                                 0   \n",
            "\n",
            "   Visual Acuity Test Results_20/70  Lens Opacity_mild  ...  \\\n",
            "0                                 0                  1  ...   \n",
            "1                                 0                  0  ...   \n",
            "2                                 0                  0  ...   \n",
            "3                                 0                  1  ...   \n",
            "4                                 0                  0  ...   \n",
            "\n",
            "   Glare Sensitivity_none  Glare Sensitivity_severe  UV Exposure_high  \\\n",
            "0                       0                         1                 1   \n",
            "1                       1                         0                 0   \n",
            "2                       0                         0                 0   \n",
            "3                       1                         0                 0   \n",
            "4                       0                         0                 1   \n",
            "\n",
            "   UV Exposure_low  UV Exposure_medium  Visual Symptoms_blurred vision  \\\n",
            "0                0                   0                               0   \n",
            "1                0                   1                               0   \n",
            "2                0                   1                               1   \n",
            "3                0                   1                               1   \n",
            "4                0                   0                               0   \n",
            "\n",
            "   Visual Symptoms_frequent changes in vision  \\\n",
            "0                                           1   \n",
            "1                                           0   \n",
            "2                                           0   \n",
            "3                                           0   \n",
            "4                                           1   \n",
            "\n",
            "   Visual Symptoms_halos around lights  Visual Symptoms_no visible symptoms  \\\n",
            "0                                    0                                    0   \n",
            "1                                    0                                    1   \n",
            "2                                    0                                    0   \n",
            "3                                    0                                    0   \n",
            "4                                    0                                    0   \n",
            "\n",
            "   Diagnosis  \n",
            "0          0  \n",
            "1          0  \n",
            "2          0  \n",
            "3          0  \n",
            "4          0  \n",
            "\n",
            "[5 rows x 23 columns]\n"
          ]
        }
      ]
    }
  ]
}