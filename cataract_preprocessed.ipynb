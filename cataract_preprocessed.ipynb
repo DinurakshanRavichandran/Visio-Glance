{
  "nbformat": 4,
  "nbformat_minor": 0,
  "metadata": {
    "colab": {
      "provenance": [],
      "mount_file_id": "1sxcNHGuZNg8X6IxlmcR15yDe8pWeFDBl",
      "authorship_tag": "ABX9TyNxmLpaWgRcaZ0NySp9/2oG",
      "include_colab_link": true
    },
    "kernelspec": {
      "name": "python3",
      "display_name": "Python 3"
    },
    "language_info": {
      "name": "python"
    }
  },
  "cells": [
    {
      "cell_type": "markdown",
      "metadata": {
        "id": "view-in-github",
        "colab_type": "text"
      },
      "source": [
        "<a href=\"https://colab.research.google.com/github/DinurakshanRavichandran/Visio-Glance/blob/Pre-Processed-Datasets-NLP/cataract_preprocessed.ipynb\" target=\"_parent\"><img src=\"https://colab.research.google.com/assets/colab-badge.svg\" alt=\"Open In Colab\"/></a>"
      ]
    },
    {
      "cell_type": "code",
      "execution_count": 1,
      "metadata": {
        "colab": {
          "base_uri": "https://localhost:8080/"
        },
        "id": "VoVBPzjs0lLm",
        "outputId": "aa9d526d-7b63-4455-ee03-131ffbe789dd"
      },
      "outputs": [
        {
          "output_type": "stream",
          "name": "stdout",
          "text": [
            "Balanced dataset class distribution:\n",
            "Diagnosis\n",
            "1    2537\n",
            "0    2537\n",
            "Name: count, dtype: int64\n"
          ]
        }
      ],
      "source": [
        "import pandas as pd\n",
        "import numpy as np\n",
        "from sklearn.preprocessing import LabelEncoder, StandardScaler\n",
        "from imblearn.over_sampling import SMOTE\n",
        "\n",
        "# Load dataset\n",
        "df = pd.read_csv(\"/content/drive/MyDrive/DSGP PROJECT 29/DATASETS/synthetic_cataract_dataset.csv\")\n",
        "\n",
        "# Step 1: Data Cleaning\n",
        "# Handling missing values\n",
        "df.drop_duplicates(inplace=True)\n",
        "df.dropna(inplace=True)  # Drop rows with missing values\n",
        "\n",
        "# Step 2: Data Transformation\n",
        "# Identify categorical columns\n",
        "categorical_cols = df.select_dtypes(include=['object']).columns\n",
        "\n",
        "# Encoding categorical variables\n",
        "label_encoders = {}\n",
        "for col in categorical_cols:\n",
        "    le = LabelEncoder()\n",
        "    df[col] = le.fit_transform(df[col])\n",
        "    label_encoders[col] = le\n",
        "\n",
        "# Standardizing numerical features\n",
        "scaler = StandardScaler()\n",
        "numeric_cols = df.select_dtypes(include=['int64', 'float64']).columns.drop('Diagnosis')\n",
        "df[numeric_cols] = scaler.fit_transform(df[numeric_cols])\n",
        "\n",
        "# Step 3: Feature Selection\n",
        "# Assuming all columns except 'Diagnosis' are relevant features\n",
        "X = df.drop(columns=['Diagnosis'])\n",
        "y = df['Diagnosis']  # Target variable\n",
        "\n",
        "# Step 4: Handling Imbalanced Data using SMOTE\n",
        "smote = SMOTE(random_state=42)\n",
        "X_resampled, y_resampled = smote.fit_resample(X, y)\n",
        "\n",
        "# Convert resampled data back to a DataFrame\n",
        "balanced_df = pd.DataFrame(X_resampled, columns=X.columns)\n",
        "balanced_df['Diagnosis'] = y_resampled\n",
        "\n",
        "# Print balanced dataset count\n",
        "print(\"Balanced dataset class distribution:\")\n",
        "print(balanced_df['Diagnosis'].value_counts())\n"
      ]
    }
  ]
}