{
  "cells": [
    {
      "cell_type": "markdown",
      "metadata": {
        "id": "view-in-github",
        "colab_type": "text"
      },
      "source": [
        "<a href=\"https://colab.research.google.com/github/DinurakshanRavichandran/Visio-Glance/blob/Glaucoma-Model/glaucoma_V02.ipynb\" target=\"_parent\"><img src=\"https://colab.research.google.com/assets/colab-badge.svg\" alt=\"Open In Colab\"/></a>"
      ]
    },
    {
      "cell_type": "markdown",
      "id": "1931d145",
      "metadata": {
        "id": "1931d145"
      },
      "source": [
        "# Glaucoma Detection Using XGBoost"
      ]
    },
    {
      "cell_type": "code",
      "source": [
        "from google.colab import drive\n",
        "drive.mount('/content/drive')"
      ],
      "metadata": {
        "id": "_86gNfKTTXea",
        "colab": {
          "base_uri": "https://localhost:8080/"
        },
        "outputId": "062e3501-56e8-4b7f-de27-d750704d846d"
      },
      "id": "_86gNfKTTXea",
      "execution_count": null,
      "outputs": [
        {
          "output_type": "stream",
          "name": "stdout",
          "text": [
            "Mounted at /content/drive\n"
          ]
        }
      ]
    },
    {
      "cell_type": "code",
      "execution_count": null,
      "id": "0532b61d",
      "metadata": {
        "id": "0532b61d"
      },
      "outputs": [],
      "source": [
        "\n",
        "# 1. Importing Libraries\n",
        "import pandas as pd\n",
        "import numpy as np\n",
        "from sklearn.model_selection import train_test_split\n",
        "from sklearn.preprocessing import LabelEncoder, StandardScaler\n",
        "from sklearn.impute import SimpleImputer\n",
        "from sklearn.ensemble import RandomForestClassifier\n",
        "from imblearn.over_sampling import SMOTE\n",
        "from sklearn.metrics import classification_report, accuracy_score\n",
        "from sklearn.feature_extraction.text import TfidfVectorizer\n",
        "from xgboost import XGBClassifier"
      ]
    },
    {
      "cell_type": "markdown",
      "id": "348e37b8",
      "metadata": {
        "id": "348e37b8"
      },
      "source": [
        "## 2. Loading and Exploring the Dataset"
      ]
    },
    {
      "cell_type": "code",
      "execution_count": null,
      "id": "9651d910",
      "metadata": {
        "id": "9651d910",
        "colab": {
          "base_uri": "https://localhost:8080/"
        },
        "outputId": "d31911d3-daf1-4a10-8ae7-3fa1fcd4dcc9"
      },
      "outputs": [
        {
          "output_type": "stream",
          "name": "stdout",
          "text": [
            "   Patient ID  Age  Gender Visual Acuity Measurements  \\\n",
            "0       62431   69    Male                 LogMAR 0.1   \n",
            "1       68125   69  Female                 LogMAR 0.1   \n",
            "2       63329   67  Female                      20/40   \n",
            "3       47174   23    Male                 LogMAR 0.0   \n",
            "4       67361   21    Male                 LogMAR 0.1   \n",
            "\n",
            "   Intraocular Pressure (IOP)  Cup-to-Disc Ratio (CDR) Family History  \\\n",
            "0                       19.46                     0.42             No   \n",
            "1                       18.39                     0.72             No   \n",
            "2                       23.65                     0.72             No   \n",
            "3                       18.04                     0.61             No   \n",
            "4                       15.87                     0.30             No   \n",
            "\n",
            "  Medical History                                   Medication Usage  \\\n",
            "0        Diabetes  Amoxicillin, Lisinopril, Omeprazole, Atorvasta...   \n",
            "1    Hypertension  Lisinopril, Amoxicillin, Atorvastatin, Ibuprof...   \n",
            "2    Hypertension  Amoxicillin, Ibuprofen, Metformin, Atorvastati...   \n",
            "3             NaN                                 Ibuprofen, Aspirin   \n",
            "4        Diabetes  Amoxicillin, Omeprazole, Aspirin, Ibuprofen, A...   \n",
            "\n",
            "              Visual Field Test Results  \\\n",
            "0  Sensitivity: 0.54, Specificity: 0.75   \n",
            "1  Sensitivity: 0.72, Specificity: 0.88   \n",
            "2   Sensitivity: 0.56, Specificity: 0.8   \n",
            "3   Sensitivity: 0.6, Specificity: 0.93   \n",
            "4   Sensitivity: 0.82, Specificity: 0.9   \n",
            "\n",
            "          Optical Coherence Tomography (OCT) Results  Pachymetry  \\\n",
            "0  RNFL Thickness: 86.48 µm, GCC Thickness: 64.14...      541.51   \n",
            "1  RNFL Thickness: 96.88 µm, GCC Thickness: 56.48...      552.77   \n",
            "2  RNFL Thickness: 89.81 µm, GCC Thickness: 59.05...      573.65   \n",
            "3  RNFL Thickness: 87.25 µm, GCC Thickness: 63.98...      590.67   \n",
            "4  RNFL Thickness: 82.61 µm, GCC Thickness: 66.01...      588.41   \n",
            "\n",
            "  Cataract Status Angle Closure Status  \\\n",
            "0         Present                 Open   \n",
            "1          Absent                 Open   \n",
            "2          Absent               Closed   \n",
            "3          Absent               Closed   \n",
            "4          Absent               Closed   \n",
            "\n",
            "                                     Visual Symptoms    Diagnosis  \\\n",
            "0                    Tunnel vision, Eye pain, Nausea  No Glaucoma   \n",
            "1     Redness in the eye, Vision loss, Tunnel vision  No Glaucoma   \n",
            "2  Halos around lights, Vision loss, Redness in t...  No Glaucoma   \n",
            "3                Nausea, Nausea, Halos around lights  No Glaucoma   \n",
            "4                  Eye pain, Eye pain, Tunnel vision  No Glaucoma   \n",
            "\n",
            "                 Glaucoma Type  \n",
            "0  Primary Open-Angle Glaucoma  \n",
            "1            Juvenile Glaucoma  \n",
            "2            Juvenile Glaucoma  \n",
            "3          Congenital Glaucoma  \n",
            "4  Primary Open-Angle Glaucoma  \n",
            "<class 'pandas.core.frame.DataFrame'>\n",
            "RangeIndex: 10000 entries, 0 to 9999\n",
            "Data columns (total 17 columns):\n",
            " #   Column                                      Non-Null Count  Dtype  \n",
            "---  ------                                      --------------  -----  \n",
            " 0   Patient ID                                  10000 non-null  int64  \n",
            " 1   Age                                         10000 non-null  int64  \n",
            " 2   Gender                                      10000 non-null  object \n",
            " 3   Visual Acuity Measurements                  10000 non-null  object \n",
            " 4   Intraocular Pressure (IOP)                  10000 non-null  float64\n",
            " 5   Cup-to-Disc Ratio (CDR)                     10000 non-null  float64\n",
            " 6   Family History                              10000 non-null  object \n",
            " 7   Medical History                             7453 non-null   object \n",
            " 8   Medication Usage                            8769 non-null   object \n",
            " 9   Visual Field Test Results                   10000 non-null  object \n",
            " 10  Optical Coherence Tomography (OCT) Results  10000 non-null  object \n",
            " 11  Pachymetry                                  10000 non-null  float64\n",
            " 12  Cataract Status                             10000 non-null  object \n",
            " 13  Angle Closure Status                        10000 non-null  object \n",
            " 14  Visual Symptoms                             10000 non-null  object \n",
            " 15  Diagnosis                                   10000 non-null  object \n",
            " 16  Glaucoma Type                               10000 non-null  object \n",
            "dtypes: float64(3), int64(2), object(12)\n",
            "memory usage: 1.3+ MB\n",
            "None\n"
          ]
        }
      ],
      "source": [
        "\n",
        "# Load dataset\n",
        "data = pd.read_csv('/content/drive/MyDrive/DSGP PROJECT 29/DATASETS/glaucoma_dataset.csv')\n",
        "print(data.head())\n",
        "print(data.info())\n"
      ]
    },
    {
      "cell_type": "markdown",
      "id": "f2395256",
      "metadata": {
        "id": "f2395256"
      },
      "source": [
        "## 3. Data Preprocessing"
      ]
    },
    {
      "cell_type": "code",
      "execution_count": null,
      "id": "f72c009c",
      "metadata": {
        "id": "f72c009c",
        "colab": {
          "base_uri": "https://localhost:8080/"
        },
        "outputId": "097c7f83-b94b-474d-ff04-48e588caa21e"
      },
      "outputs": [
        {
          "output_type": "stream",
          "name": "stderr",
          "text": [
            "<ipython-input-4-61ed2c7b2dfd>:2: FutureWarning: A value is trying to be set on a copy of a DataFrame or Series through chained assignment using an inplace method.\n",
            "The behavior will change in pandas 3.0. This inplace method will never work because the intermediate object on which we are setting values always behaves as a copy.\n",
            "\n",
            "For example, when doing 'df[col].method(value, inplace=True)', try using 'df.method({col: value}, inplace=True)' or df[col] = df[col].method(value) instead, to perform the operation inplace on the original object.\n",
            "\n",
            "\n",
            "  data['Medication Usage'].fillna('None', inplace=True)\n"
          ]
        },
        {
          "output_type": "stream",
          "name": "stdout",
          "text": [
            "TF-IDF Features Shape: (10000, 14)\n",
            "Final Data Shape: (10000, 31)\n"
          ]
        }
      ],
      "source": [
        "\n",
        "# Handle missing values\n",
        "data['Medication Usage'].fillna('None', inplace=True)\n",
        "\n",
        "# Encode categorical features\n",
        "categorical_features = ['Gender', 'Family History', 'Medical History', 'Cataract Status', 'Angle Closure Status']\n",
        "for feature in categorical_features:\n",
        "    data[feature] = LabelEncoder().fit_transform(data[feature])\n",
        "\n",
        "# Process textual features with TF-IDF\n",
        "tfidf = TfidfVectorizer(max_features=500)  # Limit features to 500\n",
        "data['Visual Symptoms'] = data['Visual Symptoms'].fillna(\"\")\n",
        "\n",
        "# Transform 'Visual Symptoms' using TF-IDF\n",
        "text_features = tfidf.fit_transform(data['Visual Symptoms']).toarray()\n",
        "\n",
        "# Debugging: Check the shape of text_features\n",
        "print(f\"TF-IDF Features Shape: {text_features.shape}\")  # Should be (10000, 500)\n",
        "\n",
        "# Create a DataFrame from text_features\n",
        "text_df = pd.DataFrame(\n",
        "    text_features,\n",
        "    columns=[f\"symptom_{i}\" for i in range(text_features.shape[1])],  # Dynamically get the correct number of columns\n",
        "    index=data.index  # Ensure indices match\n",
        ")\n",
        "\n",
        "# Concatenate the TF-IDF features back to the original dataset\n",
        "data = pd.concat([data, text_df], axis=1)\n",
        "\n",
        "# Debugging: Check the resulting dataset shape\n",
        "print(f\"Final Data Shape: {data.shape}\")\n",
        "\n"
      ]
    },
    {
      "cell_type": "markdown",
      "id": "185232ba",
      "metadata": {
        "id": "185232ba"
      },
      "source": [
        "## 4. Feature Selection and Target Encoding"
      ]
    },
    {
      "cell_type": "code",
      "execution_count": null,
      "id": "755de2d3",
      "metadata": {
        "id": "755de2d3"
      },
      "outputs": [],
      "source": [
        "# Dynamically determine the correct number of TF-IDF features\n",
        "tfidf_feature_count = len([col for col in data.columns if col.startswith('symptom_')])\n",
        "\n",
        "# Select features and target\n",
        "features = ['Age', 'Gender', 'Intraocular Pressure (IOP)', 'Cup-to-Disc Ratio (CDR)', 'Pachymetry'] + \\\n",
        "           [f\"symptom_{i}\" for i in range(tfidf_feature_count)]\n",
        "X = data[features]\n",
        "y = data['Diagnosis']\n",
        "\n",
        "# Encode target variable\n",
        "y = LabelEncoder().fit_transform(y)\n"
      ]
    },
    {
      "cell_type": "markdown",
      "id": "9a42b35a",
      "metadata": {
        "id": "9a42b35a"
      },
      "source": [
        "## 5. Splitting the Data"
      ]
    },
    {
      "cell_type": "code",
      "execution_count": null,
      "id": "2b201b3b",
      "metadata": {
        "id": "2b201b3b"
      },
      "outputs": [],
      "source": [
        "\n",
        "# Split data\n",
        "X_train, X_test, y_train, y_test = train_test_split(X, y, test_size=0.2, random_state=42, stratify=y)\n"
      ]
    },
    {
      "cell_type": "markdown",
      "id": "e21ee570",
      "metadata": {
        "id": "e21ee570"
      },
      "source": [
        "## 6. Handling Class Imbalance"
      ]
    },
    {
      "cell_type": "code",
      "execution_count": null,
      "id": "9039780e",
      "metadata": {
        "id": "9039780e"
      },
      "outputs": [],
      "source": [
        "\n",
        "# Handle class imbalance with SMOTE\n",
        "smote = SMOTE(random_state=42)\n",
        "X_train, y_train = smote.fit_resample(X_train, y_train)\n"
      ]
    },
    {
      "cell_type": "markdown",
      "id": "44dcef56",
      "metadata": {
        "id": "44dcef56"
      },
      "source": [
        "## 7. Normalizing the Features"
      ]
    },
    {
      "cell_type": "code",
      "execution_count": null,
      "id": "5ed6785c",
      "metadata": {
        "id": "5ed6785c"
      },
      "outputs": [],
      "source": [
        "\n",
        "# Normalize features\n",
        "scaler = StandardScaler()\n",
        "X_train = scaler.fit_transform(X_train)\n",
        "X_test = scaler.transform(X_test)\n"
      ]
    },
    {
      "cell_type": "markdown",
      "id": "7138e431",
      "metadata": {
        "id": "7138e431"
      },
      "source": [
        "## 8. Training the Model"
      ]
    },
    {
      "cell_type": "code",
      "execution_count": null,
      "id": "82b40cdb",
      "metadata": {
        "id": "82b40cdb"
      },
      "outputs": [],
      "source": [
        "\n",
        "# Train an XGBoost model\n",
        "model = XGBClassifier(random_state=42, n_estimators=300, learning_rate=0.05, max_depth=6)\n",
        "model.fit(X_train, y_train)\n"
      ]
    },
    {
      "cell_type": "markdown",
      "id": "9efd8753",
      "metadata": {
        "id": "9efd8753"
      },
      "source": [
        "## 9. Evaluating the Model"
      ]
    },
    {
      "cell_type": "code",
      "execution_count": null,
      "id": "d7c5e341",
      "metadata": {
        "id": "d7c5e341",
        "colab": {
          "base_uri": "https://localhost:8080/"
        },
        "outputId": "495fcd10-435e-49d0-9946-30c97a4a93f6"
      },
      "outputs": [
        {
          "output_type": "stream",
          "name": "stdout",
          "text": [
            "Classification Report:\n",
            "              precision    recall  f1-score   support\n",
            "\n",
            "           0       0.50      0.48      0.49      1002\n",
            "           1       0.50      0.52      0.51       998\n",
            "\n",
            "    accuracy                           0.50      2000\n",
            "   macro avg       0.50      0.50      0.50      2000\n",
            "weighted avg       0.50      0.50      0.50      2000\n",
            "\n",
            "Accuracy: 49.75%\n"
          ]
        }
      ],
      "source": [
        "\n",
        "# Evaluate the model\n",
        "y_pred = model.predict(X_test)\n",
        "print(\"Classification Report:\")\n",
        "print(classification_report(y_test, y_pred))\n",
        "print(f\"Accuracy: {accuracy_score(y_test, y_pred) * 100:.2f}%\")\n"
      ]
    },
    {
      "cell_type": "markdown",
      "id": "d8e52030",
      "metadata": {
        "id": "d8e52030"
      },
      "source": [
        "## 10. Saving the Model"
      ]
    },
    {
      "cell_type": "code",
      "execution_count": null,
      "id": "1c40df97",
      "metadata": {
        "id": "1c40df97",
        "colab": {
          "base_uri": "https://localhost:8080/"
        },
        "outputId": "bbfa9160-a015-43c2-90bf-99fea46b53d9"
      },
      "outputs": [
        {
          "output_type": "execute_result",
          "data": {
            "text/plain": [
              "['glaucoma_model.pkl']"
            ]
          },
          "metadata": {},
          "execution_count": 11
        }
      ],
      "source": [
        "\n",
        "import joblib\n",
        "\n",
        "# Save the model\n",
        "joblib.dump(model, 'glaucoma_model.pkl')\n"
      ]
    }
  ],
  "metadata": {
    "kernelspec": {
      "display_name": "Python 3",
      "language": "python",
      "name": "python3"
    },
    "language_info": {
      "codemirror_mode": {
        "name": "ipython",
        "version": 3
      },
      "file_extension": ".py",
      "mimetype": "text/x-python",
      "name": "python",
      "nbconvert_exporter": "python",
      "pygments_lexer": "ipython3",
      "version": "3.12.1"
    },
    "colab": {
      "provenance": [],
      "include_colab_link": true
    }
  },
  "nbformat": 4,
  "nbformat_minor": 5
}