{
  "nbformat": 4,
  "nbformat_minor": 0,
  "metadata": {
    "colab": {
      "provenance": [],
      "mount_file_id": "1y0i937Uzkya4rb9wmGNqT1cEP0z2HZtL",
      "authorship_tag": "ABX9TyP+9tDocy31D/JTMwN9FVxH",
      "include_colab_link": true
    },
    "kernelspec": {
      "name": "python3",
      "display_name": "Python 3"
    },
    "language_info": {
      "name": "python"
    }
  },
  "cells": [
    {
      "cell_type": "markdown",
      "metadata": {
        "id": "view-in-github",
        "colab_type": "text"
      },
      "source": [
        "<a href=\"https://colab.research.google.com/github/DinurakshanRavichandran/Visio-Glance/blob/Pre-Processed-Datasets-NLP/drusenPPFinal.ipynb\" target=\"_parent\"><img src=\"https://colab.research.google.com/assets/colab-badge.svg\" alt=\"Open In Colab\"/></a>"
      ]
    },
    {
      "cell_type": "code",
      "execution_count": null,
      "metadata": {
        "id": "9f0QThCzCuKG",
        "colab": {
          "base_uri": "https://localhost:8080/"
        },
        "outputId": "d5c1e337-62c4-426d-c4cf-5f7d1f3922be"
      },
      "outputs": [
        {
          "output_type": "stream",
          "name": "stdout",
          "text": [
            "Drive already mounted at /content/drive; to attempt to forcibly remount, call drive.mount(\"/content/drive\", force_remount=True).\n"
          ]
        }
      ],
      "source": [
        "#mount google drive\n",
        "from google.colab import drive\n",
        "drive.mount('/content/drive')"
      ]
    },
    {
      "cell_type": "code",
      "source": [
        "import pandas as pd\n",
        "from imblearn.over_sampling import SMOTE\n",
        "\n",
        "# Load the dataset\n",
        "file_path = '/content/drive/MyDrive/PROJECT 29/DATASETS/Synthetic_Drusen_Dataset.csv'\n",
        "df = pd.read_csv(file_path)\n",
        "\n",
        "# Handle Missing Values\n",
        "for column in df.columns:\n",
        "    most_frequent = df[column].mode()[0]\n",
        "    df[column].fillna(most_frequent, inplace=True)\n",
        "\n",
        "# Convert 'Smoking Status' to binary (1 for 'Yes', 0 for 'No')\n",
        "df['Smoking Status'] = df['Smoking Status'].map({'Yes': 1, 'No': 0})\n",
        "\n",
        "# One-Hot Encode 'Visual Symptoms' with lowercase labels after '_'\n",
        "visual_symptoms_dummies = pd.get_dummies(df['Visual Symptoms'], prefix='Visual Symptoms')\n",
        "\n",
        "# Convert only the part after \"Visual Symptoms_\" to lowercase\n",
        "visual_symptoms_dummies.columns = [\n",
        "    'Visual Symptoms_' + col.split('_')[1].lower() if '_' in col else col\n",
        "    for col in visual_symptoms_dummies.columns\n",
        "]\n",
        "\n",
        "# Convert TRUE/FALSE features to binary (1 for TRUE, 0 for FALSE)\n",
        "df.replace({True: 1, False: 0}, inplace=True)\n",
        "visual_symptoms_dummies = visual_symptoms_dummies.astype(int)  # Ensure one-hot encoded values are 1/0\n",
        "\n",
        "# Combine all features\n",
        "features = pd.concat([df.drop(['Diagnosis', 'Visual Symptoms'], axis=1), visual_symptoms_dummies], axis=1)\n",
        "target = df['Diagnosis']\n",
        "\n",
        "# Handle Class Imbalance with SMOTE\n",
        "smote = SMOTE(random_state=42)\n",
        "features_smote, target_smote = smote.fit_resample(features, target)\n",
        "\n",
        "# Reconstruct the DataFrame with resampled data\n",
        "df_smote = pd.DataFrame(features_smote, columns=features.columns)\n",
        "df_smote['Diagnosis'] = target_smote\n",
        "\n",
        "# Save Preprocessed Data\n",
        "preprocessed_file_path = '/content/drive/MyDrive/PROJECT 29/FINAL MODEL/Preprocessed_Drusen_Dataset.csv'\n",
        "df_smote.to_csv(preprocessed_file_path, index=False)\n",
        "\n",
        "# Display the head of the preprocessed dataset\n",
        "print(df_smote.head())\n"
      ],
      "metadata": {
        "colab": {
          "base_uri": "https://localhost:8080/"
        },
        "id": "iwCLdbfiyI3J",
        "outputId": "b578a6cb-26a9-4fa7-b91a-791937520d21"
      },
      "execution_count": 7,
      "outputs": [
        {
          "output_type": "stream",
          "name": "stdout",
          "text": [
            "   Age  Smoking Status   BMI  Blood Pressure  Cholesterol Levels  \\\n",
            "0   50               1  25.7             158                 189   \n",
            "1   53               0  34.5             113                 241   \n",
            "2   53               0  26.4             153                 152   \n",
            "3   89               1  27.7             178                 229   \n",
            "4   59               0  25.6             113                 219   \n",
            "\n",
            "   Visual Symptoms_blind spots  Visual Symptoms_blurred vision  \\\n",
            "0                            0                               0   \n",
            "1                            0                               0   \n",
            "2                            0                               1   \n",
            "3                            0                               0   \n",
            "4                            0                               0   \n",
            "\n",
            "   Visual Symptoms_distorted vision  Visual Symptoms_light sensitivity  \\\n",
            "0                                 1                                  0   \n",
            "1                                 0                                  1   \n",
            "2                                 0                                  0   \n",
            "3                                 1                                  0   \n",
            "4                                 0                                  1   \n",
            "\n",
            "   Visual Symptoms_night vision problems  Visual Symptoms_vision change  \\\n",
            "0                                      0                              0   \n",
            "1                                      0                              0   \n",
            "2                                      0                              0   \n",
            "3                                      0                              0   \n",
            "4                                      0                              0   \n",
            "\n",
            "   Diagnosis  \n",
            "0          0  \n",
            "1          0  \n",
            "2          0  \n",
            "3          1  \n",
            "4          0  \n"
          ]
        },
        {
          "output_type": "stream",
          "name": "stderr",
          "text": [
            "<ipython-input-7-9e57b12c8766>:11: FutureWarning: A value is trying to be set on a copy of a DataFrame or Series through chained assignment using an inplace method.\n",
            "The behavior will change in pandas 3.0. This inplace method will never work because the intermediate object on which we are setting values always behaves as a copy.\n",
            "\n",
            "For example, when doing 'df[col].method(value, inplace=True)', try using 'df.method({col: value}, inplace=True)' or df[col] = df[col].method(value) instead, to perform the operation inplace on the original object.\n",
            "\n",
            "\n",
            "  df[column].fillna(most_frequent, inplace=True)\n",
            "<ipython-input-7-9e57b12c8766>:11: FutureWarning: A value is trying to be set on a copy of a DataFrame or Series through chained assignment using an inplace method.\n",
            "The behavior will change in pandas 3.0. This inplace method will never work because the intermediate object on which we are setting values always behaves as a copy.\n",
            "\n",
            "For example, when doing 'df[col].method(value, inplace=True)', try using 'df.method({col: value}, inplace=True)' or df[col] = df[col].method(value) instead, to perform the operation inplace on the original object.\n",
            "\n",
            "\n",
            "  df[column].fillna(most_frequent, inplace=True)\n",
            "<ipython-input-7-9e57b12c8766>:11: FutureWarning: A value is trying to be set on a copy of a DataFrame or Series through chained assignment using an inplace method.\n",
            "The behavior will change in pandas 3.0. This inplace method will never work because the intermediate object on which we are setting values always behaves as a copy.\n",
            "\n",
            "For example, when doing 'df[col].method(value, inplace=True)', try using 'df.method({col: value}, inplace=True)' or df[col] = df[col].method(value) instead, to perform the operation inplace on the original object.\n",
            "\n",
            "\n",
            "  df[column].fillna(most_frequent, inplace=True)\n",
            "<ipython-input-7-9e57b12c8766>:11: FutureWarning: A value is trying to be set on a copy of a DataFrame or Series through chained assignment using an inplace method.\n",
            "The behavior will change in pandas 3.0. This inplace method will never work because the intermediate object on which we are setting values always behaves as a copy.\n",
            "\n",
            "For example, when doing 'df[col].method(value, inplace=True)', try using 'df.method({col: value}, inplace=True)' or df[col] = df[col].method(value) instead, to perform the operation inplace on the original object.\n",
            "\n",
            "\n",
            "  df[column].fillna(most_frequent, inplace=True)\n"
          ]
        }
      ]
    }
  ]
}