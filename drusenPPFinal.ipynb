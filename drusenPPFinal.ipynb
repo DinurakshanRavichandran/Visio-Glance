{
  "nbformat": 4,
  "nbformat_minor": 0,
  "metadata": {
    "colab": {
      "provenance": [],
      "mount_file_id": "1y0i937Uzkya4rb9wmGNqT1cEP0z2HZtL",
      "authorship_tag": "ABX9TyN3Un3nUsGS577zegbCvV4S",
      "include_colab_link": true
    },
    "kernelspec": {
      "name": "python3",
      "display_name": "Python 3"
    },
    "language_info": {
      "name": "python"
    }
  },
  "cells": [
    {
      "cell_type": "markdown",
      "metadata": {
        "id": "view-in-github",
        "colab_type": "text"
      },
      "source": [
        "<a href=\"https://colab.research.google.com/github/DinurakshanRavichandran/Visio-Glance/blob/Pre-Processed-Datasets-NLP/drusenPPFinal.ipynb\" target=\"_parent\"><img src=\"https://colab.research.google.com/assets/colab-badge.svg\" alt=\"Open In Colab\"/></a>"
      ]
    },
    {
      "cell_type": "code",
      "execution_count": null,
      "metadata": {
        "id": "9f0QThCzCuKG",
        "colab": {
          "base_uri": "https://localhost:8080/"
        },
        "outputId": "a7e2ba9a-3df9-416a-dcc7-825daa8fe6a5"
      },
      "outputs": [
        {
          "output_type": "stream",
          "name": "stdout",
          "text": [
            "Mounted at /content/drive\n"
          ]
        }
      ],
      "source": [
        "#mount google drive\n",
        "from google.colab import drive\n",
        "drive.mount('/content/drive')"
      ]
    },
    {
      "cell_type": "code",
      "source": [
        "import pandas as pd\n",
        "from sklearn.preprocessing import StandardScaler, LabelEncoder\n",
        "from imblearn.over_sampling import SMOTE\n",
        "import re\n",
        "\n",
        "# Load the dataset\n",
        "file_path = '/content/drive/MyDrive/DSGP PROJECT 29/DATASETS/Synthetic_Drusen_Dataset.csv'\n",
        "df = pd.read_csv(file_path)\n",
        "\n",
        "# Handle Missing Values\n",
        "# Assuming the data might have missing values, we replace them with the most frequent category in each column\n",
        "for column in df.columns:\n",
        "    most_frequent = df[column].mode()[0]\n",
        "    df[column].fillna(most_frequent, inplace=True)\n",
        "\n",
        "# Feature Engineering\n",
        "# As an example, create a new feature based on Age and BMI interaction\n",
        "df['Age_BMI'] = df['Age'] * df['BMI']\n",
        "\n",
        "# Text Processing\n",
        "# Simplifying text processing for 'Visual Symptoms' without using advanced libraries\n",
        "def clean_text(text):\n",
        "    text = text.lower()  # convert to lowercase\n",
        "    text = re.sub(r'[^a-z\\s]', '', text)  # remove non-alphabetic characters\n",
        "    words = text.split()  # simple tokenization\n",
        "    return ' '.join(words)  # join words back to string\n",
        "\n",
        "df['Visual Symptoms'] = df['Visual Symptoms'].apply(clean_text)\n",
        "\n",
        "# Encode Categorical Data\n",
        "le = LabelEncoder()\n",
        "df['Smoking Status'] = le.fit_transform(df['Smoking Status'])\n",
        "df['Visual Symptoms'] = le.fit_transform(df['Visual Symptoms'])\n",
        "\n",
        "# Normalize/Scale Numerical Data\n",
        "scaler = StandardScaler()\n",
        "numerical_features = ['Age', 'BMI', 'Blood Pressure', 'Cholesterol Levels', 'Age_BMI']\n",
        "df[numerical_features] = scaler.fit_transform(df[numerical_features])\n",
        "\n",
        "# Handle Class Imbalance\n",
        "smote = SMOTE(random_state=42)\n",
        "features = df.drop('Diagnosis', axis=1)\n",
        "target = df['Diagnosis']\n",
        "features_smote, target_smote = smote.fit_resample(features, target)\n",
        "\n",
        "# Reconstruct the DataFrame with resampled data\n",
        "df_smote = pd.DataFrame(features_smote, columns=features.columns)\n",
        "df_smote['Diagnosis'] = target_smote\n",
        "\n",
        "# Save Preprocessed Data\n",
        "preprocessed_file_path = '/content/drive/MyDrive/DSGP PROJECT 29/FINAL MODEL/Preprocessed_Drusen_Dataset.csv'\n",
        "df_smote.to_csv(preprocessed_file_path, index=False)\n",
        "\n",
        "preprocessed_file_path\n"
      ],
      "metadata": {
        "colab": {
          "base_uri": "https://localhost:8080/",
          "height": 521
        },
        "id": "iwCLdbfiyI3J",
        "outputId": "b786f190-c7b4-4095-91d0-88af5558093a"
      },
      "execution_count": 1,
      "outputs": [
        {
          "output_type": "stream",
          "name": "stderr",
          "text": [
            "<ipython-input-1-b4a4d659fa47>:14: FutureWarning: A value is trying to be set on a copy of a DataFrame or Series through chained assignment using an inplace method.\n",
            "The behavior will change in pandas 3.0. This inplace method will never work because the intermediate object on which we are setting values always behaves as a copy.\n",
            "\n",
            "For example, when doing 'df[col].method(value, inplace=True)', try using 'df.method({col: value}, inplace=True)' or df[col] = df[col].method(value) instead, to perform the operation inplace on the original object.\n",
            "\n",
            "\n",
            "  df[column].fillna(most_frequent, inplace=True)\n",
            "<ipython-input-1-b4a4d659fa47>:14: FutureWarning: A value is trying to be set on a copy of a DataFrame or Series through chained assignment using an inplace method.\n",
            "The behavior will change in pandas 3.0. This inplace method will never work because the intermediate object on which we are setting values always behaves as a copy.\n",
            "\n",
            "For example, when doing 'df[col].method(value, inplace=True)', try using 'df.method({col: value}, inplace=True)' or df[col] = df[col].method(value) instead, to perform the operation inplace on the original object.\n",
            "\n",
            "\n",
            "  df[column].fillna(most_frequent, inplace=True)\n",
            "<ipython-input-1-b4a4d659fa47>:14: FutureWarning: A value is trying to be set on a copy of a DataFrame or Series through chained assignment using an inplace method.\n",
            "The behavior will change in pandas 3.0. This inplace method will never work because the intermediate object on which we are setting values always behaves as a copy.\n",
            "\n",
            "For example, when doing 'df[col].method(value, inplace=True)', try using 'df.method({col: value}, inplace=True)' or df[col] = df[col].method(value) instead, to perform the operation inplace on the original object.\n",
            "\n",
            "\n",
            "  df[column].fillna(most_frequent, inplace=True)\n",
            "<ipython-input-1-b4a4d659fa47>:14: FutureWarning: A value is trying to be set on a copy of a DataFrame or Series through chained assignment using an inplace method.\n",
            "The behavior will change in pandas 3.0. This inplace method will never work because the intermediate object on which we are setting values always behaves as a copy.\n",
            "\n",
            "For example, when doing 'df[col].method(value, inplace=True)', try using 'df.method({col: value}, inplace=True)' or df[col] = df[col].method(value) instead, to perform the operation inplace on the original object.\n",
            "\n",
            "\n",
            "  df[column].fillna(most_frequent, inplace=True)\n"
          ]
        },
        {
          "output_type": "execute_result",
          "data": {
            "text/plain": [
              "'/content/drive/MyDrive/DSGP PROJECT 29/FINAL MODEL/Preprocessed_Drusen_Dataset.csv'"
            ],
            "application/vnd.google.colaboratory.intrinsic+json": {
              "type": "string"
            }
          },
          "metadata": {},
          "execution_count": 1
        }
      ]
    }
  ]
}