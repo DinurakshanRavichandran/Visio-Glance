{
  "nbformat": 4,
  "nbformat_minor": 0,
  "metadata": {
    "colab": {
      "provenance": [],
      "mount_file_id": "1y0i937Uzkya4rb9wmGNqT1cEP0z2HZtL",
      "authorship_tag": "ABX9TyO/KkYHsnkyGMOD8RSB7SMD",
      "include_colab_link": true
    },
    "kernelspec": {
      "name": "python3",
      "display_name": "Python 3"
    },
    "language_info": {
      "name": "python"
    }
  },
  "cells": [
    {
      "cell_type": "markdown",
      "metadata": {
        "id": "view-in-github",
        "colab_type": "text"
      },
      "source": [
        "<a href=\"https://colab.research.google.com/github/DinurakshanRavichandran/Visio-Glance/blob/Pre-Processed-Datasets-NLP/drusenPPFinal.ipynb\" target=\"_parent\"><img src=\"https://colab.research.google.com/assets/colab-badge.svg\" alt=\"Open In Colab\"/></a>"
      ]
    },
    {
      "cell_type": "code",
      "execution_count": null,
      "metadata": {
        "id": "9f0QThCzCuKG",
        "colab": {
          "base_uri": "https://localhost:8080/"
        },
        "outputId": "d5c1e337-62c4-426d-c4cf-5f7d1f3922be"
      },
      "outputs": [
        {
          "output_type": "stream",
          "name": "stdout",
          "text": [
            "Drive already mounted at /content/drive; to attempt to forcibly remount, call drive.mount(\"/content/drive\", force_remount=True).\n"
          ]
        }
      ],
      "source": [
        "#mount google drive\n",
        "from google.colab import drive\n",
        "drive.mount('/content/drive')"
      ]
    },
    {
      "cell_type": "code",
      "source": [
        "import pandas as pd\n",
        "from imblearn.over_sampling import SMOTE\n",
        "from imblearn.under_sampling import RandomUnderSampler\n",
        "\n",
        "# Load the dataset\n",
        "file_path = '/content/drive/MyDrive/PROJECT 29/DATASETS/Synthetic_Drusen_Dataset.csv'\n",
        "df = pd.read_csv(file_path)\n",
        "\n",
        "#duplicate count\n",
        "duplicate_count = df.duplicated().sum()\n",
        "print(f\"Number of duplicate rows: {duplicate_count}\")\n",
        "\n",
        "# Drop duplicate rows\n",
        "#df.drop_duplicates(inplace=True)\n",
        "\n",
        "# Handle Missing Values\n",
        "for column in df.columns:\n",
        "    most_frequent = df[column].mode()[0]\n",
        "    df[column].fillna(most_frequent, inplace=True)\n",
        "\n",
        "# Print class distribution before balancing\n",
        "print(\"Before balancing:\")\n",
        "print(df['Diagnosis'].value_counts())\n",
        "\n",
        "# Convert 'Smoking Status' to binary (1 for 'Yes', 0 for 'No')\n",
        "df['Smoking Status'] = df['Smoking Status'].map({'Yes': 1, 'No': 0})\n",
        "\n",
        "# One-Hot Encode 'Visual Symptoms' with lowercase labels after '_'\n",
        "visual_symptoms_dummies = pd.get_dummies(df['Visual Symptoms'], prefix='Visual Symptoms')\n",
        "\n",
        "# Convert only the part after \"Visual Symptoms_\" to lowercase\n",
        "visual_symptoms_dummies.columns = [\n",
        "    'Visual Symptoms_' + col.split('_')[1].lower() if '_' in col else col\n",
        "    for col in visual_symptoms_dummies.columns\n",
        "]\n",
        "\n",
        "# Convert TRUE/FALSE features to binary (1 for TRUE, 0 for FALSE)\n",
        "df.replace({True: 1, False: 0}, inplace=True)\n",
        "visual_symptoms_dummies = visual_symptoms_dummies.astype(int)  # Ensure one-hot encoded values are 1/0\n",
        "\n",
        "# Combine all features\n",
        "features = pd.concat([df.drop(['Diagnosis', 'Visual Symptoms'], axis=1), visual_symptoms_dummies], axis=1)\n",
        "target = df['Diagnosis']\n",
        "\n",
        "# Define target sample size per class (approx. 5000 for each)\n",
        "desired_class_size = 5000\n",
        "\n",
        "# Step 1: Undersample the majority class (0 - No Drusen) down to 5000\n",
        "undersample = RandomUnderSampler(sampling_strategy={0: desired_class_size}, random_state=42)\n",
        "features_under, target_under = undersample.fit_resample(features, target)\n",
        "\n",
        "# Step 2: Oversample the minority class (1 - Drusen) up to 5000 using SMOTE\n",
        "smote = SMOTE(sampling_strategy={1: desired_class_size}, random_state=42)\n",
        "features_balanced, target_balanced = smote.fit_resample(features_under, target_under)\n",
        "\n",
        "# Reconstruct the DataFrame with balanced data\n",
        "df_balanced = pd.DataFrame(features_balanced, columns=features.columns)\n",
        "df_balanced['Diagnosis'] = target_balanced\n",
        "\n",
        "# Print class distribution after balancing\n",
        "print(\"\\nAfter balancing:\")\n",
        "print(df_balanced['Diagnosis'].value_counts())\n",
        "\n",
        "# Save Preprocessed Data\n",
        "preprocessed_file_path = '/content/drive/MyDrive/PROJECT 29/FINAL MODEL/Preprocessed_Drusen_Dataset.csv'\n",
        "df_balanced.to_csv(preprocessed_file_path, index=False)\n",
        "\n",
        "# Display the head of the preprocessed dataset\n",
        "print(df_balanced.head())\n"
      ],
      "metadata": {
        "colab": {
          "base_uri": "https://localhost:8080/"
        },
        "id": "iwCLdbfiyI3J",
        "outputId": "1cac1303-0091-429c-c09a-e1ac841c048e"
      },
      "execution_count": 1,
      "outputs": [
        {
          "output_type": "stream",
          "name": "stdout",
          "text": [
            "Number of duplicate rows: 0\n",
            "Before balancing:\n",
            "Diagnosis\n",
            "0    8277\n",
            "1    1723\n",
            "Name: count, dtype: int64\n",
            "\n",
            "After balancing:\n",
            "Diagnosis\n",
            "0    5000\n",
            "1    5000\n",
            "Name: count, dtype: int64\n"
          ]
        },
        {
          "output_type": "stream",
          "name": "stderr",
          "text": [
            "<ipython-input-1-5728dfea2aef>:19: FutureWarning: A value is trying to be set on a copy of a DataFrame or Series through chained assignment using an inplace method.\n",
            "The behavior will change in pandas 3.0. This inplace method will never work because the intermediate object on which we are setting values always behaves as a copy.\n",
            "\n",
            "For example, when doing 'df[col].method(value, inplace=True)', try using 'df.method({col: value}, inplace=True)' or df[col] = df[col].method(value) instead, to perform the operation inplace on the original object.\n",
            "\n",
            "\n",
            "  df[column].fillna(most_frequent, inplace=True)\n",
            "<ipython-input-1-5728dfea2aef>:19: FutureWarning: A value is trying to be set on a copy of a DataFrame or Series through chained assignment using an inplace method.\n",
            "The behavior will change in pandas 3.0. This inplace method will never work because the intermediate object on which we are setting values always behaves as a copy.\n",
            "\n",
            "For example, when doing 'df[col].method(value, inplace=True)', try using 'df.method({col: value}, inplace=True)' or df[col] = df[col].method(value) instead, to perform the operation inplace on the original object.\n",
            "\n",
            "\n",
            "  df[column].fillna(most_frequent, inplace=True)\n",
            "<ipython-input-1-5728dfea2aef>:19: FutureWarning: A value is trying to be set on a copy of a DataFrame or Series through chained assignment using an inplace method.\n",
            "The behavior will change in pandas 3.0. This inplace method will never work because the intermediate object on which we are setting values always behaves as a copy.\n",
            "\n",
            "For example, when doing 'df[col].method(value, inplace=True)', try using 'df.method({col: value}, inplace=True)' or df[col] = df[col].method(value) instead, to perform the operation inplace on the original object.\n",
            "\n",
            "\n",
            "  df[column].fillna(most_frequent, inplace=True)\n",
            "<ipython-input-1-5728dfea2aef>:19: FutureWarning: A value is trying to be set on a copy of a DataFrame or Series through chained assignment using an inplace method.\n",
            "The behavior will change in pandas 3.0. This inplace method will never work because the intermediate object on which we are setting values always behaves as a copy.\n",
            "\n",
            "For example, when doing 'df[col].method(value, inplace=True)', try using 'df.method({col: value}, inplace=True)' or df[col] = df[col].method(value) instead, to perform the operation inplace on the original object.\n",
            "\n",
            "\n",
            "  df[column].fillna(most_frequent, inplace=True)\n"
          ]
        },
        {
          "output_type": "stream",
          "name": "stdout",
          "text": [
            "   Age  Smoking Status   BMI  Blood Pressure  Cholesterol Levels  \\\n",
            "0   55               1  20.3             137                 248   \n",
            "1   50               0  31.3             152                 169   \n",
            "2   81               0  29.4             141                 163   \n",
            "3   81               1  22.4             122                 214   \n",
            "4   50               0  24.3             176                 234   \n",
            "\n",
            "   Visual Symptoms_blind spots  Visual Symptoms_blurred vision  \\\n",
            "0                            1                               0   \n",
            "1                            1                               0   \n",
            "2                            0                               0   \n",
            "3                            0                               0   \n",
            "4                            0                               0   \n",
            "\n",
            "   Visual Symptoms_distorted vision  Visual Symptoms_light sensitivity  \\\n",
            "0                                 0                                  0   \n",
            "1                                 0                                  0   \n",
            "2                                 0                                  0   \n",
            "3                                 1                                  0   \n",
            "4                                 0                                  0   \n",
            "\n",
            "   Visual Symptoms_night vision problems  Visual Symptoms_vision change  \\\n",
            "0                                      0                              0   \n",
            "1                                      0                              0   \n",
            "2                                      0                              1   \n",
            "3                                      0                              0   \n",
            "4                                      0                              1   \n",
            "\n",
            "   Diagnosis  \n",
            "0          0  \n",
            "1          0  \n",
            "2          0  \n",
            "3          0  \n",
            "4          0  \n"
          ]
        }
      ]
    }
  ]
}