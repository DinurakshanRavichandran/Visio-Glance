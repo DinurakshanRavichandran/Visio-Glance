{
  "nbformat": 4,
  "nbformat_minor": 0,
  "metadata": {
    "colab": {
      "provenance": [],
      "gpuType": "T4",
      "authorship_tag": "ABX9TyMU2XqfSe5Iac0hTvG3A6cl",
      "include_colab_link": true
    },
    "kernelspec": {
      "name": "python3",
      "display_name": "Python 3"
    },
    "language_info": {
      "name": "python"
    },
    "accelerator": "GPU"
  },
  "cells": [
    {
      "cell_type": "markdown",
      "metadata": {
        "id": "view-in-github",
        "colab_type": "text"
      },
      "source": [
        "<a href=\"https://colab.research.google.com/github/DinurakshanRavichandran/Visio-Glance/blob/Fundus-eye-disease-detection/Res_Mob_Final.ipynb\" target=\"_parent\"><img src=\"https://colab.research.google.com/assets/colab-badge.svg\" alt=\"Open In Colab\"/></a>"
      ]
    },
    {
      "cell_type": "code",
      "execution_count": 3,
      "metadata": {
        "id": "VNd5a2g-3WjF"
      },
      "outputs": [],
      "source": [
        "import os\n",
        "import numpy as np\n",
        "import tensorflow as tf\n",
        "from tensorflow.keras.preprocessing.image import load_img, img_to_array\n",
        "from sklearn.model_selection import train_test_split\n",
        "from sklearn.utils.class_weight import compute_class_weight\n",
        "from sklearn.linear_model import SGDClassifier\n",
        "from sklearn.ensemble import VotingClassifier\n",
        "from sklearn.metrics import accuracy_score, classification_report, confusion_matrix\n",
        "import matplotlib.pyplot as plt\n",
        "import seaborn as sns"
      ]
    },
    {
      "cell_type": "code",
      "source": [
        "#  MOUNT GOOGLE DRIVE\n",
        "from google.colab import drive\n",
        "drive.mount('/content/drive', force_remount=True)\n"
      ],
      "metadata": {
        "colab": {
          "base_uri": "https://localhost:8080/"
        },
        "id": "q5PM_f_463tx",
        "outputId": "dea5707b-78af-4f51-bf6a-fb3fb119a060"
      },
      "execution_count": 4,
      "outputs": [
        {
          "output_type": "stream",
          "name": "stdout",
          "text": [
            "Mounted at /content/drive\n"
          ]
        }
      ]
    },
    {
      "cell_type": "code",
      "source": [
        "#  DEFINE DATASET PATHS\n",
        "DATA_DIR = '/content/drive/MyDrive/data set/dataset'\n",
        "FEATURE_DIR = '/content/drive/MyDrive/extracted_feature'\n",
        "\n",
        "#  FUNCTION TO GET IMAGE DIRECTORIES\n",
        "def get_class_directories(base_directory):\n",
        "    return {folder_name: os.path.join(base_directory, folder_name) for folder_name in os.listdir(base_directory) if os.path.isdir(os.path.join(base_directory, folder_name))}\n",
        "\n",
        "\n",
        "image_directories = get_class_directories(DATA_DIR) # capture the return value here\n",
        "class_names = list(image_directories.keys())\n",
        "print(f\"Classes found: {class_names}\")"
      ],
      "metadata": {
        "id": "7ai2ITit-ufZ",
        "colab": {
          "base_uri": "https://localhost:8080/"
        },
        "outputId": "6c3c4f7d-e6ec-4d00-f2e6-da19c7cbf292"
      },
      "execution_count": 5,
      "outputs": [
        {
          "output_type": "stream",
          "name": "stdout",
          "text": [
            "Classes found: ['diabetic_retinopathy', 'normal', 'glaucoma', 'cataract']\n"
          ]
        }
      ]
    },
    {
      "cell_type": "code",
      "source": [
        "#  SPLIT DATASET INTO TRAIN & TEST (Removed incorrect stratification)\n",
        "train_dirs, test_dirs = {}, {}\n",
        "for category, dir_path in image_directories.items():\n",
        "    img_files = [os.path.join(dir_path, f) for f in os.listdir(dir_path)]\n",
        "    train_files, test_files = train_test_split(img_files, test_size=0.2, random_state=42)\n",
        "    train_dirs[category] = train_files\n",
        "    test_dirs[category] = test_files"
      ],
      "metadata": {
        "id": "qBokvZ2SGaPI"
      },
      "execution_count": 6,
      "outputs": []
    }
  ]
}