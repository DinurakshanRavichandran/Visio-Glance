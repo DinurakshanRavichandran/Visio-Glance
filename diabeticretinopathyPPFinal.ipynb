{
  "nbformat": 4,
  "nbformat_minor": 0,
  "metadata": {
    "colab": {
      "provenance": [],
      "authorship_tag": "ABX9TyOjxw5mJMuKpPkwkFg4WLKN",
      "include_colab_link": true
    },
    "kernelspec": {
      "name": "python3",
      "display_name": "Python 3"
    },
    "language_info": {
      "name": "python"
    }
  },
  "cells": [
    {
      "cell_type": "markdown",
      "metadata": {
        "id": "view-in-github",
        "colab_type": "text"
      },
      "source": [
        "<a href=\"https://colab.research.google.com/github/DinurakshanRavichandran/Visio-Glance/blob/Pre-Processed-Datasets-NLP/diabeticretinopathyPPFinal.ipynb\" target=\"_parent\"><img src=\"https://colab.research.google.com/assets/colab-badge.svg\" alt=\"Open In Colab\"/></a>"
      ]
    },
    {
      "cell_type": "code",
      "execution_count": 2,
      "metadata": {
        "id": "9f0QThCzCuKG",
        "colab": {
          "base_uri": "https://localhost:8080/"
        },
        "outputId": "bba7a5a2-7044-44fd-fb96-14cb8fb463e5"
      },
      "outputs": [
        {
          "output_type": "stream",
          "name": "stdout",
          "text": [
            "Mounted at /content/drive\n"
          ]
        }
      ],
      "source": [
        "#mount google drive\n",
        "from google.colab import drive\n",
        "drive.mount('/content/drive')"
      ]
    },
    {
      "cell_type": "code",
      "source": [
        "import pandas as pd\n",
        "from sklearn.model_selection import train_test_split\n",
        "from sklearn.impute import SimpleImputer\n",
        "from sklearn.preprocessing import StandardScaler, OneHotEncoder\n",
        "from imblearn.over_sampling import SMOTE\n",
        "import re\n",
        "\n",
        "# Load the dataset\n",
        "df = pd.read_csv('/content/drive/MyDrive/DSGP PROJECT 29/DATASETS/Synthetic_Diabetic_Retinopathy_Dataset.csv')\n",
        "\n",
        "# Step 1: Handle Missing Values\n",
        "# Check for missing values and replace them with the most frequent category\n",
        "imputer = SimpleImputer(strategy='most_frequent')\n",
        "df.iloc[:, :] = imputer.fit_transform(df)\n",
        "\n",
        "# Step 2: Feature Engineering\n",
        "# Creating a new feature as an example: Total Cholesterol to HDL ratio\n",
        "df['Cholesterol_HDL_Ratio'] = df['Total Cholesterol'] / df['HDL Cholesterol']\n",
        "\n",
        "# Step 3: Text Processing\n",
        "# Simple text processing using basic Python functions and regex\n",
        "def clean_text(text):\n",
        "    text = text.lower()  # convert to lowercase\n",
        "    text = re.sub(r'\\s+', ' ', text)  # replace multiple spaces with a single space\n",
        "    text = re.sub(r'[^\\w\\s]', '', text)  # remove punctuation\n",
        "    tokens = text.split()  # tokenize the text by splitting\n",
        "    return ' '.join(tokens)  # join tokens back into a string\n",
        "\n",
        "df['Visual Symptoms'] = df['Visual Symptoms'].apply(clean_text)\n",
        "\n",
        "# Step 4: Encode Categorical Data\n",
        "# Convert binary categorical data using OneHotEncoder\n",
        "encoder = OneHotEncoder(sparse=False)\n",
        "encoded_features = encoder.fit_transform(df[['Smoking Status']])\n",
        "encoded_feature_names = encoder.get_feature_names(['Smoking Status'])\n",
        "df[encoded_feature_names] = encoded_features\n",
        "df.drop(['Smoking Status'], axis=1, inplace=True)\n",
        "\n",
        "# Step 5: Normalize/Scale Numerical Data\n",
        "# Scale numerical features to have zero mean and unit variance\n",
        "scaler = StandardScaler()\n",
        "numerical_features = ['Age', 'Retinal Thickness', 'Cotton Wool Spots Count', 'LDL Cholesterol',\n",
        "                      'HDL Cholesterol', 'Total Cholesterol', 'Microaneurysms Count',\n",
        "                      'Hemorrhages Count', 'Cholesterol_HDL_Ratio']\n",
        "df[numerical_features] = scaler.fit_transform(df[numerical_features])\n",
        "\n",
        "# Step 6: Handle Class Imbalance\n",
        "# Use SMOTE to handle class imbalance\n",
        "X = df.drop('Diagnosis', axis=1)\n",
        "y = df['Diagnosis'].astype(int)\n",
        "smote = SMOTE(random_state=42)\n",
        "X_res, y_res = smote.fit_resample(X, y)\n",
        "\n",
        "# Combine the resampled features and target into a new DataFrame\n",
        "df_resampled = pd.DataFrame(X_res, columns=X.columns)\n",
        "df_resampled['Diagnosis'] = y_res\n",
        "\n",
        "# Step 7: Save Preprocessed Data\n",
        "# Save the final preprocessed data to a new CSV file\n",
        "final_file_path = '/content/drive/MyDrive/DSGP PROJECT 29/FINAL MODEL/Preprocessed_Diabetic_Retinopathy_Dataset.csv'\n",
        "df_resampled.to_csv(final_file_path, index=False)\n",
        "\n",
        "final_file_path\n"
      ],
      "metadata": {
        "colab": {
          "base_uri": "https://localhost:8080/",
          "height": 211
        },
        "id": "7v4q1BL0cRqF",
        "outputId": "bb96cb91-19fc-4d2c-80dd-e9ab6d002b04"
      },
      "execution_count": 3,
      "outputs": [
        {
          "output_type": "error",
          "ename": "TypeError",
          "evalue": "OneHotEncoder.__init__() got an unexpected keyword argument 'sparse'",
          "traceback": [
            "\u001b[0;31m---------------------------------------------------------------------------\u001b[0m",
            "\u001b[0;31mTypeError\u001b[0m                                 Traceback (most recent call last)",
            "\u001b[0;32m<ipython-input-3-27d3f7311377>\u001b[0m in \u001b[0;36m<cell line: 0>\u001b[0;34m()\u001b[0m\n\u001b[1;32m     31\u001b[0m \u001b[0;31m# Step 4: Encode Categorical Data\u001b[0m\u001b[0;34m\u001b[0m\u001b[0;34m\u001b[0m\u001b[0m\n\u001b[1;32m     32\u001b[0m \u001b[0;31m# Convert binary categorical data using OneHotEncoder\u001b[0m\u001b[0;34m\u001b[0m\u001b[0;34m\u001b[0m\u001b[0m\n\u001b[0;32m---> 33\u001b[0;31m \u001b[0mencoder\u001b[0m \u001b[0;34m=\u001b[0m \u001b[0mOneHotEncoder\u001b[0m\u001b[0;34m(\u001b[0m\u001b[0msparse\u001b[0m\u001b[0;34m=\u001b[0m\u001b[0;32mFalse\u001b[0m\u001b[0;34m)\u001b[0m\u001b[0;34m\u001b[0m\u001b[0;34m\u001b[0m\u001b[0m\n\u001b[0m\u001b[1;32m     34\u001b[0m \u001b[0mencoded_features\u001b[0m \u001b[0;34m=\u001b[0m \u001b[0mencoder\u001b[0m\u001b[0;34m.\u001b[0m\u001b[0mfit_transform\u001b[0m\u001b[0;34m(\u001b[0m\u001b[0mdf\u001b[0m\u001b[0;34m[\u001b[0m\u001b[0;34m[\u001b[0m\u001b[0;34m'Smoking Status'\u001b[0m\u001b[0;34m]\u001b[0m\u001b[0;34m]\u001b[0m\u001b[0;34m)\u001b[0m\u001b[0;34m\u001b[0m\u001b[0;34m\u001b[0m\u001b[0m\n\u001b[1;32m     35\u001b[0m \u001b[0mencoded_feature_names\u001b[0m \u001b[0;34m=\u001b[0m \u001b[0mencoder\u001b[0m\u001b[0;34m.\u001b[0m\u001b[0mget_feature_names\u001b[0m\u001b[0;34m(\u001b[0m\u001b[0;34m[\u001b[0m\u001b[0;34m'Smoking Status'\u001b[0m\u001b[0;34m]\u001b[0m\u001b[0;34m)\u001b[0m\u001b[0;34m\u001b[0m\u001b[0;34m\u001b[0m\u001b[0m\n",
            "\u001b[0;31mTypeError\u001b[0m: OneHotEncoder.__init__() got an unexpected keyword argument 'sparse'"
          ]
        }
      ]
    }
  ]
}