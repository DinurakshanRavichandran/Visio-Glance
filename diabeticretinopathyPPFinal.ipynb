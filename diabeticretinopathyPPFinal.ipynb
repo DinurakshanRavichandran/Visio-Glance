{
  "nbformat": 4,
  "nbformat_minor": 0,
  "metadata": {
    "colab": {
      "provenance": [],
      "authorship_tag": "ABX9TyOjRj5ETjgOCmu4jdnIOysc",
      "include_colab_link": true
    },
    "kernelspec": {
      "name": "python3",
      "display_name": "Python 3"
    },
    "language_info": {
      "name": "python"
    }
  },
  "cells": [
    {
      "cell_type": "markdown",
      "metadata": {
        "id": "view-in-github",
        "colab_type": "text"
      },
      "source": [
        "<a href=\"https://colab.research.google.com/github/DinurakshanRavichandran/Visio-Glance/blob/Pre-Processed-Datasets-NLP/diabeticretinopathyPPFinal.ipynb\" target=\"_parent\"><img src=\"https://colab.research.google.com/assets/colab-badge.svg\" alt=\"Open In Colab\"/></a>"
      ]
    },
    {
      "cell_type": "code",
      "execution_count": 1,
      "metadata": {
        "id": "9f0QThCzCuKG",
        "colab": {
          "base_uri": "https://localhost:8080/"
        },
        "outputId": "3641fae7-d5dd-4a28-d342-f11da20fc806"
      },
      "outputs": [
        {
          "output_type": "stream",
          "name": "stdout",
          "text": [
            "Mounted at /content/drive\n"
          ]
        }
      ],
      "source": [
        "#mount google drive\n",
        "from google.colab import drive\n",
        "drive.mount('/content/drive')"
      ]
    },
    {
      "cell_type": "code",
      "source": [
        "import pandas as pd\n",
        "from sklearn.impute import SimpleImputer\n",
        "from sklearn.preprocessing import OneHotEncoder\n",
        "from imblearn.over_sampling import SMOTE\n",
        "from imblearn.under_sampling import RandomUnderSampler\n",
        "\n",
        "# Load the dataset\n",
        "file_path = '/content/drive/MyDrive/PROJECT 29/DATASETS/Synthetic_Diabetic_Retinopathy_Dataset.csv'\n",
        "df = pd.read_csv(file_path)\n",
        "\n",
        "# Remove duplicate rows\n",
        "df.drop_duplicates(inplace=True)\n",
        "\n",
        "# Drop unnecessary columns\n",
        "columns_to_drop = ['Total Cholesterol', 'HDL Cholesterol', 'Cholesterol_HDL_Ratio']\n",
        "df.drop(columns=[col for col in columns_to_drop if col in df.columns], inplace=True)\n",
        "\n",
        "# Handle Missing Values\n",
        "imputer = SimpleImputer(strategy='most_frequent')\n",
        "df.iloc[:, :] = imputer.fit_transform(df)\n",
        "\n",
        "# Text Processing and Encoding for \"Visual Symptoms\"\n",
        "visual_symptoms_map = {\n",
        "    'fluffy white patches in vision': 'fluffy white patches in vision',\n",
        "    'occasional blurriness or floaters': 'occasional blurred vision',\n",
        "    'no visible symptoms': 'no visible symptoms',\n",
        "    'general vision blurriness': 'general vision blurriness',\n",
        "    'blotches of dark vision': 'blotches of dark vision',\n",
        "    'small dark spots in vision': 'small dark spots in vision'\n",
        "}\n",
        "df['Visual Symptoms'] = df['Visual Symptoms'].map(visual_symptoms_map)\n",
        "\n",
        "# One-Hot Encode 'Visual Symptoms'\n",
        "encoder = OneHotEncoder()\n",
        "encoded_features = encoder.fit_transform(df[['Visual Symptoms']]).toarray()\n",
        "encoded_feature_names = encoder.get_feature_names_out(['Visual Symptoms'])\n",
        "df[encoded_feature_names] = pd.DataFrame(encoded_features, dtype=int)  # Convert to int\n",
        "df.drop(['Visual Symptoms'], axis=1, inplace=True)\n",
        "\n",
        "# Drop 'Visual Symptoms_nan' if it exists\n",
        "if 'Visual Symptoms_nan' in df.columns:\n",
        "    df.drop(['Visual Symptoms_nan'], axis=1, inplace=True)\n",
        "\n",
        "# Ensure 'Diagnosis' is in integer format\n",
        "df['Diagnosis'] = df['Diagnosis'].astype(int)\n",
        "\n",
        "# Print class distribution before balancing\n",
        "print(\"Before balancing:\")\n",
        "print(df['Diagnosis'].value_counts())\n",
        "\n",
        "# Define features and target\n",
        "features = df.drop(columns=['Diagnosis'])\n",
        "target = df['Diagnosis']\n",
        "\n",
        "# Define target sample size per class (approx. 5000 per class)\n",
        "desired_class_size = 5000\n",
        "\n",
        "# Step 1: Undersample the majority class (1 - DR) down to 5000\n",
        "undersample = RandomUnderSampler(sampling_strategy={1: desired_class_size}, random_state=42)\n",
        "features_under, target_under = undersample.fit_resample(features, target)\n",
        "\n",
        "# Step 2: Oversample the minority class (0 - No DR) up to 5000 using SMOTE\n",
        "smote = SMOTE(sampling_strategy={0: desired_class_size}, random_state=42)\n",
        "features_balanced, target_balanced = smote.fit_resample(features_under, target_under)\n",
        "\n",
        "# Reconstruct the DataFrame with balanced data\n",
        "df_balanced = pd.DataFrame(features_balanced, columns=features.columns)\n",
        "df_balanced['Diagnosis'] = target_balanced.astype(int)  # Ensure it's an integer\n",
        "\n",
        "# Print class distribution after balancing\n",
        "print(\"\\nAfter balancing:\")\n",
        "print(df_balanced['Diagnosis'].value_counts())\n",
        "\n",
        "# Save Preprocessed Data\n",
        "preprocessed_file_path = '/content/drive/MyDrive/PROJECT 29/FINAL MODEL/Preprocessed_Diabetic_Retinopathy_Dataset.csv'\n",
        "df_balanced.to_csv(preprocessed_file_path, index=False)\n",
        "\n",
        "# Display the head of the preprocessed dataset\n",
        "print(df_balanced.head())\n"
      ],
      "metadata": {
        "colab": {
          "base_uri": "https://localhost:8080/"
        },
        "id": "7v4q1BL0cRqF",
        "outputId": "2b713428-bb93-480e-9e43-70da64b2bec4"
      },
      "execution_count": 7,
      "outputs": [
        {
          "output_type": "stream",
          "name": "stdout",
          "text": [
            "Before balancing:\n",
            "Diagnosis\n",
            "1    5750\n",
            "0    4250\n",
            "Name: count, dtype: int64\n",
            "\n",
            "After balancing:\n",
            "Diagnosis\n",
            "0    5000\n",
            "1    5000\n",
            "Name: count, dtype: int64\n",
            "   Age  Retinal Thickness  Cotton Wool Spots Count  LDL Cholesterol  \\\n",
            "0   61         220.130947                        0        85.532216   \n",
            "1   50         296.096819                        0        97.790530   \n",
            "2   57         184.210130                        0       113.111589   \n",
            "3   58         272.915897                        1        77.144017   \n",
            "4   40         253.239568                        0        89.395615   \n",
            "\n",
            "   Microaneurysms Count  Hemorrhages Count  Smoking Status  \\\n",
            "0                     3                  0               0   \n",
            "1                     2                  4               0   \n",
            "2                     0                  1               1   \n",
            "3                     1                  1               0   \n",
            "4                     1                  5               0   \n",
            "\n",
            "   Visual Symptoms_blotches of dark vision  \\\n",
            "0                                        0   \n",
            "1                                        0   \n",
            "2                                        0   \n",
            "3                                        0   \n",
            "4                                        0   \n",
            "\n",
            "   Visual Symptoms_fluffy white patches in vision  \\\n",
            "0                                               0   \n",
            "1                                               0   \n",
            "2                                               0   \n",
            "3                                               1   \n",
            "4                                               0   \n",
            "\n",
            "   Visual Symptoms_general vision blurriness  \\\n",
            "0                                          0   \n",
            "1                                          0   \n",
            "2                                          0   \n",
            "3                                          0   \n",
            "4                                          0   \n",
            "\n",
            "   Visual Symptoms_no visible symptoms  \\\n",
            "0                                    1   \n",
            "1                                    1   \n",
            "2                                    1   \n",
            "3                                    0   \n",
            "4                                    0   \n",
            "\n",
            "   Visual Symptoms_occasional blurred vision  \\\n",
            "0                                          0   \n",
            "1                                          0   \n",
            "2                                          0   \n",
            "3                                          0   \n",
            "4                                          1   \n",
            "\n",
            "   Visual Symptoms_small dark spots in vision  Diagnosis  \n",
            "0                                           0          0  \n",
            "1                                           0          0  \n",
            "2                                           0          0  \n",
            "3                                           0          0  \n",
            "4                                           0          0  \n"
          ]
        }
      ]
    }
  ]
}