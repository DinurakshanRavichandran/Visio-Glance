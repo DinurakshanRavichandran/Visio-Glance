{
  "nbformat": 4,
  "nbformat_minor": 0,
  "metadata": {
    "colab": {
      "provenance": [],
      "authorship_tag": "ABX9TyMM2ug2PdCblSp7KuH7IUEm",
      "include_colab_link": true
    },
    "kernelspec": {
      "name": "python3",
      "display_name": "Python 3"
    },
    "language_info": {
      "name": "python"
    }
  },
  "cells": [
    {
      "cell_type": "markdown",
      "metadata": {
        "id": "view-in-github",
        "colab_type": "text"
      },
      "source": [
        "<a href=\"https://colab.research.google.com/github/DinurakshanRavichandran/Visio-Glance/blob/Pre-Processed-Datasets-NLP/diabeticretinopathyPPFinal.ipynb\" target=\"_parent\"><img src=\"https://colab.research.google.com/assets/colab-badge.svg\" alt=\"Open In Colab\"/></a>"
      ]
    },
    {
      "cell_type": "code",
      "execution_count": 2,
      "metadata": {
        "id": "9f0QThCzCuKG",
        "colab": {
          "base_uri": "https://localhost:8080/"
        },
        "outputId": "bba7a5a2-7044-44fd-fb96-14cb8fb463e5"
      },
      "outputs": [
        {
          "output_type": "stream",
          "name": "stdout",
          "text": [
            "Mounted at /content/drive\n"
          ]
        }
      ],
      "source": [
        "#mount google drive\n",
        "from google.colab import drive\n",
        "drive.mount('/content/drive')"
      ]
    },
    {
      "cell_type": "code",
      "source": [
        "import pandas as pd\n",
        "from sklearn.impute import SimpleImputer\n",
        "from sklearn.preprocessing import StandardScaler, OneHotEncoder\n",
        "import re\n",
        "\n",
        "# Load the dataset\n",
        "df = pd.read_csv('/content/drive/MyDrive/DSGP PROJECT 29/DATASETS/Synthetic_Diabetic_Retinopathy_Dataset.csv')\n",
        "\n",
        "# Step 1: Handle Missing Values\n",
        "# Check for missing values and replace them with the most frequent category\n",
        "imputer = SimpleImputer(strategy='most_frequent')\n",
        "df.iloc[:, :] = imputer.fit_transform(df)\n",
        "\n",
        "# Step 2: Feature Engineering\n",
        "# Creating a new feature: Total Cholesterol to HDL ratio\n",
        "df['Cholesterol_HDL_Ratio'] = df['Total Cholesterol'] / df['HDL Cholesterol']\n",
        "\n",
        "# Step 3: Text Processing\n",
        "# Simple text processing using basic Python functions and regex\n",
        "def clean_text(text):\n",
        "    text = text.lower()  # convert to lowercase\n",
        "    text = re.sub(r'\\s+', ' ', text)  # replace multiple spaces with a single space\n",
        "    text = re.sub(r'[^\\w\\s]', '', text)  # remove punctuation\n",
        "    tokens = text.split()  # tokenize the text by splitting\n",
        "    return ' '.join(tokens)  # join tokens back into a string\n",
        "\n",
        "df['Visual Symptoms'] = df['Visual Symptoms'].apply(clean_text)\n",
        "\n",
        "# Step 4: Encode Categorical Data\n",
        "# Convert binary categorical data using OneHotEncoder\n",
        "encoder = OneHotEncoder()\n",
        "encoded_features = encoder.fit_transform(df[['Smoking Status']]).toarray()\n",
        "encoded_feature_names = encoder.get_feature_names_out(['Smoking Status'])\n",
        "df[encoded_feature_names] = encoded_features\n",
        "df.drop(['Smoking Status'], axis=1, inplace=True)\n",
        "\n",
        "# Step 5: Normalize/Scale Numerical Data\n",
        "# Scale numerical features to have zero mean and unit variance\n",
        "scaler = StandardScaler()\n",
        "numerical_features = ['Age', 'Retinal Thickness', 'Cotton Wool Spots Count', 'LDL Cholesterol',\n",
        "                      'HDL Cholesterol', 'Total Cholesterol', 'Microaneurysms Count',\n",
        "                      'Hemorrhages Count', 'Cholesterol_HDL_Ratio']\n",
        "df[numerical_features] = scaler.fit_transform(df[numerical_features])\n",
        "\n",
        "# Combine all processed features and target into a final DataFrame\n",
        "# Assuming you handle class imbalance externally or later\n",
        "\n",
        "# Step 7: Save Preprocessed Data\n",
        "# Save the final preprocessed data to a new CSV file\n",
        "final_file_path = '/content/drive/MyDrive/DSGP PROJECT 29/FINAL MODEL/Preprocessed_Diabetic_Retinopathy_Dataset.csv'\n",
        "df.to_csv(final_file_path, index=False)\n",
        "\n",
        "final_file_path\n"
      ],
      "metadata": {
        "colab": {
          "base_uri": "https://localhost:8080/",
          "height": 35
        },
        "id": "7v4q1BL0cRqF",
        "outputId": "b7a30890-a05c-4353-cedc-e4e37db07df9"
      },
      "execution_count": 6,
      "outputs": [
        {
          "output_type": "execute_result",
          "data": {
            "text/plain": [
              "'/content/drive/MyDrive/DSGP PROJECT 29/FINAL MODEL/Preprocessed_Diabetic_Retinopathy_Dataset.csv'"
            ],
            "application/vnd.google.colaboratory.intrinsic+json": {
              "type": "string"
            }
          },
          "metadata": {},
          "execution_count": 6
        }
      ]
    }
  ]
}