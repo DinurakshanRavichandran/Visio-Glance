{
  "nbformat": 4,
  "nbformat_minor": 0,
  "metadata": {
    "colab": {
      "provenance": [],
      "authorship_tag": "ABX9TyOtvpSkGIzrhF8/hD7+1qSz",
      "include_colab_link": true
    },
    "kernelspec": {
      "name": "python3",
      "display_name": "Python 3"
    },
    "language_info": {
      "name": "python"
    }
  },
  "cells": [
    {
      "cell_type": "markdown",
      "metadata": {
        "id": "view-in-github",
        "colab_type": "text"
      },
      "source": [
        "<a href=\"https://colab.research.google.com/github/DinurakshanRavichandran/Visio-Glance/blob/XAI/LIME_for_glucoma_V01.ipynb\" target=\"_parent\"><img src=\"https://colab.research.google.com/assets/colab-badge.svg\" alt=\"Open In Colab\"/></a>"
      ]
    },
    {
      "cell_type": "code",
      "execution_count": null,
      "metadata": {
        "id": "WEUqcfAveT92"
      },
      "outputs": [],
      "source": [
        "!pip install lime\n",
        "# Import pipeline and LIME explainer\n",
        "from sklearn.pipeline import make_pipeline\n",
        "from lime.lime_text import LimeTextExplainer\n",
        "\n",
        "# Get class labels from the model\n",
        "class_names = model.classes_\n",
        "\n",
        "# Create a LIME explainer for text\n",
        "explainer = LimeTextExplainer(class_names=class_names)\n",
        "\n",
        "# Create a pipeline that includes the vectorizer and the model\n",
        "c = make_pipeline(vectorizer, model)\n",
        "\n",
        "# Pick a random test instance for explanation\n",
        "idx = np.random.randint(0, len(X_test))\n",
        "\n",
        "sample_text = data['cleaned_text'].iloc[idx]\n",
        "\n",
        "# Display the index of the selected data point\n",
        "print(f\"Index of the selected data point: {idx}\")\n",
        "\n",
        "# Explain the prediction for the selected text\n",
        "exp = explainer.explain_instance(data['cleaned_text'][idx], c.predict_proba, num_features=100)\n",
        "\n",
        "# Show the explanation in the notebook\n",
        "exp.show_in_notebook(text=True)\n"
      ]
    }
  ]
}