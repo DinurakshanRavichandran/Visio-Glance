{
  "cells": [
    {
      "cell_type": "markdown",
      "metadata": {
        "id": "view-in-github",
        "colab_type": "text"
      },
      "source": [
        "<a href=\"https://colab.research.google.com/github/DinurakshanRavichandran/Visio-Glance/blob/FINAL-MODEL-NLP/unified_eye_disease_detection_corrected.ipynb\" target=\"_parent\"><img src=\"https://colab.research.google.com/assets/colab-badge.svg\" alt=\"Open In Colab\"/></a>"
      ]
    },
    {
      "cell_type": "markdown",
      "metadata": {
        "id": "qu4m-h9MVrqx"
      },
      "source": [
        "# Unified Eye Disease Detection Model\n",
        "This notebook implements a machine learning pipeline to predict one of six eye diseases based on symptom datasets."
      ]
    },
    {
      "cell_type": "code",
      "execution_count": 1,
      "metadata": {
        "colab": {
          "base_uri": "https://localhost:8080/"
        },
        "id": "ts1N7Q17Vuyr",
        "outputId": "55f50aa1-d862-4174-eb3e-ee7bea7dfe07"
      },
      "outputs": [
        {
          "output_type": "stream",
          "name": "stdout",
          "text": [
            "Mounted at /content/drive\n"
          ]
        }
      ],
      "source": [
        "from google.colab import drive\n",
        "drive.mount('/content/drive')"
      ]
    },
    {
      "cell_type": "markdown",
      "metadata": {
        "id": "bQSK_xVJ_J3d"
      },
      "source": [
        "Load, Merge, Clean, and Save the Dataset."
      ]
    },
    {
      "cell_type": "code",
      "execution_count": 2,
      "metadata": {
        "colab": {
          "base_uri": "https://localhost:8080/"
        },
        "id": "HN15p3NP_TZJ",
        "outputId": "58c808d7-1d81-4edf-dffd-c44ea5f5fc92"
      },
      "outputs": [
        {
          "output_type": "stream",
          "name": "stdout",
          "text": [
            "Loaded dataset: /content/drive/MyDrive/PROJECT 29/FINAL MODEL/PRE-PROCESSED DATASETS/preprocessed_glaucoma_dataset.csv | Shape: (10000, 13)\n",
            "Loaded dataset: /content/drive/MyDrive/PROJECT 29/FINAL MODEL/PRE-PROCESSED DATASETS/Preprocessed_Cataract_Dataset.csv | Shape: (10000, 23)\n",
            "Loaded dataset: /content/drive/MyDrive/PROJECT 29/FINAL MODEL/PRE-PROCESSED DATASETS/Preprocessed_Diabetic_Retinopathy_Dataset.csv | Shape: (10000, 14)\n",
            "Loaded dataset: /content/drive/MyDrive/PROJECT 29/FINAL MODEL/PRE-PROCESSED DATASETS/Preprocessed_CNV_Detection_Dataset.csv | Shape: (10750, 20)\n",
            "Loaded dataset: /content/drive/MyDrive/PROJECT 29/FINAL MODEL/PRE-PROCESSED DATASETS/Preprocessed_DME_Dataset.csv | Shape: (10000, 19)\n",
            "Loaded dataset: /content/drive/MyDrive/PROJECT 29/FINAL MODEL/PRE-PROCESSED DATASETS/Preprocessed_Drusen_Dataset.csv | Shape: (10000, 12)\n",
            "\n",
            "Merged dataset shape (before cleaning): (60750, 74)\n",
            "\n",
            "Missing values before handling:\n",
            " Age                                          0\n",
            "Intraocular Pressure (IOP)               40750\n",
            "Cup-to-Disc Ratio (CDR)                  50750\n",
            "Pachymetry                               50750\n",
            "Diagnosis                                    0\n",
            "                                         ...  \n",
            "Cholesterol Levels                       50750\n",
            "Visual Symptoms_blind spots              50750\n",
            "Visual Symptoms_light sensitivity        50750\n",
            "Visual Symptoms_night vision problems    50750\n",
            "Visual Symptoms_vision change            50750\n",
            "Length: 74, dtype: int64\n",
            "Dropped columns with >50% missing values (excluding essential features): ['Cotton Wool Spots Count', 'LDL Cholesterol']\n",
            "\n",
            "Missing values after handling:\n",
            " 0\n",
            "Dataset shape after removing duplicates: (53717, 72)\n",
            "Final dataset saved to: /content/drive/MyDrive/PROJECT 29/FINAL MODEL/merged_dataset.csv\n",
            "\n",
            "Final dataset shape: (53717, 72)\n",
            "\n",
            "Diagnosis Value Counts:\n",
            "Diagnosis\n",
            "0    27634\n",
            "1    26083\n",
            "Name: count, dtype: int64\n",
            "\n",
            "Disease Label Value Counts:\n",
            "Disease_Label\n",
            "Glaucoma                10000\n",
            "Diabetic Retinopathy    10000\n",
            "Drusen                   9999\n",
            "Cataract                 9844\n",
            "DME                      8573\n",
            "CNV                      5301\n",
            "Name: count, dtype: int64\n",
            "Dropped features: ['Visual Symptoms_vomiting', 'Visual Symptoms_nausea', 'Visual Symptoms_eye pain', 'Visual Symptoms_vision loss', 'Visual Symptoms_general vision blurriness', 'Visual Symptoms_vision change', 'Visual Symptoms_vision loss area', 'Visual Symptoms_loss of central vision', 'Visual Symptoms_temporary vision disturbances', 'Visual Symptoms_colors appear faded']\n",
            "Encoded dataset saved to: /content/drive/MyDrive/PROJECT 29/FINAL MODEL/encoded_merged_dataset.csv\n",
            "   Disease_Label\n",
            "0              0\n",
            "1              0\n",
            "2              0\n",
            "3              0\n",
            "4              0\n",
            "5              0\n",
            "6              0\n",
            "7              0\n",
            "8              0\n",
            "9              0\n",
            "/n\n",
            "Final dataset shape: (53717, 62)\n"
          ]
        }
      ],
      "source": [
        "import pandas as pd\n",
        "\n",
        "# Define dataset paths and labels\n",
        "datasets = {\n",
        "    \"/content/drive/MyDrive/PROJECT 29/FINAL MODEL/PRE-PROCESSED DATASETS/preprocessed_glaucoma_dataset.csv\": \"Glaucoma\",\n",
        "    \"/content/drive/MyDrive/PROJECT 29/FINAL MODEL/PRE-PROCESSED DATASETS/Preprocessed_Cataract_Dataset.csv\": \"Cataract\",\n",
        "    \"/content/drive/MyDrive/PROJECT 29/FINAL MODEL/PRE-PROCESSED DATASETS/Preprocessed_Diabetic_Retinopathy_Dataset.csv\": \"Diabetic Retinopathy\",\n",
        "    \"/content/drive/MyDrive/PROJECT 29/FINAL MODEL/PRE-PROCESSED DATASETS/Preprocessed_CNV_Detection_Dataset.csv\": \"CNV\",\n",
        "    \"/content/drive/MyDrive/PROJECT 29/FINAL MODEL/PRE-PROCESSED DATASETS/Preprocessed_DME_Dataset.csv\": \"DME\",\n",
        "    \"/content/drive/MyDrive/PROJECT 29/FINAL MODEL/PRE-PROCESSED DATASETS/Preprocessed_Drusen_Dataset.csv\": \"Drusen\"\n",
        "}\n",
        "\n",
        "\n",
        "# Step 1: Load datasets into a list\n",
        "dataframes = []\n",
        "for file, disease in datasets.items():\n",
        "    try:\n",
        "        df = pd.read_csv(file)\n",
        "        print(f\"Loaded dataset: {file} | Shape: {df.shape}\")\n",
        "        df[\"Disease_Label\"] = disease  # Add disease label column\n",
        "        dataframes.append(df)\n",
        "    except Exception as e:\n",
        "        print(f\"Error loading {file}: {e}\")\n",
        "\n",
        "# Step 2: Merge all datasets while keeping all columns\n",
        "merged_df = pd.concat(dataframes, ignore_index=True, sort=False)  # Keeps unique columns\n",
        "print(f\"\\nMerged dataset shape (before cleaning): {merged_df.shape}\")\n",
        "\n",
        "# -----------------------------------------\n",
        "# Step 3: Handling missing values\n",
        "# -----------------------------------------\n",
        "\n",
        "# Check for missing values before handling\n",
        "print(\"\\nMissing values before handling:\\n\", merged_df.isnull().sum())\n",
        "\n",
        "# 🔹 Essential Disease-Specific Features (Ensure They Are Kept)\n",
        "essential_features = [\n",
        "    \"Intraocular Pressure (IOP)\", \"Cup-to-Disc Ratio (CDR)\", \"Pachymetry\",\n",
        "    \"Retinal Thickness\", 'History of Diabetes',\n",
        "    \"Microaneurysms Count\", \"Hemorrhages Count\", \"BMI\", \"Blood Pressure\",\n",
        "    \"Cholesterol Levels\"\n",
        "]\n",
        "\n",
        "# 🔹 Disease-Specific Features - Fill missing values per disease\n",
        "disease_specific_features = {\n",
        "    \"Glaucoma\": [\"Cup-to-Disc Ratio (CDR)\", \"Pachymetry\"],\n",
        "    \"Cataract\": [\"History of Diabetes\"],\n",
        "    \"Diabetic Retinopathy\": [\"Retinal Thickness\", \"Cotton Wool Spots Count\", \"LDL Cholesterol\", \"Microaneurysms Count\", \"Hemorrhages Count\"],\n",
        "    \"Drusen\": [\"BMI\", \"Blood Pressure\", \"Cholesterol Levels\"]\n",
        "}\n",
        "\n",
        "for disease, features in disease_specific_features.items():\n",
        "    for col in features:\n",
        "        if col in merged_df.columns:\n",
        "            disease_mean = merged_df.loc[merged_df[\"Disease_Label\"] == disease, col].mean()\n",
        "\n",
        "            # If the mean is NaN, use the global median\n",
        "            if pd.isna(disease_mean):\n",
        "                merged_df[col].fillna(merged_df[col].median(), inplace=True)\n",
        "            else:\n",
        "                merged_df.loc[merged_df[\"Disease_Label\"] == disease, col] = (\n",
        "                    merged_df.loc[merged_df[\"Disease_Label\"] == disease, col].fillna(disease_mean)\n",
        "                )\n",
        "\n",
        "# 🔹 Common Features - Fill missing values per disease group\n",
        "common_features = {\n",
        "    \"Glaucoma_DME\": [\"Intraocular Pressure (IOP)\"],\n",
        "    \"Cataract_DiabeticRetinopathy_Drusen_CNV\": [\"Smoking Status\"]\n",
        "}\n",
        "\n",
        "for col in common_features[\"Glaucoma_DME\"]:\n",
        "    if col in merged_df.columns:\n",
        "        merged_df[col] = merged_df.groupby(\"Disease_Label\")[col].transform(lambda x: x.fillna(x.mean()))\n",
        "\n",
        "for col in common_features[\"Cataract_DiabeticRetinopathy_Drusen_CNV\"]:\n",
        "    if col in merged_df.columns:\n",
        "        merged_df[col] = merged_df[col].fillna(merged_df[col].mode()[0])\n",
        "\n",
        "# 🔹 Handle Missing Values for Other Disease Groups Using Median\n",
        "for col in essential_features:\n",
        "    if col in merged_df.columns:\n",
        "        merged_df[col] = merged_df[col].fillna(merged_df[col].median())\n",
        "\n",
        "# 🔹 One-Hot Encoded Features - Fill missing with 0 (category not applicable)\n",
        "one_hot_encoded_features = [\n",
        "    \"Lens Opacity_mild\", \"Lens Opacity_moderate\", \"Lens Opacity_severe\",\n",
        "    \"Glare Sensitivity_mild\", \"Glare Sensitivity_none\", \"Glare Sensitivity_severe\",\n",
        "    \"UV Exposure_high\", \"UV Exposure_low\", \"UV Exposure_medium\",\n",
        "    \"Lens Status_Cortical cataract\", \"Lens Status_Normal\", \"Lens Status_Nuclear cataract\", \"Lens Status_Posterior subcapsular cataract\",\n",
        "    \"Optical Coherence Tomography (OCT) Results_Early CNV\", \"Optical Coherence Tomography (OCT) Results_Normal\", \"Optical Coherence Tomography (OCT) Results_Scarred/End-stage CNV\",\n",
        "    \"Fluorescein Angiography Results_Early Neovascularization\", \"Fluorescein Angiography Results_No Neovascularization\"\n",
        "]\n",
        "\n",
        "for col in one_hot_encoded_features:\n",
        "    if col in merged_df.columns:\n",
        "        merged_df[col] = merged_df[col].fillna(0)\n",
        "\n",
        "# 🔹 Visual Symptoms - Fill missing values with 0\n",
        "symptom_columns = [col for col in merged_df.columns if \"Visual Symptoms_\" in col]\n",
        "merged_df[symptom_columns] = merged_df[symptom_columns].fillna(0)\n",
        "\n",
        "# 🔹 Visual Acuity Test Results - Fill missing with 0 (category not applicable)\n",
        "acuity_columns = [col for col in merged_df.columns if \"Visual Acuity Test Results_\" in col]\n",
        "merged_df[acuity_columns] = merged_df[acuity_columns].fillna(0)\n",
        "\n",
        "# 🔹 Drop Features That Still Have >50% Missing Values (Except Essential Features)\n",
        "missing_percent = merged_df.isnull().sum() / len(merged_df) * 100\n",
        "cols_to_drop = missing_percent[missing_percent > 50].index.tolist()\n",
        "cols_to_drop = [col for col in cols_to_drop if col not in essential_features]\n",
        "merged_df.drop(columns=cols_to_drop, inplace=True)\n",
        "print(f\"Dropped columns with >50% missing values (excluding essential features): {list(cols_to_drop)}\")\n",
        "\n",
        "# 🔹 Final check for missing values\n",
        "print(\"\\nMissing values after handling:\\n\", merged_df.isnull().sum().sum())\n",
        "\n",
        "# -----------------------------------------\n",
        "# Step 4: Remove duplicate rows\n",
        "# -----------------------------------------\n",
        "merged_df.drop_duplicates(inplace=True)\n",
        "print(f\"Dataset shape after removing duplicates: {merged_df.shape}\")\n",
        "\n",
        "# -----------------------------------------\n",
        "# Step 5: Save the cleaned dataset\n",
        "# -----------------------------------------\n",
        "output_path = \"/content/drive/MyDrive/PROJECT 29/FINAL MODEL/merged_dataset.csv\"\n",
        "merged_df.to_csv(output_path, index=False)\n",
        "print(f\"Final dataset saved to: {output_path}\")\n",
        "\n",
        "# -----------------------------------------\n",
        "# Additional Checks\n",
        "# -----------------------------------------\n",
        "print(\"\\nFinal dataset shape:\", merged_df.shape)\n",
        "\n",
        "#print value counts for diagnosis and disease labels\n",
        "print(\"\\nDiagnosis Value Counts:\")\n",
        "print(merged_df[\"Diagnosis\"].value_counts())\n",
        "\n",
        "print(\"\\nDisease Label Value Counts:\")\n",
        "print(merged_df[\"Disease_Label\"].value_counts())\n",
        "\n",
        "\n",
        "# 🔹 Define disease encoding\n",
        "disease_mapping = {\n",
        "    \"Glaucoma\": 0,\n",
        "    \"Cataract\": 1,\n",
        "    \"Diabetic Retinopathy\": 2,\n",
        "    \"CNV\": 3,\n",
        "    \"DME\": 4,\n",
        "    \"Drusen\": 5\n",
        "}\n",
        "\n",
        "# 🔹 Apply encoding to Disease_Label column\n",
        "merged_df[\"Disease_Label\"] = merged_df[\"Disease_Label\"].map(disease_mapping)\n",
        "\n",
        "# 🔹 Drop the specified Visual Symptoms features\n",
        "features_to_drop = [\n",
        "    \"Visual Symptoms_vomiting\", \"Visual Symptoms_nausea\", \"Visual Symptoms_eye pain\",\n",
        "    \"Visual Symptoms_vision loss\", \"Visual Symptoms_general vision blurriness\",\n",
        "    \"Visual Symptoms_vision change\", \"Visual Symptoms_vision loss area\",\n",
        "    \"Visual Symptoms_loss of central vision\", \"Visual Symptoms_temporary vision disturbances\",\n",
        "    \"Visual Symptoms_colors appear faded\"\n",
        "]\n",
        "\n",
        "# Drop columns if they exist in the dataframe\n",
        "merged_df.drop(columns=[col for col in features_to_drop if col in merged_df.columns], inplace=True)\n",
        "\n",
        "print(f\"Dropped features: {features_to_drop}\")\n",
        "\n",
        "\n",
        "# 🔹 Save the new encoded dataset\n",
        "encoded_output_path = \"/content/drive/MyDrive/PROJECT 29/FINAL MODEL/encoded_merged_dataset.csv\"\n",
        "merged_df.to_csv(encoded_output_path, index=False)\n",
        "\n",
        "print(f\"Encoded dataset saved to: {encoded_output_path}\")\n",
        "\n",
        "# 🔹 Verify the encoding\n",
        "print(merged_df[[\"Disease_Label\"]].head(10))  # Print first 10 rows to check encoding\n",
        "\n",
        "print(\"/n\")\n",
        "#print final dataset shape\n",
        "print(\"Final dataset shape:\", merged_df.shape)\n"
      ]
    },
    {
      "cell_type": "code",
      "source": [
        "!pip install xgboost scikit-learn"
      ],
      "metadata": {
        "colab": {
          "base_uri": "https://localhost:8080/"
        },
        "id": "AWdm7C4hjts8",
        "outputId": "1b59b732-00fb-4edc-a0b0-322a132ceeb8"
      },
      "execution_count": 3,
      "outputs": [
        {
          "output_type": "stream",
          "name": "stdout",
          "text": [
            "Requirement already satisfied: xgboost in /usr/local/lib/python3.11/dist-packages (2.1.4)\n",
            "Requirement already satisfied: scikit-learn in /usr/local/lib/python3.11/dist-packages (1.6.1)\n",
            "Requirement already satisfied: numpy in /usr/local/lib/python3.11/dist-packages (from xgboost) (2.0.2)\n",
            "Requirement already satisfied: nvidia-nccl-cu12 in /usr/local/lib/python3.11/dist-packages (from xgboost) (2.21.5)\n",
            "Requirement already satisfied: scipy in /usr/local/lib/python3.11/dist-packages (from xgboost) (1.14.1)\n",
            "Requirement already satisfied: joblib>=1.2.0 in /usr/local/lib/python3.11/dist-packages (from scikit-learn) (1.4.2)\n",
            "Requirement already satisfied: threadpoolctl>=3.1.0 in /usr/local/lib/python3.11/dist-packages (from scikit-learn) (3.6.0)\n"
          ]
        }
      ]
    },
    {
      "cell_type": "markdown",
      "source": [
        "Implementing Multi-Output Classification with XGBoost."
      ],
      "metadata": {
        "id": "qmITGIu-5OuI"
      }
    },
    {
      "cell_type": "code",
      "source": [
        "import xgboost as xgb\n",
        "import pandas as pd\n",
        "import numpy as np\n",
        "from sklearn.model_selection import train_test_split, StratifiedKFold, GridSearchCV\n",
        "from sklearn.metrics import accuracy_score, classification_report\n",
        "from imblearn.over_sampling import SMOTE\n",
        "\n",
        "# 🔹 Load dataset\n",
        "df = pd.read_csv(\"/content/drive/MyDrive/TEST 29/encoded_merged_dataset.csv\")\n",
        "\n",
        "# 🔹 Define features & target variables\n",
        "X = df.drop(columns=[\"Diagnosis\", \"Disease_Label\"])  # Features\n",
        "y = df[[\"Diagnosis\", \"Disease_Label\"]]  # Multi-output target (binary + multi-class)\n",
        "\n",
        "# -----------------------------------------\n",
        "# Step 1: Train-Validation-Test Split (70-15-15) with Stratification\n",
        "# -----------------------------------------\n",
        "\n",
        "# First, split into 85% Train+Validation and 15% Test\n",
        "X_train_val, X_test, y_train_val, y_test = train_test_split(\n",
        "    X, y, test_size=0.15, random_state=42, stratify=y\n",
        ")\n",
        "\n",
        "# Now, split Train+Validation into 70% Train and 15% Validation\n",
        "X_train, X_val, y_train, y_val = train_test_split(\n",
        "    X_train_val, y_train_val, test_size=0.1765, random_state=42, stratify=y_train_val\n",
        ")\n",
        "\n",
        "# Print dataset sizes\n",
        "print(f\"Training Set: {X_train.shape}, Validation Set: {X_val.shape}, Test Set: {X_test.shape}\")\n",
        "\n",
        "# -----------------------------------------\n",
        "# Step 2: Handle Class Imbalance for Diagnosis using SMOTE\n",
        "# -----------------------------------------\n",
        "\n",
        "smote = SMOTE(random_state=42)\n",
        "X_train_resampled, y_train_resampled_diagnosis = smote.fit_resample(X_train, y_train[\"Diagnosis\"])\n",
        "\n",
        "# -----------------------------------------\n",
        "# Step 3: Remove Feature Leakage for Disease_Label\n",
        "# -----------------------------------------\n",
        "X_train_no_diag = X_train\n",
        "X_val_no_diag = X_val\n",
        "X_test_no_diag = X_test\n",
        "\n",
        "# -----------------------------------------\n",
        "# Step 4: Hyperparameter Tuning using Validation Set\n",
        "# -----------------------------------------\n",
        "\n",
        "# 🔹 Define XGBoost Parameter Grid\n",
        "param_grid = {\n",
        "    \"max_depth\": [3, 5, 7],\n",
        "    \"learning_rate\": [0.01, 0.1, 0.2],\n",
        "    \"n_estimators\": [100, 200, 300],\n",
        "    \"subsample\": [0.7, 1.0],\n",
        "    \"colsample_bytree\": [0.7, 1.0]\n",
        "}\n",
        "\n",
        "# 🔹 Cross-Validation Setup\n",
        "cv = StratifiedKFold(n_splits=5, shuffle=True, random_state=42)\n",
        "\n",
        "# 🔹 Hyperparameter tuning for Diagnosis\n",
        "xgb_diagnosis_tuned = xgb.XGBClassifier(objective=\"binary:logistic\", eval_metric=\"logloss\", use_label_encoder=False)\n",
        "grid_search_diagnosis = GridSearchCV(xgb_diagnosis_tuned, param_grid, cv=cv, scoring=\"accuracy\", n_jobs=-1)\n",
        "grid_search_diagnosis.fit(X_train_resampled, y_train_resampled_diagnosis)\n",
        "\n",
        "# 🔹 Hyperparameter tuning for Disease_Label (multi-class)\n",
        "xgb_disease_tuned = xgb.XGBClassifier(objective=\"multi:softmax\", num_class=6, eval_metric=\"mlogloss\", use_label_encoder=False)\n",
        "grid_search_disease = GridSearchCV(xgb_disease_tuned, param_grid, cv=cv, scoring=\"accuracy\", n_jobs=-1)\n",
        "grid_search_disease.fit(X_train_no_diag, y_train[\"Disease_Label\"])\n",
        "\n",
        "# 🔹 Get Best Models\n",
        "best_diagnosis_model = grid_search_diagnosis.best_estimator_\n",
        "best_disease_model = grid_search_disease.best_estimator_\n",
        "\n",
        "# -----------------------------------------\n",
        "# Step 5: Train Final Models with Best Hyperparameters\n",
        "# -----------------------------------------\n",
        "\n",
        "best_diagnosis_model.fit(X_train_resampled, y_train_resampled_diagnosis)\n",
        "best_disease_model.fit(X_train_no_diag, y_train[\"Disease_Label\"])\n",
        "\n",
        "# -----------------------------------------\n",
        "# Step 6: Evaluate Model Performance\n",
        "# -----------------------------------------\n",
        "\n",
        "# 🔹 Training Predictions\n",
        "y_train_pred_diagnosis = best_diagnosis_model.predict(X_train_resampled)\n",
        "y_train_pred_disease = best_disease_model.predict(X_train_no_diag)\n",
        "\n",
        "# 🔹 Validation Predictions (for hyperparameter tuning)\n",
        "y_val_pred_diagnosis = best_diagnosis_model.predict(X_val)\n",
        "y_val_pred_disease = best_disease_model.predict(X_val_no_diag)\n",
        "\n",
        "# 🔹 Test Predictions (final evaluation)\n",
        "y_test_pred_diagnosis = best_diagnosis_model.predict(X_test)\n",
        "y_test_pred_disease = best_disease_model.predict(X_test_no_diag)\n",
        "\n",
        "# -----------------------------------------\n",
        "# Step 7: Compute Accuracies\n",
        "# -----------------------------------------\n",
        "\n",
        "# 🔹 Training Accuracy\n",
        "train_acc_diagnosis = accuracy_score(y_train_resampled_diagnosis, y_train_pred_diagnosis) * 100\n",
        "train_acc_disease = accuracy_score(y_train[\"Disease_Label\"], y_train_pred_disease) * 100\n",
        "\n",
        "# 🔹 Validation Accuracy\n",
        "val_acc_diagnosis = accuracy_score(y_val[\"Diagnosis\"], y_val_pred_diagnosis) * 100\n",
        "val_acc_disease = accuracy_score(y_val[\"Disease_Label\"], y_val_pred_disease) * 100\n",
        "\n",
        "# 🔹 Test Accuracy\n",
        "test_acc_diagnosis = accuracy_score(y_test[\"Diagnosis\"], y_test_pred_diagnosis) * 100\n",
        "test_acc_disease = accuracy_score(y_test[\"Disease_Label\"], y_test_pred_disease) * 100\n",
        "\n",
        "# Print results\n",
        "print(\"\\n🔹 Training Accuracy:\")\n",
        "print(f\"  - Diagnosis: {train_acc_diagnosis:.2f}%\")\n",
        "print(f\"  - Disease_Label: {train_acc_disease:.2f}%\")\n",
        "\n",
        "print(\"\\n🔹 Validation Accuracy:\")\n",
        "print(f\"  - Diagnosis: {val_acc_diagnosis:.2f}%\")\n",
        "print(f\"  - Disease_Label: {val_acc_disease:.2f}%\")\n",
        "\n",
        "print(\"\\n🔹 Test Accuracy:\")\n",
        "print(f\"  - Diagnosis: {test_acc_diagnosis:.2f}%\")\n",
        "print(f\"  - Disease_Label: {test_acc_disease:.2f}%\")\n",
        "\n",
        "# -----------------------------------------\n",
        "# Step 8: Classification Reports\n",
        "# -----------------------------------------\n",
        "\n",
        "print(\"\\n🔹 Classification Report for Diagnosis (Binary Classification)\")\n",
        "print(classification_report(y_test[\"Diagnosis\"], y_test_pred_diagnosis, target_names=[\"Healthy (0)\", \"Disease (1)\"]))\n",
        "\n",
        "print(\"\\n🔹 Classification Report for Disease_Label (Multi-Class Classification)\")\n",
        "disease_classes = [\"Glaucoma (0)\", \"Cataract (1)\", \"Diabetic Retinopathy (2)\", \"CNV (3)\", \"DME (4)\", \"Drusen (5)\"]\n",
        "print(classification_report(y_test[\"Disease_Label\"], y_test_pred_disease, target_names=disease_classes))\n"
      ],
      "metadata": {
        "colab": {
          "base_uri": "https://localhost:8080/"
        },
        "id": "ReVTpyrP5jrJ",
        "outputId": "ed76b497-2e42-4286-bbc7-427a77ff8801"
      },
      "execution_count": 4,
      "outputs": [
        {
          "output_type": "stream",
          "name": "stdout",
          "text": [
            "Training Set: (37600, 60), Validation Set: (8059, 60), Test Set: (8058, 60)\n"
          ]
        },
        {
          "output_type": "stream",
          "name": "stderr",
          "text": [
            "/usr/local/lib/python3.11/dist-packages/xgboost/core.py:158: UserWarning: [08:24:07] WARNING: /workspace/src/learner.cc:740: \n",
            "Parameters: { \"use_label_encoder\" } are not used.\n",
            "\n",
            "  warnings.warn(smsg, UserWarning)\n",
            "/usr/local/lib/python3.11/dist-packages/xgboost/core.py:158: UserWarning: [09:10:19] WARNING: /workspace/src/learner.cc:740: \n",
            "Parameters: { \"use_label_encoder\" } are not used.\n",
            "\n",
            "  warnings.warn(smsg, UserWarning)\n",
            "/usr/local/lib/python3.11/dist-packages/xgboost/core.py:158: UserWarning: [09:10:31] WARNING: /workspace/src/learner.cc:740: \n",
            "Parameters: { \"use_label_encoder\" } are not used.\n",
            "\n",
            "  warnings.warn(smsg, UserWarning)\n",
            "/usr/local/lib/python3.11/dist-packages/xgboost/core.py:158: UserWarning: [09:10:33] WARNING: /workspace/src/learner.cc:740: \n",
            "Parameters: { \"use_label_encoder\" } are not used.\n",
            "\n",
            "  warnings.warn(smsg, UserWarning)\n"
          ]
        },
        {
          "output_type": "stream",
          "name": "stdout",
          "text": [
            "\n",
            "🔹 Training Accuracy:\n",
            "  - Diagnosis: 83.68%\n",
            "  - Disease_Label: 99.95%\n",
            "\n",
            "🔹 Validation Accuracy:\n",
            "  - Diagnosis: 73.15%\n",
            "  - Disease_Label: 99.95%\n",
            "\n",
            "🔹 Test Accuracy:\n",
            "  - Diagnosis: 72.98%\n",
            "  - Disease_Label: 99.95%\n",
            "\n",
            "🔹 Classification Report for Diagnosis (Binary Classification)\n",
            "              precision    recall  f1-score   support\n",
            "\n",
            " Healthy (0)       0.74      0.74      0.74      4146\n",
            " Disease (1)       0.72      0.72      0.72      3912\n",
            "\n",
            "    accuracy                           0.73      8058\n",
            "   macro avg       0.73      0.73      0.73      8058\n",
            "weighted avg       0.73      0.73      0.73      8058\n",
            "\n",
            "\n",
            "🔹 Classification Report for Disease_Label (Multi-Class Classification)\n",
            "                          precision    recall  f1-score   support\n",
            "\n",
            "            Glaucoma (0)       1.00      1.00      1.00      1500\n",
            "            Cataract (1)       1.00      1.00      1.00      1477\n",
            "Diabetic Retinopathy (2)       1.00      1.00      1.00      1500\n",
            "                 CNV (3)       0.99      1.00      1.00       795\n",
            "                 DME (4)       1.00      1.00      1.00      1286\n",
            "              Drusen (5)       1.00      1.00      1.00      1500\n",
            "\n",
            "                accuracy                           1.00      8058\n",
            "               macro avg       1.00      1.00      1.00      8058\n",
            "            weighted avg       1.00      1.00      1.00      8058\n",
            "\n"
          ]
        }
      ]
    },
    {
      "cell_type": "markdown",
      "source": [
        "Save the model."
      ],
      "metadata": {
        "id": "-LrDghKk0_Qu"
      }
    },
    {
      "cell_type": "code",
      "source": [
        "#save the model in .pkl format\n",
        "# import pickle\n",
        "# with open('diagnosis_model.pkl', 'wb') as file:\n",
        "#     pickle.dump(best_diagnosis_model, file)\n",
        "\n",
        "# with open('disease_model.pkl', 'wb') as file:\n",
        "#     pickle.dump(best_disease_model, file)\n",
        "\n",
        "\n",
        "import pickle\n",
        "\n",
        "# Save the diagnosis model in the specified directory\n",
        "with open('/content/drive/MyDrive/PROJECT 29/FINAL MODEL/PKL FILES/diagnosis_model.pkl', 'wb') as file:\n",
        "    pickle.dump(best_diagnosis_model, file)\n",
        "\n",
        "# Save the disease model in the specified directory\n",
        "with open('/content/drive/MyDrive/PROJECT 29/FINAL MODEL/PKL FILES/disease_model.pkl', 'wb') as file:\n",
        "    pickle.dump(best_disease_model, file)\n"
      ],
      "metadata": {
        "id": "5M_CVtOh_eKz"
      },
      "execution_count": 5,
      "outputs": []
    },
    {
      "cell_type": "markdown",
      "source": [
        "Testing the model using test data for \"Diagnosis\" and \"Disease_Label\" using test set."
      ],
      "metadata": {
        "id": "ZeuVivVV_ttk"
      }
    },
    {
      "cell_type": "code",
      "source": [
        "#Testing the model by inputting test data for \"Diagnosis\" and \"Disease_Label\" using test set.\n",
        "\n",
        "#Testing Code\n",
        "\n",
        "import random\n",
        "\n",
        "# Get a random index from the test set\n",
        "random_idx = random.randint(0, len(X_test) - 1)\n",
        "\n",
        "# Select the test sample\n",
        "test_sample = X_test.iloc[random_idx:random_idx + 1]  # Keep it as a DataFrame\n",
        "\n",
        "# Predict Diagnosis (Binary: 0 = Healthy, 1 = Disease)\n",
        "predicted_diagnosis = best_diagnosis_model.predict(test_sample)[0]\n",
        "\n",
        "# Predict Disease Label only if Diagnosis = 1 (Disease Detected)\n",
        "if predicted_diagnosis == 0:\n",
        "    print(\"\\n🔹 Prediction Result: No Eye Disease Found: Healthy.\")\n",
        "else:\n",
        "    predicted_disease = best_disease_model.predict(test_sample)[0]\n",
        "\n",
        "    # Disease mapping\n",
        "    disease_mapping = {\n",
        "        0: \"Glaucoma\",\n",
        "        1: \"Cataract\",\n",
        "        2: \"Diabetic Retinopathy\",\n",
        "        3: \"CNV\",\n",
        "        4: \"DME\",\n",
        "        5: \"Drusen\"\n",
        "    }\n",
        "\n",
        "    print(f\"\\n🔹 Prediction Result: Eye Disease Detected: {disease_mapping[predicted_disease]}\")"
      ],
      "metadata": {
        "colab": {
          "base_uri": "https://localhost:8080/"
        },
        "id": "wRXRVYEF_xfN",
        "outputId": "18a05e18-df56-4962-da74-34744c39d41f"
      },
      "execution_count": 62,
      "outputs": [
        {
          "output_type": "stream",
          "name": "stdout",
          "text": [
            "\n",
            "🔹 Prediction Result: Eye Disease Detected: Diabetic Retinopathy\n"
          ]
        }
      ]
    },
    {
      "cell_type": "markdown",
      "source": [
        "Display and Visualize the Confusion Matrix"
      ],
      "metadata": {
        "id": "ntQ7D1Y3Azi6"
      }
    },
    {
      "cell_type": "code",
      "source": [
        "!pip install matplotlib seaborn scikit-learn"
      ],
      "metadata": {
        "colab": {
          "base_uri": "https://localhost:8080/"
        },
        "id": "9sC7fBB4BPya",
        "outputId": "d46e01bd-2a00-47d4-a077-c324ff9781ee"
      },
      "execution_count": 63,
      "outputs": [
        {
          "output_type": "stream",
          "name": "stdout",
          "text": [
            "Requirement already satisfied: matplotlib in /usr/local/lib/python3.11/dist-packages (3.10.0)\n",
            "Requirement already satisfied: seaborn in /usr/local/lib/python3.11/dist-packages (0.13.2)\n",
            "Requirement already satisfied: scikit-learn in /usr/local/lib/python3.11/dist-packages (1.6.1)\n",
            "Requirement already satisfied: contourpy>=1.0.1 in /usr/local/lib/python3.11/dist-packages (from matplotlib) (1.3.1)\n",
            "Requirement already satisfied: cycler>=0.10 in /usr/local/lib/python3.11/dist-packages (from matplotlib) (0.12.1)\n",
            "Requirement already satisfied: fonttools>=4.22.0 in /usr/local/lib/python3.11/dist-packages (from matplotlib) (4.56.0)\n",
            "Requirement already satisfied: kiwisolver>=1.3.1 in /usr/local/lib/python3.11/dist-packages (from matplotlib) (1.4.8)\n",
            "Requirement already satisfied: numpy>=1.23 in /usr/local/lib/python3.11/dist-packages (from matplotlib) (2.0.2)\n",
            "Requirement already satisfied: packaging>=20.0 in /usr/local/lib/python3.11/dist-packages (from matplotlib) (24.2)\n",
            "Requirement already satisfied: pillow>=8 in /usr/local/lib/python3.11/dist-packages (from matplotlib) (11.1.0)\n",
            "Requirement already satisfied: pyparsing>=2.3.1 in /usr/local/lib/python3.11/dist-packages (from matplotlib) (3.2.1)\n",
            "Requirement already satisfied: python-dateutil>=2.7 in /usr/local/lib/python3.11/dist-packages (from matplotlib) (2.8.2)\n",
            "Requirement already satisfied: pandas>=1.2 in /usr/local/lib/python3.11/dist-packages (from seaborn) (2.2.2)\n",
            "Requirement already satisfied: scipy>=1.6.0 in /usr/local/lib/python3.11/dist-packages (from scikit-learn) (1.14.1)\n",
            "Requirement already satisfied: joblib>=1.2.0 in /usr/local/lib/python3.11/dist-packages (from scikit-learn) (1.4.2)\n",
            "Requirement already satisfied: threadpoolctl>=3.1.0 in /usr/local/lib/python3.11/dist-packages (from scikit-learn) (3.6.0)\n",
            "Requirement already satisfied: pytz>=2020.1 in /usr/local/lib/python3.11/dist-packages (from pandas>=1.2->seaborn) (2025.1)\n",
            "Requirement already satisfied: tzdata>=2022.7 in /usr/local/lib/python3.11/dist-packages (from pandas>=1.2->seaborn) (2025.1)\n",
            "Requirement already satisfied: six>=1.5 in /usr/local/lib/python3.11/dist-packages (from python-dateutil>=2.7->matplotlib) (1.17.0)\n"
          ]
        }
      ]
    },
    {
      "cell_type": "code",
      "source": [
        "import matplotlib.pyplot as plt\n",
        "import seaborn as sns\n",
        "from sklearn.metrics import confusion_matrix\n",
        "\n",
        "# -----------------------------------------\n",
        "# 🔹 Confusion Matrix for Diagnosis (Binary Classification)\n",
        "# -----------------------------------------\n",
        "\n",
        "# Compute confusion matrix\n",
        "conf_matrix_diagnosis = confusion_matrix(y_test[\"Diagnosis\"], y_test_pred_diagnosis)\n",
        "\n",
        "# Plot confusion matrix\n",
        "plt.figure(figsize=(6, 5))\n",
        "sns.heatmap(conf_matrix_diagnosis, annot=True, fmt=\"d\", cmap=\"Blues\",\n",
        "            xticklabels=[\"Healthy (0)\", \"Disease (1)\"],\n",
        "            yticklabels=[\"Healthy (0)\", \"Disease (1)\"])\n",
        "plt.xlabel(\"Predicted\")\n",
        "plt.ylabel(\"Actual\")\n",
        "plt.title(\"Confusion Matrix for Diagnosis\")\n",
        "plt.show()\n",
        "\n",
        "# -----------------------------------------\n",
        "# 🔹 Confusion Matrix for Disease_Label (Multi-Class Classification)\n",
        "# -----------------------------------------\n",
        "\n",
        "# Compute confusion matrix\n",
        "conf_matrix_disease = confusion_matrix(y_test[\"Disease_Label\"], y_test_pred_disease)\n",
        "\n",
        "# Plot confusion matrix\n",
        "plt.figure(figsize=(8, 6))\n",
        "sns.heatmap(conf_matrix_disease, annot=True, fmt=\"d\", cmap=\"Oranges\",\n",
        "            xticklabels=[\"Glaucoma (0)\", \"Cataract (1)\", \"Diabetic Retinopathy (2)\",\n",
        "                         \"CNV (3)\", \"DME (4)\", \"Drusen (5)\"],\n",
        "            yticklabels=[\"Glaucoma (0)\", \"Cataract (1)\", \"Diabetic Retinopathy (2)\",\n",
        "                         \"CNV (3)\", \"DME (4)\", \"Drusen (5)\"])\n",
        "plt.xlabel(\"Predicted\")\n",
        "plt.ylabel(\"Actual\")\n",
        "plt.title(\"Confusion Matrix for Disease_Label\")\n",
        "plt.show()\n"
      ],
      "metadata": {
        "id": "ry1K5EvTBsam",
        "outputId": "4f76850a-3ac9-414c-e3b3-75653e693ced",
        "colab": {
          "base_uri": "https://localhost:8080/",
          "height": 1000
        }
      },
      "execution_count": 64,
      "outputs": [
        {
          "output_type": "display_data",
          "data": {
            "text/plain": [
              "<Figure size 600x500 with 2 Axes>"
            ],
            "image/png": "[encoded data removed]"
          },
          "metadata": {}
        },
        {
          "output_type": "display_data",
          "data": {
            "text/plain": [
              "<Figure size 800x600 with 2 Axes>"
            ],
            "image/png": "[encoded data removed]"
          },
          "metadata": {}
        }
      ]
    }
  ],
  "metadata": {
    "colab": {
      "provenance": [],
      "include_colab_link": true
    },
    "kernelspec": {
      "display_name": "Python 3",
      "language": "python",
      "name": "python3"
    },
    "language_info": {
      "file_extension": ".py",
      "mimetype": "text/x-python",
      "name": "python",
      "pygments_lexer": "ipython3",
      "version": "3.8.10"
    }
  },
  "nbformat": 4,
  "nbformat_minor": 0
}