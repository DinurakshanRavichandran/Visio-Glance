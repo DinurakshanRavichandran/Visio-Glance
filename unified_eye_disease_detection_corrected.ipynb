{
  "cells": [
    {
      "cell_type": "markdown",
      "metadata": {
        "id": "view-in-github",
        "colab_type": "text"
      },
      "source": [
        "<a href=\"https://colab.research.google.com/github/DinurakshanRavichandran/Visio-Glance/blob/FINAL-MODEL-NLP/unified_eye_disease_detection_corrected.ipynb\" target=\"_parent\"><img src=\"https://colab.research.google.com/assets/colab-badge.svg\" alt=\"Open In Colab\"/></a>"
      ]
    },
    {
      "cell_type": "markdown",
      "metadata": {
        "id": "qu4m-h9MVrqx"
      },
      "source": [
        "# Unified Eye Disease Detection Model\n",
        "This notebook implements a machine learning pipeline to predict one of six eye diseases based on symptom datasets."
      ]
    },
    {
      "cell_type": "code",
      "execution_count": 22,
      "metadata": {
        "id": "ts1N7Q17Vuyr",
        "colab": {
          "base_uri": "https://localhost:8080/"
        },
        "outputId": "4e5eba5d-1207-40fb-e84a-c7b0bd9d84c5"
      },
      "outputs": [
        {
          "output_type": "stream",
          "name": "stdout",
          "text": [
            "Drive already mounted at /content/drive; to attempt to forcibly remount, call drive.mount(\"/content/drive\", force_remount=True).\n"
          ]
        }
      ],
      "source": [
        "from google.colab import drive\n",
        "drive.mount('/content/drive')"
      ]
    },
    {
      "cell_type": "markdown",
      "source": [
        "01) Concatenating the 6 datasets."
      ],
      "metadata": {
        "id": "bQSK_xVJ_J3d"
      }
    },
    {
      "cell_type": "code",
      "source": [
        "import pandas as pd\n",
        "\n",
        "# Load all datasets (assuming they are stored as CSV files in a folder)\n",
        "datasets = {\n",
        "              \"/content/drive/MyDrive/PROJECT 29/FINAL MODEL/preprocessed_glaucoma_dataset.csv\" : \"Glaucoma\",\n",
        "              \"/content/drive/MyDrive/PROJECT 29/FINAL MODEL/Preprocessed_Cataract_Dataset.csv\" : \"Cataract\",\n",
        "              \"/content/drive/MyDrive/PROJECT 29/FINAL MODEL/Preprocessed_Diabetic_Retinopathy_Dataset.csv\" : \"Diabetic Retinopathy\",\n",
        "              \"/content/drive/MyDrive/PROJECT 29/FINAL MODEL/Preprocessed_CNV_Detection_Dataset.csv\" : \"CNV\",\n",
        "              \"/content/drive/MyDrive/PROJECT 29/FINAL MODEL/Preprocessed_DME_Dataset.csv\" : \"DME\",\n",
        "              \"/content/drive/MyDrive/PROJECT 29/FINAL MODEL/Preprocessed_Drusen_Dataset.csv\" : \"Drusen\"\n",
        "}\n",
        "\n",
        "# Load and label each dataset\n",
        "dataframes = []\n",
        "for file, disease in datasets.items():\n",
        "    df = pd.read_csv(file)  # Load dataset\n",
        "    df[\"Disease_Label\"] = disease  # Add disease label\n",
        "    dataframes.append(df)\n",
        "\n",
        "# Concatenate all datasets\n",
        "merged_df = pd.concat(dataframes, ignore_index=True)\n",
        "\n",
        "# Fill missing values with zero\n",
        "merged_df.fillna(0, inplace=True)\n",
        "\n",
        "# Save the merged dataset\n",
        "merged_df.to_csv(\"/content/drive/MyDrive/PROJECT 29/FINAL MODEL/merged_dataset.csv\", index=False)\n",
        "\n",
        "# Display dataset shape and preview\n",
        "print(f\"Final dataset shape: {merged_df.shape}\")\n",
        "print(merged_df.head())\n"
      ],
      "metadata": {
        "colab": {
          "base_uri": "https://localhost:8080/"
        },
        "id": "HN15p3NP_TZJ",
        "outputId": "d1350f82-0c7a-4ef2-c127-c470d38bde42"
      },
      "execution_count": 32,
      "outputs": [
        {
          "output_type": "stream",
          "name": "stdout",
          "text": [
            "Final dataset shape: (73624, 112)\n",
            "   Age  Intraocular Pressure (IOP)  Cup-to-Disc Ratio (CDR)  Pachymetry  \\\n",
            "0   69                       19.46                     0.42      541.51   \n",
            "1   69                       18.39                     0.72      552.77   \n",
            "2   67                       23.65                     0.72      573.65   \n",
            "3   23                       18.04                     0.61      590.67   \n",
            "4   21                       15.87                     0.30      588.41   \n",
            "\n",
            "   Diagnosis  Visual Symptom_vomiting  Visual Symptom_nausea  \\\n",
            "0          1                      0.0                    1.0   \n",
            "1          1                      0.0                    0.0   \n",
            "2          1                      0.0                    0.0   \n",
            "3          1                      0.0                    1.0   \n",
            "4          1                      0.0                    0.0   \n",
            "\n",
            "   Visual Symptom_eye pain  Visual Symptom_vision loss  \\\n",
            "0                      1.0                         0.0   \n",
            "1                      0.0                         1.0   \n",
            "2                      0.0                         1.0   \n",
            "3                      0.0                         0.0   \n",
            "4                      1.0                         0.0   \n",
            "\n",
            "   Visual Symptom_tunnel vision  ...  Blood Pressure  Cholesterol Levels  \\\n",
            "0                           1.0  ...             0.0                 0.0   \n",
            "1                           1.0  ...             0.0                 0.0   \n",
            "2                           0.0  ...             0.0                 0.0   \n",
            "3                           0.0  ...             0.0                 0.0   \n",
            "4                           1.0  ...             0.0                 0.0   \n",
            "\n",
            "   Smoking_No Smoking_Yes  Visual Symptoms_Blind spots  \\\n",
            "0           0           0                            0   \n",
            "1           0           0                            0   \n",
            "2           0           0                            0   \n",
            "3           0           0                            0   \n",
            "4           0           0                            0   \n",
            "\n",
            "   Visual Symptoms_Blurred vision  Visual Symptoms_Distorted vision  \\\n",
            "0                               0                                 0   \n",
            "1                               0                                 0   \n",
            "2                               0                                 0   \n",
            "3                               0                                 0   \n",
            "4                               0                                 0   \n",
            "\n",
            "   Visual Symptoms_Light sensitivity Visual Symptoms_Night vision problems  \\\n",
            "0                                  0                                     0   \n",
            "1                                  0                                     0   \n",
            "2                                  0                                     0   \n",
            "3                                  0                                     0   \n",
            "4                                  0                                     0   \n",
            "\n",
            "  Visual Symptoms_Vision change  \n",
            "0                             0  \n",
            "1                             0  \n",
            "2                             0  \n",
            "3                             0  \n",
            "4                             0  \n",
            "\n",
            "[5 rows x 112 columns]\n"
          ]
        }
      ]
    },
    {
      "cell_type": "markdown",
      "source": [
        "02) Multi-Class Classification (Detect Specific Disease)"
      ],
      "metadata": {
        "id": "X3cG4oMVASoq"
      }
    },
    {
      "cell_type": "code",
      "source": [
        "from sklearn.preprocessing import LabelEncoder\n",
        "\n",
        "# Encode Disease_Label into numerical values (0-5)\n",
        "label_encoder = LabelEncoder()\n",
        "merged_df[\"Diagnosis\"] = label_encoder.fit_transform(merged_df[\"Disease_Label\"])\n",
        "\n",
        "# Drop the original text label column\n",
        "merged_df.drop(columns=[\"Disease_Label\"], inplace=True)\n",
        "\n",
        "# Save the updated dataset\n",
        "merged_df.to_csv(\"/content/drive/MyDrive/PROJECT 29/FINAL MODEL/merged_multi_class_classification.csv\", index=False)\n",
        "\n",
        "# Print class mapping\n",
        "print(\"Class Mapping:\", dict(enumerate(label_encoder.classes_)))\n",
        "print(\"Multi-class classification dataset prepared!\")\n"
      ],
      "metadata": {
        "colab": {
          "base_uri": "https://localhost:8080/"
        },
        "id": "pxaz2K5b5z-6",
        "outputId": "adb71682-ab45-4136-cf95-3e2761af1fed"
      },
      "execution_count": 33,
      "outputs": [
        {
          "output_type": "stream",
          "name": "stdout",
          "text": [
            "Class Mapping: {0: 'CNV', 1: 'Cataract', 2: 'DME', 3: 'Diabetic Retinopathy', 4: 'Drusen', 5: 'Glaucoma'}\n",
            "Multi-class classification dataset prepared!\n"
          ]
        }
      ]
    },
    {
      "cell_type": "markdown",
      "source": [
        "Step 1: Load and Prepare the Dataset."
      ],
      "metadata": {
        "id": "gfSYzlHZ7BMF"
      }
    },
    {
      "cell_type": "code",
      "source": [
        "import pandas as pd\n",
        "from sklearn.preprocessing import LabelEncoder\n",
        "from sklearn.model_selection import train_test_split\n",
        "from xgboost import XGBClassifier\n",
        "from sklearn.metrics import accuracy_score, classification_report\n",
        "\n",
        "# Load the merged dataset\n",
        "df = pd.read_csv(\"/content/drive/MyDrive/PROJECT 29/FINAL MODEL/merged_dataset.csv\")\n",
        "\n",
        "# Encode the Disease_Label for multi-class classification\n",
        "label_encoder = LabelEncoder()\n",
        "df[\"Diagnosis\"] = label_encoder.fit_transform(df[\"Disease_Label\"])\n",
        "\n",
        "# Drop the original text label column\n",
        "df.drop(columns=[\"Disease_Label\"], inplace=True)\n",
        "\n",
        "# Split features and target\n",
        "X = df.drop(columns=[\"Diagnosis\"])  # Features\n",
        "y = df[\"Diagnosis\"]  # Target variable\n",
        "\n",
        "# Train-test split (80% training, 20% testing)\n",
        "X_train, X_test, y_train, y_test = train_test_split(X, y, test_size=0.2, random_state=42, stratify=y)\n",
        "\n",
        "print(\"Dataset prepared! Shape:\", df.shape)\n",
        "print(\"Class Mapping:\", dict(enumerate(label_encoder.classes_)))\n"
      ],
      "metadata": {
        "colab": {
          "base_uri": "https://localhost:8080/"
        },
        "id": "WyO0YpQV7B3L",
        "outputId": "cef32ee0-7024-46a4-849f-429675f8932f"
      },
      "execution_count": 35,
      "outputs": [
        {
          "output_type": "stream",
          "name": "stderr",
          "text": [
            "<ipython-input-35-5c3ffac6d96c>:8: DtypeWarning: Columns (18,19,20,21,94,95,96,97,98,99,100,104,105,106,107,108,109,110,111) have mixed types. Specify dtype option on import or set low_memory=False.\n",
            "  df = pd.read_csv(\"/content/drive/MyDrive/PROJECT 29/FINAL MODEL/merged_dataset.csv\")\n"
          ]
        },
        {
          "output_type": "stream",
          "name": "stdout",
          "text": [
            "Dataset prepared! Shape: (73624, 111)\n",
            "Class Mapping: {0: 'CNV', 1: 'Cataract', 2: 'DME', 3: 'Diabetic Retinopathy', 4: 'Drusen', 5: 'Glaucoma'}\n"
          ]
        }
      ]
    },
    {
      "cell_type": "markdown",
      "source": [
        " Converting Categorical Columns to Numeric Format."
      ],
      "metadata": {
        "id": "9Ua70z9296rn"
      }
    },
    {
      "cell_type": "code",
      "source": [
        "import pandas as pd\n",
        "\n",
        "# Load dataset\n",
        "df = pd.read_csv(\"/content/drive/MyDrive/PROJECT 29/FINAL MODEL/merged_dataset.csv\")\n",
        "\n",
        "# Identify categorical columns (non-numeric)\n",
        "categorical_cols = df.select_dtypes(include=[\"object\"]).columns\n",
        "\n",
        "# Apply one-hot encoding\n",
        "df = pd.get_dummies(df, columns=categorical_cols, drop_first=True)  # Drop first to avoid multicollinearity\n",
        "\n",
        "# Save the updated dataset\n",
        "df.to_csv(\"/content/drive/MyDrive/PROJECT 29/FINAL MODEL/merged_dataset_encoded.csv\", index=False)\n",
        "\n",
        "print(\"Categorical columns converted! Shape:\", df.shape)\n"
      ],
      "metadata": {
        "colab": {
          "base_uri": "https://localhost:8080/"
        },
        "id": "X8kvh6Bh962t",
        "outputId": "e428b3c4-08e1-4e84-aafa-997908056d3f"
      },
      "execution_count": 38,
      "outputs": [
        {
          "output_type": "stream",
          "name": "stderr",
          "text": [
            "<ipython-input-38-0013f7d94314>:4: DtypeWarning: Columns (18,19,20,21,94,95,96,97,98,99,100,104,105,106,107,108,109,110,111) have mixed types. Specify dtype option on import or set low_memory=False.\n",
            "  df = pd.read_csv(\"/content/drive/MyDrive/PROJECT 29/FINAL MODEL/merged_dataset.csv\")\n"
          ]
        },
        {
          "output_type": "stream",
          "name": "stdout",
          "text": [
            "Categorical columns converted! Shape: (73624, 173)\n"
          ]
        }
      ]
    },
    {
      "cell_type": "markdown",
      "source": [
        "Step 2: Loading the Encoded Dataset and Preparing for Training."
      ],
      "metadata": {
        "id": "tWxr-Vp39Kvx"
      }
    },
    {
      "cell_type": "code",
      "source": [
        "import pandas as pd\n",
        "from sklearn.model_selection import train_test_split\n",
        "from xgboost import XGBClassifier\n",
        "from sklearn.metrics import accuracy_score, classification_report\n",
        "\n",
        "# Load the encoded dataset\n",
        "df = pd.read_csv(\"/content/drive/MyDrive/PROJECT 29/FINAL MODEL/merged_dataset_encoded.csv\")\n",
        "\n",
        "# Separate features and target variable\n",
        "X = df.drop(columns=[\"Diagnosis\"])  # Features\n",
        "y = df[\"Diagnosis\"]  # Target variable\n",
        "\n",
        "# Split into training (80%) and testing (20%) sets\n",
        "X_train, X_test, y_train, y_test = train_test_split(X, y, test_size=0.2, random_state=42, stratify=y)\n",
        "\n",
        "print(\"Data split completed! Train shape:\", X_train.shape, \"Test shape:\", X_test.shape)\n"
      ],
      "metadata": {
        "colab": {
          "base_uri": "https://localhost:8080/"
        },
        "id": "DeqpAuKD9K6q",
        "outputId": "7388b076-8d1c-4c65-9bd2-de892a5a2e8f"
      },
      "execution_count": 40,
      "outputs": [
        {
          "output_type": "stream",
          "name": "stdout",
          "text": [
            "Data split completed! Train shape: (58899, 172) Test shape: (14725, 172)\n"
          ]
        }
      ]
    },
    {
      "cell_type": "markdown",
      "source": [
        "Step 3: Training an XGBoost Model."
      ],
      "metadata": {
        "id": "bpNLpSzz_4yU"
      }
    },
    {
      "cell_type": "code",
      "source": [
        "# Initialize XGBoost model for multi-class classification\n",
        "model = XGBClassifier(\n",
        "    objective=\"multi:softmax\",  # Multi-class classification\n",
        "    num_class=len(y.unique()),  # Number of disease categories\n",
        "    eval_metric=\"mlogloss\",\n",
        "    use_label_encoder=False,\n",
        "    learning_rate=0.05,\n",
        "    n_estimators=500,\n",
        "    max_depth=6,\n",
        "    subsample=0.8,\n",
        "    colsample_bytree=0.8,\n",
        "    random_state=42\n",
        ")\n",
        "\n",
        "# Train the model\n",
        "model.fit(X_train, y_train)\n",
        "\n",
        "print(\"XGBoost Model Trained Successfully!\")\n"
      ],
      "metadata": {
        "colab": {
          "base_uri": "https://localhost:8080/"
        },
        "id": "qLPNTSGk_5Kd",
        "outputId": "3fee9517-a3e4-4e12-d923-021babae8def"
      },
      "execution_count": 41,
      "outputs": [
        {
          "output_type": "stream",
          "name": "stderr",
          "text": [
            "/usr/local/lib/python3.11/dist-packages/xgboost/core.py:158: UserWarning: [18:10:03] WARNING: /workspace/src/learner.cc:740: \n",
            "Parameters: { \"use_label_encoder\" } are not used.\n",
            "\n",
            "  warnings.warn(smsg, UserWarning)\n"
          ]
        },
        {
          "output_type": "stream",
          "name": "stdout",
          "text": [
            "XGBoost Model Trained Successfully!\n"
          ]
        }
      ]
    }
  ],
  "metadata": {
    "colab": {
      "provenance": [],
      "include_colab_link": true
    },
    "kernelspec": {
      "display_name": "Python 3",
      "language": "python",
      "name": "python3"
    },
    "language_info": {
      "file_extension": ".py",
      "mimetype": "text/x-python",
      "name": "python",
      "pygments_lexer": "ipython3",
      "version": "3.8.10"
    }
  },
  "nbformat": 4,
  "nbformat_minor": 0
}