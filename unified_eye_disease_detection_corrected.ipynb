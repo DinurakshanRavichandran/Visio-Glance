{
  "cells": [
    {
      "cell_type": "markdown",
      "metadata": {
        "id": "view-in-github",
        "colab_type": "text"
      },
      "source": [
        "<a href=\"https://colab.research.google.com/github/DinurakshanRavichandran/Visio-Glance/blob/Pre-Processed-Datasets-NLP/unified_eye_disease_detection_corrected.ipynb\" target=\"_parent\"><img src=\"https://colab.research.google.com/assets/colab-badge.svg\" alt=\"Open In Colab\"/></a>"
      ]
    },
    {
      "cell_type": "markdown",
      "metadata": {
        "id": "qu4m-h9MVrqx"
      },
      "source": [
        "# Unified Eye Disease Detection Model\n",
        "This notebook implements a machine learning pipeline to predict one of six eye diseases based on symptom datasets."
      ]
    },
    {
      "cell_type": "code",
      "execution_count": 8,
      "metadata": {
        "id": "ts1N7Q17Vuyr",
        "colab": {
          "base_uri": "https://localhost:8080/"
        },
        "outputId": "030154d3-6d93-4888-8b7c-22bbe8eff20b"
      },
      "outputs": [
        {
          "output_type": "stream",
          "name": "stdout",
          "text": [
            "Drive already mounted at /content/drive; to attempt to forcibly remount, call drive.mount(\"/content/drive\", force_remount=True).\n"
          ]
        }
      ],
      "source": [
        "from google.colab import drive\n",
        "drive.mount('/content/drive')"
      ]
    },
    {
      "cell_type": "markdown",
      "source": [
        "01) Concatenating the 6 datasets."
      ],
      "metadata": {
        "id": "bQSK_xVJ_J3d"
      }
    },
    {
      "cell_type": "code",
      "source": [
        "import pandas as pd\n",
        "\n",
        "# Load all datasets (assuming they are stored as CSV files in a folder)\n",
        "datasets = {\n",
        "              \"/content/drive/MyDrive/PROJECT 29/FINAL MODEL/preprocessed_glaucoma_dataset.csv\" : \"Glaucoma\",\n",
        "              \"/content/drive/MyDrive/PROJECT 29/FINAL MODEL/Preprocessed_Cataract_Dataset.csv\" : \"Cataract\",\n",
        "              \"/content/drive/MyDrive/PROJECT 29/FINAL MODEL/Preprocessed_Diabetic_Retinopathy_Dataset.csv\" : \"Diabetic Retinopathy\",\n",
        "              \"/content/drive/MyDrive/PROJECT 29/FINAL MODEL/Preprocessed_CNV_Detection_Dataset.csv\" : \"CNV\",\n",
        "              \"/content/drive/MyDrive/PROJECT 29/FINAL MODEL/Preprocessed_DME_Dataset.csv\" : \"DME\",\n",
        "              \"/content/drive/MyDrive/PROJECT 29/FINAL MODEL/Preprocessed_Drusen_Dataset.csv\" : \"Drusen\"\n",
        "}\n",
        "\n",
        "# Load and label each dataset\n",
        "dataframes = []\n",
        "for file, disease in datasets.items():\n",
        "    df = pd.read_csv(file)  # Load dataset\n",
        "    df[\"Disease_Label\"] = disease  # Add disease label\n",
        "    dataframes.append(df)\n",
        "\n",
        "# Concatenate all datasets\n",
        "merged_df = pd.concat(dataframes, ignore_index=True)\n",
        "\n",
        "# Fill missing values with zero\n",
        "merged_df.fillna(0, inplace=True)\n",
        "\n",
        "# Save the merged dataset\n",
        "merged_df.to_csv(\"/content/drive/MyDrive/PROJECT 29/FINAL MODEL/merged_dataset.csv\", index=False)\n",
        "\n",
        "# Display dataset shape and preview\n",
        "print(f\"Final dataset shape: {merged_df.shape}\")\n",
        "print(merged_df.head())\n"
      ],
      "metadata": {
        "colab": {
          "base_uri": "https://localhost:8080/"
        },
        "id": "HN15p3NP_TZJ",
        "outputId": "7f56da46-0a66-4848-864c-9478a811805f"
      },
      "execution_count": 16,
      "outputs": [
        {
          "output_type": "stream",
          "name": "stdout",
          "text": [
            "Final dataset shape: (73624, 112)\n",
            "   Age  Intraocular Pressure (IOP)  Cup-to-Disc Ratio (CDR)  Pachymetry  \\\n",
            "0   69                       19.46                     0.42      541.51   \n",
            "1   69                       18.39                     0.72      552.77   \n",
            "2   67                       23.65                     0.72      573.65   \n",
            "3   23                       18.04                     0.61      590.67   \n",
            "4   21                       15.87                     0.30      588.41   \n",
            "\n",
            "   Diagnosis  Visual Symptom_vomiting  Visual Symptom_nausea  \\\n",
            "0          1                      0.0                    1.0   \n",
            "1          1                      0.0                    0.0   \n",
            "2          1                      0.0                    0.0   \n",
            "3          1                      0.0                    1.0   \n",
            "4          1                      0.0                    0.0   \n",
            "\n",
            "   Visual Symptom_eye pain  Visual Symptom_vision loss  \\\n",
            "0                      1.0                         0.0   \n",
            "1                      0.0                         1.0   \n",
            "2                      0.0                         1.0   \n",
            "3                      0.0                         0.0   \n",
            "4                      1.0                         0.0   \n",
            "\n",
            "   Visual Symptom_tunnel vision  ...  Blood Pressure  Cholesterol Levels  \\\n",
            "0                           1.0  ...             0.0                 0.0   \n",
            "1                           1.0  ...             0.0                 0.0   \n",
            "2                           0.0  ...             0.0                 0.0   \n",
            "3                           0.0  ...             0.0                 0.0   \n",
            "4                           1.0  ...             0.0                 0.0   \n",
            "\n",
            "   Smoking_No Smoking_Yes  Visual Symptoms_Blind spots  \\\n",
            "0           0           0                            0   \n",
            "1           0           0                            0   \n",
            "2           0           0                            0   \n",
            "3           0           0                            0   \n",
            "4           0           0                            0   \n",
            "\n",
            "   Visual Symptoms_Blurred vision  Visual Symptoms_Distorted vision  \\\n",
            "0                               0                                 0   \n",
            "1                               0                                 0   \n",
            "2                               0                                 0   \n",
            "3                               0                                 0   \n",
            "4                               0                                 0   \n",
            "\n",
            "   Visual Symptoms_Light sensitivity Visual Symptoms_Night vision problems  \\\n",
            "0                                  0                                     0   \n",
            "1                                  0                                     0   \n",
            "2                                  0                                     0   \n",
            "3                                  0                                     0   \n",
            "4                                  0                                     0   \n",
            "\n",
            "  Visual Symptoms_Vision change  \n",
            "0                             0  \n",
            "1                             0  \n",
            "2                             0  \n",
            "3                             0  \n",
            "4                             0  \n",
            "\n",
            "[5 rows x 112 columns]\n"
          ]
        }
      ]
    },
    {
      "cell_type": "markdown",
      "source": [
        "02) Multi-Class Classification (Detect Specific Disease)"
      ],
      "metadata": {
        "id": "X3cG4oMVASoq"
      }
    },
    {
      "cell_type": "code",
      "source": [
        "from sklearn.preprocessing import LabelEncoder\n",
        "\n",
        "# Encode Disease_Label into numerical values (0-5)\n",
        "label_encoder = LabelEncoder()\n",
        "merged_df[\"Diagnosis\"] = label_encoder.fit_transform(merged_df[\"Disease_Label\"])\n",
        "\n",
        "# Drop the original text label column\n",
        "merged_df.drop(columns=[\"Disease_Label\"], inplace=True)\n",
        "\n",
        "# Save the updated dataset\n",
        "merged_df.to_csv(\"merged_multi_class_classification.csv\", index=False)\n",
        "\n",
        "# Print class mapping\n",
        "print(\"Class Mapping:\", dict(enumerate(label_encoder.classes_)))\n",
        "print(\"Multi-class classification dataset prepared!\")\n"
      ],
      "metadata": {
        "colab": {
          "base_uri": "https://localhost:8080/"
        },
        "id": "pxaz2K5b5z-6",
        "outputId": "8ce15143-34d7-45cc-ea29-480e579210b4"
      },
      "execution_count": 17,
      "outputs": [
        {
          "output_type": "stream",
          "name": "stdout",
          "text": [
            "Class Mapping: {0: 'CNV', 1: 'Cataract', 2: 'DME', 3: 'Diabetic Retinopathy', 4: 'Drusen', 5: 'Glaucoma'}\n",
            "Multi-class classification dataset prepared!\n"
          ]
        }
      ]
    }
  ],
  "metadata": {
    "colab": {
      "provenance": [],
      "include_colab_link": true
    },
    "kernelspec": {
      "display_name": "Python 3",
      "language": "python",
      "name": "python3"
    },
    "language_info": {
      "file_extension": ".py",
      "mimetype": "text/x-python",
      "name": "python",
      "pygments_lexer": "ipython3",
      "version": "3.8.10"
    }
  },
  "nbformat": 4,
  "nbformat_minor": 0
}