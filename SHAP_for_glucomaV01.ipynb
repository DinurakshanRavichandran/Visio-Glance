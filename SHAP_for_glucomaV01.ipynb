{
  "nbformat": 4,
  "nbformat_minor": 0,
  "metadata": {
    "colab": {
      "provenance": [],
      "authorship_tag": "ABX9TyOs/rKD1tDK3puOQ5f6cdS2",
      "include_colab_link": true
    },
    "kernelspec": {
      "name": "python3",
      "display_name": "Python 3"
    },
    "language_info": {
      "name": "python"
    }
  },
  "cells": [
    {
      "cell_type": "markdown",
      "metadata": {
        "id": "view-in-github",
        "colab_type": "text"
      },
      "source": [
        "<a href=\"https://colab.research.google.com/github/DinurakshanRavichandran/Visio-Glance/blob/XAI/SHAP_for_glucomaV01.ipynb\" target=\"_parent\"><img src=\"https://colab.research.google.com/assets/colab-badge.svg\" alt=\"Open In Colab\"/></a>"
      ]
    },
    {
      "cell_type": "code",
      "execution_count": null,
      "metadata": {
        "id": "umNpdXAbRK2Q"
      },
      "outputs": [],
      "source": [
        "!pip install shap\n",
        "import shap\n",
        "import numpy as np  # You'll likely need NumPy for array operations\n",
        "\n",
        "# Assuming 'model' is your trained Logistic Regression model and 'X_train' is your training data\n",
        "explainer = shap.LinearExplainer(model, X_train)\n",
        "\n",
        "# For a single prediction:\n",
        "shap_values = explainer.shap_values(X_test[0])  # Replace 0 with the index of the instance you want to explain\n",
        "\n",
        "# For multiple predictions (e.g., the entire test set):\n",
        "shap_values = explainer.shap_values(X_test)\n",
        "\n",
        "print(shap_values.shape)\n",
        "\n",
        "# Calculate the mean absolute SHAP values across all predictions for global feature importance:\n",
        "mean_shap_values = np.abs(shap_values).mean(axis=0)\n",
        "\n",
        "shap.force_plot(explainer.expected_value, shap_values[0], X_test[0]) # Replace 0 as needed\n",
        "\n",
        "shap.summary_plot(shap_values, X_test, feature_names=tfidf.get_feature_names_out())\n",
        "\n",
        "\n"
      ]
    }
  ]
}