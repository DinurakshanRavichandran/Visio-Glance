{
  "nbformat": 4,
  "nbformat_minor": 0,
  "metadata": {
    "colab": {
      "provenance": [],
      "authorship_tag": "ABX9TyMtcxmj6Bouuo0QOLGK1YiT",
      "include_colab_link": true
    },
    "kernelspec": {
      "name": "python3",
      "display_name": "Python 3"
    },
    "language_info": {
      "name": "python"
    }
  },
  "cells": [
    {
      "cell_type": "markdown",
      "metadata": {
        "id": "view-in-github",
        "colab_type": "text"
      },
      "source": [
        "<a href=\"https://colab.research.google.com/github/DinurakshanRavichandran/Visio-Glance/blob/Pre-Processed-Datasets-NLP/glaucomaPPFinal.ipynb\" target=\"_parent\"><img src=\"https://colab.research.google.com/assets/colab-badge.svg\" alt=\"Open In Colab\"/></a>"
      ]
    },
    {
      "cell_type": "code",
      "execution_count": 1,
      "metadata": {
        "colab": {
          "base_uri": "https://localhost:8080/"
        },
        "id": "M8-jIg_3aC-4",
        "outputId": "526b41f5-4f92-4e86-c5a7-6f88e1f7b5e1"
      },
      "outputs": [
        {
          "output_type": "stream",
          "name": "stdout",
          "text": [
            "Mounted at /content/drive\n"
          ]
        }
      ],
      "source": [
        "#mount drive\n",
        "from google.colab import drive\n",
        "drive.mount('/content/drive')"
      ]
    },
    {
      "cell_type": "code",
      "source": [
        "import pandas as pd\n",
        "from sklearn.preprocessing import LabelEncoder\n",
        "from sklearn.impute import SimpleImputer\n",
        "import numpy as np\n",
        "\n",
        "# Load the dataset\n",
        "data_path = '/content/drive/MyDrive/PROJECT 29/DATASETS/glaucoma_dataset.csv'\n",
        "glaucoma_data = pd.read_csv(data_path)\n",
        "\n",
        "# Columns to drop\n",
        "columns_to_drop = ['Patient ID', 'Gender', 'Visual Acuity Measurements', 'Medical History', 'Medication Usage',\n",
        "                   'Cataract Status', 'Angle Closure Status', 'Glaucoma Type', 'Visual Field Test Results', 'Family History', 'Optical Coherence Tomography (OCT) Results']\n",
        "glaucoma_data.drop(columns=columns_to_drop, inplace=True)\n",
        "\n",
        "# Handle Missing Values\n",
        "imputer = SimpleImputer(strategy='most_frequent')\n",
        "glaucoma_data = pd.DataFrame(imputer.fit_transform(glaucoma_data), columns=glaucoma_data.columns)\n",
        "\n",
        "# Simplified Text Processing for Visual Symptoms\n",
        "def simple_preprocess_text(text):\n",
        "    text = text.lower()\n",
        "    symptoms = ['vomiting', 'nausea', 'eye pain', 'vision loss', 'tunnel vision', 'halos around lights', 'redness in the eye', 'blurred vision']\n",
        "    symptom_presence = {f'Visual Symptoms_{symptom}': int(symptom in text) for symptom in symptoms}\n",
        "    return symptom_presence\n",
        "\n",
        "# Apply the text processing to each row and expand the dictionary to dataframe columns\n",
        "symptoms_df = glaucoma_data['Visual Symptoms'].apply(simple_preprocess_text).apply(pd.Series)\n",
        "# Merge the new columns back to the original dataframe\n",
        "glaucoma_data = pd.concat([glaucoma_data.drop('Visual Symptoms', axis=1), symptoms_df], axis=1)\n",
        "\n",
        "# Encode the target variable 'Diagnosis'\n",
        "label_encoder = LabelEncoder()\n",
        "glaucoma_data['Diagnosis'] = label_encoder.fit_transform(glaucoma_data['Diagnosis'])\n",
        "\n",
        "# Save Preprocessed Data\n",
        "output_path = '/content/drive/MyDrive/PROJECT 29/FINAL MODEL/preprocessed_glaucoma_dataset.csv'\n",
        "glaucoma_data.to_csv(output_path, index=False)\n",
        "\n",
        "# Output the path of the saved file\n",
        "print(output_path)\n",
        "\n",
        "# Print the head of the preprocessed dataset\n",
        "print(glaucoma_data.head())\n",
        "\n",
        "#print values for Diagnosis column\n",
        "print(glaucoma_data['Diagnosis'].value_counts())\n"
      ],
      "metadata": {
        "colab": {
          "base_uri": "https://localhost:8080/"
        },
        "id": "Qci4sgLUt9n3",
        "outputId": "e317cff2-8675-47a0-e0a5-14fc511ae76d"
      },
      "execution_count": 3,
      "outputs": [
        {
          "output_type": "stream",
          "name": "stdout",
          "text": [
            "/content/drive/MyDrive/PROJECT 29/FINAL MODEL/preprocessed_glaucoma_dataset.csv\n",
            "  Age Intraocular Pressure (IOP) Cup-to-Disc Ratio (CDR) Pachymetry  \\\n",
            "0  69                      19.46                    0.42     541.51   \n",
            "1  69                      18.39                    0.72     552.77   \n",
            "2  67                      23.65                    0.72     573.65   \n",
            "3  23                      18.04                    0.61     590.67   \n",
            "4  21                      15.87                     0.3     588.41   \n",
            "\n",
            "   Diagnosis  Visual Symptoms_vomiting  Visual Symptoms_nausea  \\\n",
            "0          1                         0                       1   \n",
            "1          1                         0                       0   \n",
            "2          1                         0                       0   \n",
            "3          1                         0                       1   \n",
            "4          1                         0                       0   \n",
            "\n",
            "   Visual Symptoms_eye pain  Visual Symptoms_vision loss  \\\n",
            "0                         1                            0   \n",
            "1                         0                            1   \n",
            "2                         0                            1   \n",
            "3                         0                            0   \n",
            "4                         1                            0   \n",
            "\n",
            "   Visual Symptoms_tunnel vision  Visual Symptoms_halos around lights  \\\n",
            "0                              1                                    0   \n",
            "1                              1                                    0   \n",
            "2                              0                                    1   \n",
            "3                              0                                    1   \n",
            "4                              1                                    0   \n",
            "\n",
            "   Visual Symptoms_redness in the eye  Visual Symptoms_blurred vision  \n",
            "0                                   0                               0  \n",
            "1                                   1                               0  \n",
            "2                                   1                               0  \n",
            "3                                   0                               0  \n",
            "4                                   0                               0  \n",
            "Diagnosis\n",
            "0    5012\n",
            "1    4988\n",
            "Name: count, dtype: int64\n"
          ]
        }
      ]
    },
    {
      "cell_type": "code",
      "source": [],
      "metadata": {
        "id": "-SaI2GcH8jdD"
      },
      "execution_count": null,
      "outputs": []
    }
  ]
}