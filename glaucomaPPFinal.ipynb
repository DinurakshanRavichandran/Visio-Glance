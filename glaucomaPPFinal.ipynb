{
  "nbformat": 4,
  "nbformat_minor": 0,
  "metadata": {
    "colab": {
      "provenance": [],
      "authorship_tag": "ABX9TyNWRSTeifAlkygnky/q5Y2b",
      "include_colab_link": true
    },
    "kernelspec": {
      "name": "python3",
      "display_name": "Python 3"
    },
    "language_info": {
      "name": "python"
    }
  },
  "cells": [
    {
      "cell_type": "markdown",
      "metadata": {
        "id": "view-in-github",
        "colab_type": "text"
      },
      "source": [
        "<a href=\"https://colab.research.google.com/github/DinurakshanRavichandran/Visio-Glance/blob/Pre-Processed-Datasets-NLP/glaucomaPPFinal.ipynb\" target=\"_parent\"><img src=\"https://colab.research.google.com/assets/colab-badge.svg\" alt=\"Open In Colab\"/></a>"
      ]
    },
    {
      "cell_type": "code",
      "execution_count": 1,
      "metadata": {
        "colab": {
          "base_uri": "https://localhost:8080/"
        },
        "id": "M8-jIg_3aC-4",
        "outputId": "da27c538-177d-4dd8-937a-49e8d7c25128"
      },
      "outputs": [
        {
          "output_type": "stream",
          "name": "stdout",
          "text": [
            "Mounted at /content/drive\n"
          ]
        }
      ],
      "source": [
        "#mount drive\n",
        "from google.colab import drive\n",
        "drive.mount('/content/drive')"
      ]
    },
    {
      "cell_type": "code",
      "source": [
        "import pandas as pd\n",
        "from sklearn.preprocessing import LabelEncoder, StandardScaler\n",
        "from sklearn.impute import SimpleImputer\n",
        "import re\n",
        "import numpy as np\n",
        "\n",
        "# Load the dataset\n",
        "data_path = '/content/drive/MyDrive/PROJECT 29/DATASETS/glaucoma_dataset.csv'\n",
        "glaucoma_data = pd.read_csv(data_path)\n",
        "\n",
        "# Columns to drop\n",
        "columns_to_drop = ['Patient ID','Gender','Visual Acuity Measurements', 'Medical History', 'Medication Usage',\n",
        "                   'Cataract Status', 'Angle Closure Status', 'Glaucoma Type']\n",
        "glaucoma_data.drop(columns=columns_to_drop, inplace=True)\n",
        "\n",
        "# Handle Missing Values\n",
        "imputer = SimpleImputer(strategy='most_frequent')\n",
        "glaucoma_data = pd.DataFrame(imputer.fit_transform(glaucoma_data), columns=glaucoma_data.columns)\n",
        "\n",
        "# Feature Engineering for OCT and Visual Field Test Results\n",
        "def extract_numerical_features(text, pattern):\n",
        "    match = re.search(pattern, text)\n",
        "    return float(match.group(1)) if match else np.nan\n",
        "\n",
        "glaucoma_data['RNFL Thickness'] = glaucoma_data['Optical Coherence Tomography (OCT) Results'].apply(\n",
        "    lambda x: extract_numerical_features(x, r'RNFL Thickness: (\\d+\\.\\d+)')\n",
        ")\n",
        "glaucoma_data['GCC Thickness'] = glaucoma_data['Optical Coherence Tomography (OCT) Results'].apply(\n",
        "    lambda x: extract_numerical_features(x, r'GCC Thickness: (\\d+\\.\\d+)')\n",
        ")\n",
        "\n",
        "# Simplified Text Processing for Visual Symptoms\n",
        "def simple_preprocess_text(text):\n",
        "    keywords = ['vomiting','nausea','eye pain', 'vision loss', 'tunnel vision', 'halos around lights', 'redness in the eye','blurred vision']\n",
        "    text = text.lower()\n",
        "    found_keywords = [keyword for keyword in keywords if keyword in text]\n",
        "    return ' '.join(found_keywords)\n",
        "\n",
        "glaucoma_data['Visual Symptoms'] = glaucoma_data['Visual Symptoms'].apply(simple_preprocess_text)\n",
        "\n",
        "# Encode Categorical Data\n",
        "encoder = LabelEncoder()\n",
        "for col in ['Family History']:\n",
        "    glaucoma_data[col] = encoder.fit_transform(glaucoma_data[col])\n",
        "\n",
        "# Encode the target variable 'Diagnosis'\n",
        "glaucoma_data['Diagnosis'] = encoder.fit_transform(glaucoma_data['Diagnosis'])\n",
        "\n",
        "# Normalize/Scale Numerical Data\n",
        "scaler = StandardScaler()\n",
        "numerical_cols = ['Intraocular Pressure (IOP)', 'Cup-to-Disc Ratio (CDR)', 'Pachymetry', 'RNFL Thickness', 'GCC Thickness']\n",
        "glaucoma_data[numerical_cols] = scaler.fit_transform(glaucoma_data[numerical_cols].fillna(glaucoma_data[numerical_cols].mean()))\n",
        "\n",
        "# Save Preprocessed Data\n",
        "output_path = '/content/drive/MyDrive/PROJECT 29/FINAL MODEL/preprocessed_glaucoma_dataset.csv'\n",
        "glaucoma_data.to_csv(output_path, index=False)\n",
        "\n",
        "# Output the path of the saved file\n",
        "print(output_path)\n",
        "\n",
        "#print the head of the preprocessed dataset\n",
        "print(glaucoma_data.head())\n"
      ],
      "metadata": {
        "colab": {
          "base_uri": "https://localhost:8080/"
        },
        "id": "Qci4sgLUt9n3",
        "outputId": "0bf84664-9650-4f5a-9d7d-0de043c86971"
      },
      "execution_count": 6,
      "outputs": [
        {
          "output_type": "stream",
          "name": "stderr",
          "text": [
            "<ipython-input-6-962eed8e70f8>:52: FutureWarning: Downcasting object dtype arrays on .fillna, .ffill, .bfill is deprecated and will change in a future version. Call result.infer_objects(copy=False) instead. To opt-in to the future behavior, set `pd.set_option('future.no_silent_downcasting', True)`\n",
            "  glaucoma_data[numerical_cols] = scaler.fit_transform(glaucoma_data[numerical_cols].fillna(glaucoma_data[numerical_cols].mean()))\n"
          ]
        },
        {
          "output_type": "stream",
          "name": "stdout",
          "text": [
            "/content/drive/MyDrive/PROJECT 29/FINAL MODEL/preprocessed_glaucoma_dataset.csv\n",
            "  Age  Intraocular Pressure (IOP)  Cup-to-Disc Ratio (CDR)  Family History  \\\n",
            "0  69                    0.448238                -0.889954               0   \n",
            "1  69                    0.202593                 1.188779               0   \n",
            "2  67                    1.410156                 1.188779               0   \n",
            "3  23                    0.122242                 0.426577               0   \n",
            "4  21                   -0.375935                -1.721448               0   \n",
            "\n",
            "              Visual Field Test Results  \\\n",
            "0  Sensitivity: 0.54, Specificity: 0.75   \n",
            "1  Sensitivity: 0.72, Specificity: 0.88   \n",
            "2   Sensitivity: 0.56, Specificity: 0.8   \n",
            "3   Sensitivity: 0.6, Specificity: 0.93   \n",
            "4   Sensitivity: 0.82, Specificity: 0.9   \n",
            "\n",
            "          Optical Coherence Tomography (OCT) Results  Pachymetry  \\\n",
            "0  RNFL Thickness: 86.48 µm, GCC Thickness: 64.14...   -0.284554   \n",
            "1  RNFL Thickness: 96.88 µm, GCC Thickness: 56.48...    0.105048   \n",
            "2  RNFL Thickness: 89.81 µm, GCC Thickness: 59.05...    0.827507   \n",
            "3  RNFL Thickness: 87.25 µm, GCC Thickness: 63.98...    1.416408   \n",
            "4  RNFL Thickness: 82.61 µm, GCC Thickness: 66.01...    1.338211   \n",
            "\n",
            "                                     Visual Symptoms  Diagnosis  \\\n",
            "0                      nausea eye pain tunnel vision          1   \n",
            "1       vision loss tunnel vision redness in the eye          1   \n",
            "2  vision loss halos around lights redness in the...          1   \n",
            "3                         nausea halos around lights          1   \n",
            "4                             eye pain tunnel vision          1   \n",
            "\n",
            "   RNFL Thickness  GCC Thickness  \n",
            "0       -0.132907       0.375042  \n",
            "1        1.316332      -1.392495  \n",
            "2        0.331128      -0.799470  \n",
            "3       -0.025608       0.338122  \n",
            "4       -0.672191       0.806542  \n"
          ]
        }
      ]
    },
    {
      "cell_type": "code",
      "source": [],
      "metadata": {
        "id": "-SaI2GcH8jdD"
      },
      "execution_count": null,
      "outputs": []
    }
  ]
}